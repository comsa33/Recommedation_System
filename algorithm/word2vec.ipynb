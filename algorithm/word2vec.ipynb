{
 "cells": [
  {
   "cell_type": "code",
   "execution_count": 1,
   "id": "f795da6d-3b93-4932-8537-1cd8e7eb4d6e",
   "metadata": {
    "tags": []
   },
   "outputs": [],
   "source": [
    "import json\n",
    "import pandas as pd\n",
    "import numpy as np\n",
    "\n",
    "with open('sample_dataset_1/bestshots.json', 'r') as f:\n",
    "    best= json.load(f)\n",
    "# print(json.dumps(best, indent='\\t'))"
   ]
  },
  {
   "cell_type": "code",
   "execution_count": 2,
   "id": "b4fcf5c6-b438-4717-a62e-a9efe3fdda9b",
   "metadata": {},
   "outputs": [],
   "source": [
    "with open('sample_dataset_1/itemsets.json', 'r') as f2:\n",
    "    item = json.load(f2)"
   ]
  },
  {
   "cell_type": "code",
   "execution_count": 3,
   "id": "882f56e6-64e0-4336-aef4-56df874e4a05",
   "metadata": {},
   "outputs": [],
   "source": [
    "with open('sample_dataset_2/products_meta.json', 'r') as f2:\n",
    "    product = json.load(f2)"
   ]
  },
  {
   "cell_type": "code",
   "execution_count": 4,
   "id": "6d5c31f7-07e9-4742-8f00-fa630fcbd074",
   "metadata": {},
   "outputs": [],
   "source": [
    "with open('sample_dataset_2/category_infos.json') as f3:\n",
    "    category = json.load(f3)"
   ]
  },
  {
   "cell_type": "code",
   "execution_count": 5,
   "id": "43efa5da-01cb-476e-9df4-5de26a9a5448",
   "metadata": {},
   "outputs": [],
   "source": [
    "best_df = pd.DataFrame(best)\n",
    "item_df = pd.DataFrame(item)\n",
    "prod = pd.DataFrame(product)\n",
    "\n",
    "prod = prod.T\n",
    "prod.reset_index(drop=True, inplace=True)"
   ]
  },
  {
   "cell_type": "code",
   "execution_count": 6,
   "id": "e15f39ff-ca76-4e26-b81a-b8e6b165b199",
   "metadata": {
    "tags": []
   },
   "outputs": [],
   "source": [
    "best_b = best_df[best_df['enterprise_id'] == 'B57D4F97C0E44A11']\n",
    "best_b.reset_index(inplace=True, drop=True)\n",
    "best_4 = best_df[best_df['enterprise_id'] != 'B57D4F97C0E44A11']\n",
    "best_4.reset_index(inplace=True, drop=True)"
   ]
  },
  {
   "cell_type": "code",
   "execution_count": 7,
   "id": "f96ab2cc-47fe-4475-b7f0-9ff402b4478c",
   "metadata": {
    "tags": []
   },
   "outputs": [],
   "source": [
    "col = ['_id', 'projectId', 'enterpriseId', 'userId', 'items', 'tags']\n",
    "item_col = item_df[col]\n",
    "\n",
    "item_4 = item_col[item_col['enterpriseId'] == '421B6D0E746C4E6D']\n",
    "item_4.reset_index(inplace=True, drop=True)\n",
    "item_b = item_col[item_col['enterpriseId'] != '421B6D0E746C4E6D']\n",
    "item_b.reset_index(inplace=True, drop=True)"
   ]
  },
  {
   "cell_type": "code",
   "execution_count": 8,
   "id": "8f9eb699-6214-4b4f-9fbf-300607fce80f",
   "metadata": {},
   "outputs": [],
   "source": [
    "x = [i for i in category.keys()]\n",
    "\n",
    "cate_4 = pd.DataFrame(category[x[0]])\n",
    "cate_b = pd.DataFrame(category[x[1]])"
   ]
  },
  {
   "cell_type": "code",
   "execution_count": 9,
   "id": "57a93660-0c89-42a5-818c-e05f7d975030",
   "metadata": {
    "tags": []
   },
   "outputs": [
    {
     "name": "stderr",
     "output_type": "stream",
     "text": [
      "/var/folders/9_/rnj5svk11p1157tkdv28yb6r0000gn/T/ipykernel_21864/766242835.py:1: SettingWithCopyWarning: \n",
      "A value is trying to be set on a copy of a slice from a DataFrame\n",
      "\n",
      "See the caveats in the documentation: https://pandas.pydata.org/pandas-docs/stable/user_guide/indexing.html#returning-a-view-versus-a-copy\n",
      "  best_4.rename(columns={'enterprise_id': 'enterpriseId'}, inplace=True)\n",
      "/var/folders/9_/rnj5svk11p1157tkdv28yb6r0000gn/T/ipykernel_21864/766242835.py:2: SettingWithCopyWarning: \n",
      "A value is trying to be set on a copy of a slice from a DataFrame\n",
      "\n",
      "See the caveats in the documentation: https://pandas.pydata.org/pandas-docs/stable/user_guide/indexing.html#returning-a-view-versus-a-copy\n",
      "  best_b.rename(columns={'enterprise_id': 'enterpriseId'}, inplace=True)\n"
     ]
    }
   ],
   "source": [
    "best_4.rename(columns={'enterprise_id': 'enterpriseId'}, inplace=True)\n",
    "best_b.rename(columns={'enterprise_id': 'enterpriseId'}, inplace=True)"
   ]
  },
  {
   "cell_type": "code",
   "execution_count": 10,
   "id": "67072d47-5782-4a75-9302-b112ddd42209",
   "metadata": {},
   "outputs": [],
   "source": [
    "best_item_4 = pd.merge(best_4, item_4, how='outer', on=['projectId', 'enterpriseId'])\n",
    "\n",
    "best_item_b = pd.merge(best_b, item_b, how='outer', on=['projectId', 'enterpriseId'])"
   ]
  },
  {
   "cell_type": "code",
   "execution_count": 11,
   "id": "43e77911-9359-455a-8e98-5662898056e6",
   "metadata": {
    "tags": []
   },
   "outputs": [],
   "source": [
    "best_item_4.drop(columns=['datetime', '_id'], inplace=True)\n",
    "best_item_b.drop(columns=['datetime', '_id'], inplace=True)"
   ]
  },
  {
   "cell_type": "code",
   "execution_count": 12,
   "id": "5cf6c8f9-64ed-4d95-a49d-ddc7b53e7f19",
   "metadata": {},
   "outputs": [],
   "source": [
    "def product_id(best_item):\n",
    "    x = best_item.copy()\n",
    "    y = []\n",
    "    for i in x:\n",
    "        y.append(i['productId'])\n",
    "    x = y\n",
    "    return x"
   ]
  },
  {
   "cell_type": "code",
   "execution_count": 13,
   "id": "517d7bd7-9550-414d-b19b-9f989bd3a383",
   "metadata": {
    "tags": []
   },
   "outputs": [],
   "source": [
    "best_item_4['item'] = best_item_4['items'].apply(product_id)\n",
    "best_item_4.drop(columns=['items'], inplace=True)\n",
    "\n",
    "best_item_b['item'] = best_item_b['items'].apply(product_id)\n",
    "best_item_b.drop(columns=['items'], inplace=True)"
   ]
  },
  {
   "cell_type": "code",
   "execution_count": 14,
   "id": "e049c6bd-6dc8-4670-a0ab-d354e91aba1a",
   "metadata": {},
   "outputs": [],
   "source": [
    "def prod_name(categories):\n",
    "    x = categories.copy()\n",
    "    w = []\n",
    "\n",
    "    for i in x:\n",
    "        for z in prod['_id']:\n",
    "            if z in i:\n",
    "                b = prod.iloc[np.where(prod['_id'] == z)]\n",
    "                w.append(b['name'].iloc[0])\n",
    "    return w"
   ]
  },
  {
   "cell_type": "code",
   "execution_count": 15,
   "id": "5744e80b-fa54-4bb0-870b-e5567c261f2f",
   "metadata": {
    "tags": []
   },
   "outputs": [],
   "source": [
    "best_item_4['name'] = best_item_4['item'].apply(prod_name)\n",
    "\n",
    "best_item_b['name'] = best_item_b['item'].apply(prod_name)"
   ]
  },
  {
   "cell_type": "code",
   "execution_count": 16,
   "id": "9092d176-9221-46eb-a971-c22b722304a4",
   "metadata": {
    "tags": []
   },
   "outputs": [
    {
     "data": {
      "text/html": [
       "<div>\n",
       "<style scoped>\n",
       "    .dataframe tbody tr th:only-of-type {\n",
       "        vertical-align: middle;\n",
       "    }\n",
       "\n",
       "    .dataframe tbody tr th {\n",
       "        vertical-align: top;\n",
       "    }\n",
       "\n",
       "    .dataframe thead th {\n",
       "        text-align: right;\n",
       "    }\n",
       "</style>\n",
       "<table border=\"1\" class=\"dataframe\">\n",
       "  <thead>\n",
       "    <tr style=\"text-align: right;\">\n",
       "      <th></th>\n",
       "      <th>awesome_score</th>\n",
       "      <th>date</th>\n",
       "      <th>enterpriseId</th>\n",
       "      <th>id</th>\n",
       "      <th>projectId</th>\n",
       "      <th>style_predictions</th>\n",
       "      <th>top_score</th>\n",
       "      <th>top_style</th>\n",
       "      <th>userId</th>\n",
       "      <th>tags</th>\n",
       "      <th>item</th>\n",
       "      <th>name</th>\n",
       "    </tr>\n",
       "  </thead>\n",
       "  <tbody>\n",
       "    <tr>\n",
       "      <th>0</th>\n",
       "      <td>0.995962</td>\n",
       "      <td>2022-03-01</td>\n",
       "      <td>421B6D0E746C4E6D</td>\n",
       "      <td>X9Ft6K035B3A80B44A34761</td>\n",
       "      <td>X7hL3kEA3D67804817E43F6</td>\n",
       "      <td>{'BOHEMIAN': 0.000171804, 'CLASSIC_AND_ANTIQUE...</td>\n",
       "      <td>0.451514</td>\n",
       "      <td>SCANDINAVIAN</td>\n",
       "      <td>XzZ3tyyFDA902B0AE66419C</td>\n",
       "      <td>[]</td>\n",
       "      <td>[X8brWeE6E8B43372F554FBC, X8bqVqW1FE8A93C42C14...</td>\n",
       "      <td>[아이즐렛 다이닝 테이블, 클램, 블루 풀 레이스 티팟 1000ml, 블루 플레인 ...</td>\n",
       "    </tr>\n",
       "    <tr>\n",
       "      <th>1</th>\n",
       "      <td>0.995019</td>\n",
       "      <td>2022-02-24</td>\n",
       "      <td>421B6D0E746C4E6D</td>\n",
       "      <td>X8q5mXZ3A2B4990D7374B8B</td>\n",
       "      <td>X8p_jfR0B4C680157DA430F</td>\n",
       "      <td>{'BOHEMIAN': 0.000137427, 'CLASSIC_AND_ANTIQUE...</td>\n",
       "      <td>0.743406</td>\n",
       "      <td>NATURAL</td>\n",
       "      <td>Xwl2vlS5F8D05681C554BAF</td>\n",
       "      <td>[가공목(mdf 외), 일자형, 2인, 반원형, 보니애가구, 쇼파, 나무, 2인쇼파...</td>\n",
       "      <td>[XoeB4_83FAEB81F0E364501, X6ZGM3j4A9B48A633DC4...</td>\n",
       "      <td>[진심디자인 뮤트럴 모던 스톤 오브제 미니 조각상 인테리어 소품 촬영 장식_A, V...</td>\n",
       "    </tr>\n",
       "    <tr>\n",
       "      <th>2</th>\n",
       "      <td>0.994466</td>\n",
       "      <td>2022-02-23</td>\n",
       "      <td>421B6D0E746C4E6D</td>\n",
       "      <td>X8ka1I78E8C8FC93FD04027</td>\n",
       "      <td>X8icoJA4184D43C82754202</td>\n",
       "      <td>{'BOHEMIAN': 0.000921072, 'CLASSIC_AND_ANTIQUE...</td>\n",
       "      <td>0.351366</td>\n",
       "      <td>NATURAL</td>\n",
       "      <td>XzZ3tyyFDA902B0AE66419C</td>\n",
       "      <td>[식탁의자, 둥근테이블, 사각테이블, casamia, 까사미아, 다이닝테이블다이닝인...</td>\n",
       "      <td>[X7YRrIp039AFEE9B6244C91, X7YkI8k8C49C99DD9814...</td>\n",
       "      <td>[한식 간판, 3층_조명_1 (조명 on ), 3층_조명_3 (조명 on ), 3층...</td>\n",
       "    </tr>\n",
       "    <tr>\n",
       "      <th>3</th>\n",
       "      <td>0.993620</td>\n",
       "      <td>2022-02-25</td>\n",
       "      <td>421B6D0E746C4E6D</td>\n",
       "      <td>X8u9Ndz6FB0E91D73D44B86</td>\n",
       "      <td>X8setNf6A59EEE7DE5F4939</td>\n",
       "      <td>{'BOHEMIAN': 0.000231028, 'CLASSIC_AND_ANTIQUE...</td>\n",
       "      <td>0.868963</td>\n",
       "      <td>MODERN</td>\n",
       "      <td>Xwl2vlS5F8D05681C554BAF</td>\n",
       "      <td>[침대, 애시드로우, 책보관, 수납, 만개소매점, 헤이, 이불, ikea, 파일꽂이...</td>\n",
       "      <td>[XigxKzaE477352BA8354593, Xe5pbl_FB20A109B3E34...</td>\n",
       "      <td>[임스체어 (화이트), Toolbox 툴박스 (화이트), BJORKSNAS Bed,...</td>\n",
       "    </tr>\n",
       "    <tr>\n",
       "      <th>4</th>\n",
       "      <td>0.991925</td>\n",
       "      <td>2022-02-23</td>\n",
       "      <td>421B6D0E746C4E6D</td>\n",
       "      <td>X8nh_j2E9102C86080E447D</td>\n",
       "      <td>X8m7ez_BFB4553F87B64100</td>\n",
       "      <td>{'BOHEMIAN': 0.000165141, 'CLASSIC_AND_ANTIQUE...</td>\n",
       "      <td>0.817837</td>\n",
       "      <td>MODERN</td>\n",
       "      <td>XzZ3tyyFDA902B0AE66419C</td>\n",
       "      <td>[movementlab, ALUALU, TREASURE GARDEN, 둥근테이블, ...</td>\n",
       "      <td>[X7Ykb2EF449BD12AFC9473B, X7Yk0Zn131E911B9CDE4...</td>\n",
       "      <td>[3층_조명_7 (조명 on ), 3층_조명_14 (조명 on ), Saturn55...</td>\n",
       "    </tr>\n",
       "    <tr>\n",
       "      <th>5</th>\n",
       "      <td>0.991026</td>\n",
       "      <td>2022-02-25</td>\n",
       "      <td>421B6D0E746C4E6D</td>\n",
       "      <td>X8v1FyI3FF0A36D51C1452B</td>\n",
       "      <td>X8leUtv16A82EFBBF284125</td>\n",
       "      <td>{'BOHEMIAN': 0.000581022, 'CLASSIC_AND_ANTIQUE...</td>\n",
       "      <td>0.962093</td>\n",
       "      <td>MODERN</td>\n",
       "      <td>X5l3CBbCD3E0524519C4215</td>\n",
       "      <td>[movementlab, 와이어, 분홍색, 메탈/와이어, 오브제, 조명, 플랜테리어...</td>\n",
       "      <td>[XXz3njr3F58A68EC8E14AC7, Xz-wADS1233D0271CF94...</td>\n",
       "      <td>[일반용 평판 걸레받이 몰딩 8cm_오크, 위더스 멀티책상 1460 화이트에디션 (...</td>\n",
       "    </tr>\n",
       "    <tr>\n",
       "      <th>6</th>\n",
       "      <td>0.990975</td>\n",
       "      <td>2022-02-26</td>\n",
       "      <td>421B6D0E746C4E6D</td>\n",
       "      <td>X819yUxD0C350AFCB204FAD</td>\n",
       "      <td>X8lxCwVE40C012658D14CAF</td>\n",
       "      <td>{'BOHEMIAN': 4.9346e-05, 'CLASSIC_AND_ANTIQUE'...</td>\n",
       "      <td>0.971870</td>\n",
       "      <td>MODERN</td>\n",
       "      <td>X2SfQ9R3BD26F0A27B74FD0</td>\n",
       "      <td>[투플레이스, 데스크, 식탁의자, 와이어, 루미르(Lumir), 가공목(mdf외),...</td>\n",
       "      <td>[201079E7D4434B4F, XpB5qAf86E459FC0FA14DA9, Xi...</td>\n",
       "      <td>[내츄럴 콤비블라인드 롤스크린 19colors 그레이, 샘스틸 120 DIY (화이...</td>\n",
       "    </tr>\n",
       "    <tr>\n",
       "      <th>7</th>\n",
       "      <td>0.985887</td>\n",
       "      <td>2022-02-28</td>\n",
       "      <td>421B6D0E746C4E6D</td>\n",
       "      <td>X8_H1Hd0E8154C14BE24866</td>\n",
       "      <td>X8hTk8vA40CE650486343FE</td>\n",
       "      <td>{'BOHEMIAN': 0.000246257, 'CLASSIC_AND_ANTIQUE...</td>\n",
       "      <td>0.556073</td>\n",
       "      <td>NATURAL</td>\n",
       "      <td>X2SfQ9R3BD26F0A27B74FD0</td>\n",
       "      <td>[리바트, 가공목(mdf 외), 웨이브, 브라운월넛베니어, 침실협탁, 비정형, 쇼파...</td>\n",
       "      <td>[Xip8nea5D3CF56DB2974E78, XQF8kQu091CDE8381BE4...</td>\n",
       "      <td>[몰리세 4인 패브릭 리클라이너 3colors (샌드베이지), 캐슬 장스탠드 (브라...</td>\n",
       "    </tr>\n",
       "    <tr>\n",
       "      <th>8</th>\n",
       "      <td>0.985323</td>\n",
       "      <td>2022-02-28</td>\n",
       "      <td>421B6D0E746C4E6D</td>\n",
       "      <td>X8-vgaRDBF8A80947634DDF</td>\n",
       "      <td>X8-WZTe5BD1B46E18354B2F</td>\n",
       "      <td>{'BOHEMIAN': 0.002489411, 'CLASSIC_AND_ANTIQUE...</td>\n",
       "      <td>0.376066</td>\n",
       "      <td>NATURAL</td>\n",
       "      <td>XpRMPP179C7491AC75A4782</td>\n",
       "      <td>[식탁의자, 와이어, 가공목(mdf 외), 지엠퍼니처, 메탈/와이어, 제일조명, 나...</td>\n",
       "      <td>[XXPVCK14A74883DC6B54C90, Xdb8yB82055AFD8E0FE4...</td>\n",
       "      <td>[FW 화이트 원형테이블 1000size, PH 43 팬던트, [자리스튜디오] Ca...</td>\n",
       "    </tr>\n",
       "    <tr>\n",
       "      <th>9</th>\n",
       "      <td>0.984107</td>\n",
       "      <td>2022-02-23</td>\n",
       "      <td>421B6D0E746C4E6D</td>\n",
       "      <td>X8kPA4d6451110897CB46D2</td>\n",
       "      <td>X7So0fA789921C07F554CF0</td>\n",
       "      <td>{'BOHEMIAN': 2.5557e-05, 'CLASSIC_AND_ANTIQUE'...</td>\n",
       "      <td>0.951204</td>\n",
       "      <td>MODERN</td>\n",
       "      <td>X5l3CBbCD3E0524519C4215</td>\n",
       "      <td>[라인LED, 헤이홈, hejhome, 조명, 라인등, B1]</td>\n",
       "      <td>[XZ1UUhVD1A2F37582FD479A, X51NgqA3C8E519044464...</td>\n",
       "      <td>[LG 오피스 TV 거치대, B1F 천장, 4F_TV, B1F_칠판 받침대, 파트라...</td>\n",
       "    </tr>\n",
       "    <tr>\n",
       "      <th>10</th>\n",
       "      <td>0.979172</td>\n",
       "      <td>2022-02-24</td>\n",
       "      <td>421B6D0E746C4E6D</td>\n",
       "      <td>X8pRFPQF61D73C951994305</td>\n",
       "      <td>X8iP8JP35147435C1874BE5</td>\n",
       "      <td>{'BOHEMIAN': 0.000814293, 'CLASSIC_AND_ANTIQUE...</td>\n",
       "      <td>0.444543</td>\n",
       "      <td>MODERN</td>\n",
       "      <td>X2SieTs909FBB5A33634AE6</td>\n",
       "      <td>[침대, 커튼, 창문커튼, 수납, 캔들, 협탁, 포스터, 램프, ikea, Q, 그...</td>\n",
       "      <td>[Xcdey8tBEA63513CEA24712, Xhop88YD52FF7246C584...</td>\n",
       "      <td>[데이지 오크 침대 Q/K, 애니 사계절 침구 |아이보리| 80수 고밀도 워싱 면 ...</td>\n",
       "    </tr>\n",
       "    <tr>\n",
       "      <th>11</th>\n",
       "      <td>0.979019</td>\n",
       "      <td>2022-02-23</td>\n",
       "      <td>421B6D0E746C4E6D</td>\n",
       "      <td>X8kLKVr3FB031DFF2954F2B</td>\n",
       "      <td>X8aJqid89D0B81EEE784526</td>\n",
       "      <td>{'BOHEMIAN': 9.1157e-05, 'CLASSIC_AND_ANTIQUE'...</td>\n",
       "      <td>0.657457</td>\n",
       "      <td>MODERN</td>\n",
       "      <td>X4d219n6F297DBEDCBE40CE</td>\n",
       "      <td>[]</td>\n",
       "      <td>[XoJLCJ_B8F6CDE8711C4D9E, XoJLCJ_B8F6CDE8711C4...</td>\n",
       "      <td>[워킹체어 (그레이), 워킹체어 (그레이), VIRRMO 비르모_off, Mateg...</td>\n",
       "    </tr>\n",
       "    <tr>\n",
       "      <th>12</th>\n",
       "      <td>0.978913</td>\n",
       "      <td>2022-02-23</td>\n",
       "      <td>421B6D0E746C4E6D</td>\n",
       "      <td>X8m9yYI95CFFC97AC0F4F93</td>\n",
       "      <td>X8lAaUz9AFE21C607014D32</td>\n",
       "      <td>{'BOHEMIAN': 6.194e-06, 'CLASSIC_AND_ANTIQUE':...</td>\n",
       "      <td>0.990117</td>\n",
       "      <td>MODERN</td>\n",
       "      <td>X2SfQ9R3BD26F0A27B74FD0</td>\n",
       "      <td>[식탁의자, 원목, 분홍색, 흰색, 나무, 식물데코, 조명, 펜던트, 초록, 초록색...</td>\n",
       "      <td>[XnWHmTW178CE2C3B23D412F, XdnUkT-914CEA67123D4...</td>\n",
       "      <td>[윈스턴 원목 디자인 의자 (화이트), 거베라 조화_2color (피치핑크), ro...</td>\n",
       "    </tr>\n",
       "    <tr>\n",
       "      <th>13</th>\n",
       "      <td>0.976023</td>\n",
       "      <td>2022-02-28</td>\n",
       "      <td>421B6D0E746C4E6D</td>\n",
       "      <td>X9Aesic70E056BB4A5B4FFC</td>\n",
       "      <td>X8_LjIOD57E8F04AC494CD2</td>\n",
       "      <td>{'BOHEMIAN': 0.000207602, 'CLASSIC_AND_ANTIQUE...</td>\n",
       "      <td>0.519860</td>\n",
       "      <td>MODERN</td>\n",
       "      <td>X4d219n6F297DBEDCBE40CE</td>\n",
       "      <td>[커튼, movementlab, 메리레이스, 테이블, casamia, 까사미아, 포...</td>\n",
       "      <td>[Xiq68wY715E2642180E4EC5, XSVcArW372F7D60A72A4...</td>\n",
       "      <td>[샤인 사이잘룩 카페트 2000 x 2700 (베이지), Divine Sofa Do...</td>\n",
       "    </tr>\n",
       "    <tr>\n",
       "      <th>14</th>\n",
       "      <td>0.973749</td>\n",
       "      <td>2022-03-01</td>\n",
       "      <td>421B6D0E746C4E6D</td>\n",
       "      <td>X9EmzFKF54797196F2D4715</td>\n",
       "      <td>X9EXepN70398E918713402D</td>\n",
       "      <td>{'BOHEMIAN': 0.000103063, 'CLASSIC_AND_ANTIQUE...</td>\n",
       "      <td>0.918509</td>\n",
       "      <td>MODERN</td>\n",
       "      <td>X2SfQ9R3BD26F0A27B74FD0</td>\n",
       "      <td>[리바트, 가공목(mdf외), 식탁의자, 와이어, Hay, 책꽃이, 일반, 낮은책장...</td>\n",
       "      <td>[XVjPYKP427C3D3EF6EB4F76, X1-TGzhBCDD19807CBC4...</td>\n",
       "      <td>[FIHA 서랍장 5단 6colors 레드, 네이쳐 나비주름 커튼 핀형 250~26...</td>\n",
       "    </tr>\n",
       "  </tbody>\n",
       "</table>\n",
       "</div>"
      ],
      "text/plain": [
       "    awesome_score        date      enterpriseId                       id  \\\n",
       "0        0.995962  2022-03-01  421B6D0E746C4E6D  X9Ft6K035B3A80B44A34761   \n",
       "1        0.995019  2022-02-24  421B6D0E746C4E6D  X8q5mXZ3A2B4990D7374B8B   \n",
       "2        0.994466  2022-02-23  421B6D0E746C4E6D  X8ka1I78E8C8FC93FD04027   \n",
       "3        0.993620  2022-02-25  421B6D0E746C4E6D  X8u9Ndz6FB0E91D73D44B86   \n",
       "4        0.991925  2022-02-23  421B6D0E746C4E6D  X8nh_j2E9102C86080E447D   \n",
       "5        0.991026  2022-02-25  421B6D0E746C4E6D  X8v1FyI3FF0A36D51C1452B   \n",
       "6        0.990975  2022-02-26  421B6D0E746C4E6D  X819yUxD0C350AFCB204FAD   \n",
       "7        0.985887  2022-02-28  421B6D0E746C4E6D  X8_H1Hd0E8154C14BE24866   \n",
       "8        0.985323  2022-02-28  421B6D0E746C4E6D  X8-vgaRDBF8A80947634DDF   \n",
       "9        0.984107  2022-02-23  421B6D0E746C4E6D  X8kPA4d6451110897CB46D2   \n",
       "10       0.979172  2022-02-24  421B6D0E746C4E6D  X8pRFPQF61D73C951994305   \n",
       "11       0.979019  2022-02-23  421B6D0E746C4E6D  X8kLKVr3FB031DFF2954F2B   \n",
       "12       0.978913  2022-02-23  421B6D0E746C4E6D  X8m9yYI95CFFC97AC0F4F93   \n",
       "13       0.976023  2022-02-28  421B6D0E746C4E6D  X9Aesic70E056BB4A5B4FFC   \n",
       "14       0.973749  2022-03-01  421B6D0E746C4E6D  X9EmzFKF54797196F2D4715   \n",
       "\n",
       "                  projectId  \\\n",
       "0   X7hL3kEA3D67804817E43F6   \n",
       "1   X8p_jfR0B4C680157DA430F   \n",
       "2   X8icoJA4184D43C82754202   \n",
       "3   X8setNf6A59EEE7DE5F4939   \n",
       "4   X8m7ez_BFB4553F87B64100   \n",
       "5   X8leUtv16A82EFBBF284125   \n",
       "6   X8lxCwVE40C012658D14CAF   \n",
       "7   X8hTk8vA40CE650486343FE   \n",
       "8   X8-WZTe5BD1B46E18354B2F   \n",
       "9   X7So0fA789921C07F554CF0   \n",
       "10  X8iP8JP35147435C1874BE5   \n",
       "11  X8aJqid89D0B81EEE784526   \n",
       "12  X8lAaUz9AFE21C607014D32   \n",
       "13  X8_LjIOD57E8F04AC494CD2   \n",
       "14  X9EXepN70398E918713402D   \n",
       "\n",
       "                                    style_predictions  top_score  \\\n",
       "0   {'BOHEMIAN': 0.000171804, 'CLASSIC_AND_ANTIQUE...   0.451514   \n",
       "1   {'BOHEMIAN': 0.000137427, 'CLASSIC_AND_ANTIQUE...   0.743406   \n",
       "2   {'BOHEMIAN': 0.000921072, 'CLASSIC_AND_ANTIQUE...   0.351366   \n",
       "3   {'BOHEMIAN': 0.000231028, 'CLASSIC_AND_ANTIQUE...   0.868963   \n",
       "4   {'BOHEMIAN': 0.000165141, 'CLASSIC_AND_ANTIQUE...   0.817837   \n",
       "5   {'BOHEMIAN': 0.000581022, 'CLASSIC_AND_ANTIQUE...   0.962093   \n",
       "6   {'BOHEMIAN': 4.9346e-05, 'CLASSIC_AND_ANTIQUE'...   0.971870   \n",
       "7   {'BOHEMIAN': 0.000246257, 'CLASSIC_AND_ANTIQUE...   0.556073   \n",
       "8   {'BOHEMIAN': 0.002489411, 'CLASSIC_AND_ANTIQUE...   0.376066   \n",
       "9   {'BOHEMIAN': 2.5557e-05, 'CLASSIC_AND_ANTIQUE'...   0.951204   \n",
       "10  {'BOHEMIAN': 0.000814293, 'CLASSIC_AND_ANTIQUE...   0.444543   \n",
       "11  {'BOHEMIAN': 9.1157e-05, 'CLASSIC_AND_ANTIQUE'...   0.657457   \n",
       "12  {'BOHEMIAN': 6.194e-06, 'CLASSIC_AND_ANTIQUE':...   0.990117   \n",
       "13  {'BOHEMIAN': 0.000207602, 'CLASSIC_AND_ANTIQUE...   0.519860   \n",
       "14  {'BOHEMIAN': 0.000103063, 'CLASSIC_AND_ANTIQUE...   0.918509   \n",
       "\n",
       "       top_style                   userId  \\\n",
       "0   SCANDINAVIAN  XzZ3tyyFDA902B0AE66419C   \n",
       "1        NATURAL  Xwl2vlS5F8D05681C554BAF   \n",
       "2        NATURAL  XzZ3tyyFDA902B0AE66419C   \n",
       "3         MODERN  Xwl2vlS5F8D05681C554BAF   \n",
       "4         MODERN  XzZ3tyyFDA902B0AE66419C   \n",
       "5         MODERN  X5l3CBbCD3E0524519C4215   \n",
       "6         MODERN  X2SfQ9R3BD26F0A27B74FD0   \n",
       "7        NATURAL  X2SfQ9R3BD26F0A27B74FD0   \n",
       "8        NATURAL  XpRMPP179C7491AC75A4782   \n",
       "9         MODERN  X5l3CBbCD3E0524519C4215   \n",
       "10        MODERN  X2SieTs909FBB5A33634AE6   \n",
       "11        MODERN  X4d219n6F297DBEDCBE40CE   \n",
       "12        MODERN  X2SfQ9R3BD26F0A27B74FD0   \n",
       "13        MODERN  X4d219n6F297DBEDCBE40CE   \n",
       "14        MODERN  X2SfQ9R3BD26F0A27B74FD0   \n",
       "\n",
       "                                                 tags  \\\n",
       "0                                                  []   \n",
       "1   [가공목(mdf 외), 일자형, 2인, 반원형, 보니애가구, 쇼파, 나무, 2인쇼파...   \n",
       "2   [식탁의자, 둥근테이블, 사각테이블, casamia, 까사미아, 다이닝테이블다이닝인...   \n",
       "3   [침대, 애시드로우, 책보관, 수납, 만개소매점, 헤이, 이불, ikea, 파일꽂이...   \n",
       "4   [movementlab, ALUALU, TREASURE GARDEN, 둥근테이블, ...   \n",
       "5   [movementlab, 와이어, 분홍색, 메탈/와이어, 오브제, 조명, 플랜테리어...   \n",
       "6   [투플레이스, 데스크, 식탁의자, 와이어, 루미르(Lumir), 가공목(mdf외),...   \n",
       "7   [리바트, 가공목(mdf 외), 웨이브, 브라운월넛베니어, 침실협탁, 비정형, 쇼파...   \n",
       "8   [식탁의자, 와이어, 가공목(mdf 외), 지엠퍼니처, 메탈/와이어, 제일조명, 나...   \n",
       "9                  [라인LED, 헤이홈, hejhome, 조명, 라인등, B1]   \n",
       "10  [침대, 커튼, 창문커튼, 수납, 캔들, 협탁, 포스터, 램프, ikea, Q, 그...   \n",
       "11                                                 []   \n",
       "12  [식탁의자, 원목, 분홍색, 흰색, 나무, 식물데코, 조명, 펜던트, 초록, 초록색...   \n",
       "13  [커튼, movementlab, 메리레이스, 테이블, casamia, 까사미아, 포...   \n",
       "14  [리바트, 가공목(mdf외), 식탁의자, 와이어, Hay, 책꽃이, 일반, 낮은책장...   \n",
       "\n",
       "                                                 item  \\\n",
       "0   [X8brWeE6E8B43372F554FBC, X8bqVqW1FE8A93C42C14...   \n",
       "1   [XoeB4_83FAEB81F0E364501, X6ZGM3j4A9B48A633DC4...   \n",
       "2   [X7YRrIp039AFEE9B6244C91, X7YkI8k8C49C99DD9814...   \n",
       "3   [XigxKzaE477352BA8354593, Xe5pbl_FB20A109B3E34...   \n",
       "4   [X7Ykb2EF449BD12AFC9473B, X7Yk0Zn131E911B9CDE4...   \n",
       "5   [XXz3njr3F58A68EC8E14AC7, Xz-wADS1233D0271CF94...   \n",
       "6   [201079E7D4434B4F, XpB5qAf86E459FC0FA14DA9, Xi...   \n",
       "7   [Xip8nea5D3CF56DB2974E78, XQF8kQu091CDE8381BE4...   \n",
       "8   [XXPVCK14A74883DC6B54C90, Xdb8yB82055AFD8E0FE4...   \n",
       "9   [XZ1UUhVD1A2F37582FD479A, X51NgqA3C8E519044464...   \n",
       "10  [Xcdey8tBEA63513CEA24712, Xhop88YD52FF7246C584...   \n",
       "11  [XoJLCJ_B8F6CDE8711C4D9E, XoJLCJ_B8F6CDE8711C4...   \n",
       "12  [XnWHmTW178CE2C3B23D412F, XdnUkT-914CEA67123D4...   \n",
       "13  [Xiq68wY715E2642180E4EC5, XSVcArW372F7D60A72A4...   \n",
       "14  [XVjPYKP427C3D3EF6EB4F76, X1-TGzhBCDD19807CBC4...   \n",
       "\n",
       "                                                 name  \n",
       "0   [아이즐렛 다이닝 테이블, 클램, 블루 풀 레이스 티팟 1000ml, 블루 플레인 ...  \n",
       "1   [진심디자인 뮤트럴 모던 스톤 오브제 미니 조각상 인테리어 소품 촬영 장식_A, V...  \n",
       "2   [한식 간판, 3층_조명_1 (조명 on ), 3층_조명_3 (조명 on ), 3층...  \n",
       "3   [임스체어 (화이트), Toolbox 툴박스 (화이트), BJORKSNAS Bed,...  \n",
       "4   [3층_조명_7 (조명 on ), 3층_조명_14 (조명 on ), Saturn55...  \n",
       "5   [일반용 평판 걸레받이 몰딩 8cm_오크, 위더스 멀티책상 1460 화이트에디션 (...  \n",
       "6   [내츄럴 콤비블라인드 롤스크린 19colors 그레이, 샘스틸 120 DIY (화이...  \n",
       "7   [몰리세 4인 패브릭 리클라이너 3colors (샌드베이지), 캐슬 장스탠드 (브라...  \n",
       "8   [FW 화이트 원형테이블 1000size, PH 43 팬던트, [자리스튜디오] Ca...  \n",
       "9   [LG 오피스 TV 거치대, B1F 천장, 4F_TV, B1F_칠판 받침대, 파트라...  \n",
       "10  [데이지 오크 침대 Q/K, 애니 사계절 침구 |아이보리| 80수 고밀도 워싱 면 ...  \n",
       "11  [워킹체어 (그레이), 워킹체어 (그레이), VIRRMO 비르모_off, Mateg...  \n",
       "12  [윈스턴 원목 디자인 의자 (화이트), 거베라 조화_2color (피치핑크), ro...  \n",
       "13  [샤인 사이잘룩 카페트 2000 x 2700 (베이지), Divine Sofa Do...  \n",
       "14  [FIHA 서랍장 5단 6colors 레드, 네이쳐 나비주름 커튼 핀형 250~26...  "
      ]
     },
     "execution_count": 16,
     "metadata": {},
     "output_type": "execute_result"
    }
   ],
   "source": [
    "best_item_4"
   ]
  },
  {
   "cell_type": "code",
   "execution_count": 17,
   "id": "025cea05-e724-4a77-b99c-9e2f18aa7142",
   "metadata": {},
   "outputs": [],
   "source": [
    "# def find_image(prod, categories):\n",
    "#     x = prod['categories']\n",
    "    \n",
    "#     xx = []\n",
    "#     for i in categories['children']:\n",
    "#         for j in i:\n",
    "#             if j['children']:\n",
    "#                 for z in j['children']:\n",
    "#                     xx.append([z['_id'], z['name'], z['image'], z['grandparentId']])\n",
    "#             else:\n",
    "#                 xx.append([j['_id'], j['name'], j['image'],j['parentId']])\n",
    "                \n",
    "#     y = []\n",
    "    \n",
    "#     for i in xx:\n",
    "#         for ii in x:\n",
    "#             if i[0] == ii:\n",
    "#                 y.append(i)\n",
    "\n",
    "#     return y"
   ]
  },
  {
   "cell_type": "code",
   "execution_count": 18,
   "id": "a6bd923e-7433-452a-9d82-fda5d87d38c7",
   "metadata": {
    "tags": []
   },
   "outputs": [],
   "source": [
    "for i in x:\n",
    "    if i[0] == '1348D5C358224276':\n",
    "        print(i)"
   ]
  },
  {
   "cell_type": "code",
   "execution_count": 19,
   "id": "a862d201-2dfb-4eb2-9ccd-244632048e87",
   "metadata": {},
   "outputs": [],
   "source": [
    "best_item_4_col = best_item_4[['awesome_score', 'item', 'name', 'top_style']]\n",
    "\n",
    "best_item_b_col = best_item_b[['awesome_score', 'item', 'name', 'top_style']]"
   ]
  },
  {
   "cell_type": "code",
   "execution_count": 20,
   "id": "c9d93191-f9ff-4bf6-8bc5-0ac52a8e6eeb",
   "metadata": {},
   "outputs": [
    {
     "data": {
      "text/plain": [
       "MODERN          10\n",
       "NATURAL          4\n",
       "SCANDINAVIAN     1\n",
       "Name: top_style, dtype: int64"
      ]
     },
     "execution_count": 20,
     "metadata": {},
     "output_type": "execute_result"
    }
   ],
   "source": [
    "best_item_4_col.top_style.value_counts()"
   ]
  },
  {
   "cell_type": "code",
   "execution_count": 21,
   "id": "4934d8ef-e81e-4108-88c4-25356fd9310c",
   "metadata": {},
   "outputs": [
    {
     "data": {
      "text/plain": [
       "MODERN                52\n",
       "NATURAL               23\n",
       "MID_CENTURY_MODERN     4\n",
       "VINTAGE                1\n",
       "SCANDINAVIAN           1\n",
       "Name: top_style, dtype: int64"
      ]
     },
     "execution_count": 21,
     "metadata": {},
     "output_type": "execute_result"
    }
   ],
   "source": [
    "best_item_b_col.top_style.value_counts()"
   ]
  },
  {
   "cell_type": "code",
   "execution_count": 22,
   "id": "3ff90425-d2e3-42ce-9b27-85fa115d96a1",
   "metadata": {
    "tags": []
   },
   "outputs": [
    {
     "data": {
      "text/html": [
       "<div>\n",
       "<style scoped>\n",
       "    .dataframe tbody tr th:only-of-type {\n",
       "        vertical-align: middle;\n",
       "    }\n",
       "\n",
       "    .dataframe tbody tr th {\n",
       "        vertical-align: top;\n",
       "    }\n",
       "\n",
       "    .dataframe thead th {\n",
       "        text-align: right;\n",
       "    }\n",
       "</style>\n",
       "<table border=\"1\" class=\"dataframe\">\n",
       "  <thead>\n",
       "    <tr style=\"text-align: right;\">\n",
       "      <th></th>\n",
       "      <th>awesome_score</th>\n",
       "      <th>item</th>\n",
       "      <th>name</th>\n",
       "      <th>top_style</th>\n",
       "    </tr>\n",
       "  </thead>\n",
       "  <tbody>\n",
       "    <tr>\n",
       "      <th>0</th>\n",
       "      <td>0.995962</td>\n",
       "      <td>[X8brWeE6E8B43372F554FBC, X8bqVqW1FE8A93C42C14...</td>\n",
       "      <td>[아이즐렛 다이닝 테이블, 클램, 블루 풀 레이스 티팟 1000ml, 블루 플레인 ...</td>\n",
       "      <td>SCANDINAVIAN</td>\n",
       "    </tr>\n",
       "    <tr>\n",
       "      <th>1</th>\n",
       "      <td>0.995019</td>\n",
       "      <td>[XoeB4_83FAEB81F0E364501, X6ZGM3j4A9B48A633DC4...</td>\n",
       "      <td>[진심디자인 뮤트럴 모던 스톤 오브제 미니 조각상 인테리어 소품 촬영 장식_A, V...</td>\n",
       "      <td>NATURAL</td>\n",
       "    </tr>\n",
       "    <tr>\n",
       "      <th>2</th>\n",
       "      <td>0.994466</td>\n",
       "      <td>[X7YRrIp039AFEE9B6244C91, X7YkI8k8C49C99DD9814...</td>\n",
       "      <td>[한식 간판, 3층_조명_1 (조명 on ), 3층_조명_3 (조명 on ), 3층...</td>\n",
       "      <td>NATURAL</td>\n",
       "    </tr>\n",
       "    <tr>\n",
       "      <th>3</th>\n",
       "      <td>0.993620</td>\n",
       "      <td>[XigxKzaE477352BA8354593, Xe5pbl_FB20A109B3E34...</td>\n",
       "      <td>[임스체어 (화이트), Toolbox 툴박스 (화이트), BJORKSNAS Bed,...</td>\n",
       "      <td>MODERN</td>\n",
       "    </tr>\n",
       "    <tr>\n",
       "      <th>4</th>\n",
       "      <td>0.991925</td>\n",
       "      <td>[X7Ykb2EF449BD12AFC9473B, X7Yk0Zn131E911B9CDE4...</td>\n",
       "      <td>[3층_조명_7 (조명 on ), 3층_조명_14 (조명 on ), Saturn55...</td>\n",
       "      <td>MODERN</td>\n",
       "    </tr>\n",
       "    <tr>\n",
       "      <th>5</th>\n",
       "      <td>0.991026</td>\n",
       "      <td>[XXz3njr3F58A68EC8E14AC7, Xz-wADS1233D0271CF94...</td>\n",
       "      <td>[일반용 평판 걸레받이 몰딩 8cm_오크, 위더스 멀티책상 1460 화이트에디션 (...</td>\n",
       "      <td>MODERN</td>\n",
       "    </tr>\n",
       "    <tr>\n",
       "      <th>6</th>\n",
       "      <td>0.990975</td>\n",
       "      <td>[201079E7D4434B4F, XpB5qAf86E459FC0FA14DA9, Xi...</td>\n",
       "      <td>[내츄럴 콤비블라인드 롤스크린 19colors 그레이, 샘스틸 120 DIY (화이...</td>\n",
       "      <td>MODERN</td>\n",
       "    </tr>\n",
       "    <tr>\n",
       "      <th>7</th>\n",
       "      <td>0.985887</td>\n",
       "      <td>[Xip8nea5D3CF56DB2974E78, XQF8kQu091CDE8381BE4...</td>\n",
       "      <td>[몰리세 4인 패브릭 리클라이너 3colors (샌드베이지), 캐슬 장스탠드 (브라...</td>\n",
       "      <td>NATURAL</td>\n",
       "    </tr>\n",
       "    <tr>\n",
       "      <th>8</th>\n",
       "      <td>0.985323</td>\n",
       "      <td>[XXPVCK14A74883DC6B54C90, Xdb8yB82055AFD8E0FE4...</td>\n",
       "      <td>[FW 화이트 원형테이블 1000size, PH 43 팬던트, [자리스튜디오] Ca...</td>\n",
       "      <td>NATURAL</td>\n",
       "    </tr>\n",
       "    <tr>\n",
       "      <th>9</th>\n",
       "      <td>0.984107</td>\n",
       "      <td>[XZ1UUhVD1A2F37582FD479A, X51NgqA3C8E519044464...</td>\n",
       "      <td>[LG 오피스 TV 거치대, B1F 천장, 4F_TV, B1F_칠판 받침대, 파트라...</td>\n",
       "      <td>MODERN</td>\n",
       "    </tr>\n",
       "    <tr>\n",
       "      <th>10</th>\n",
       "      <td>0.979172</td>\n",
       "      <td>[Xcdey8tBEA63513CEA24712, Xhop88YD52FF7246C584...</td>\n",
       "      <td>[데이지 오크 침대 Q/K, 애니 사계절 침구 |아이보리| 80수 고밀도 워싱 면 ...</td>\n",
       "      <td>MODERN</td>\n",
       "    </tr>\n",
       "    <tr>\n",
       "      <th>11</th>\n",
       "      <td>0.979019</td>\n",
       "      <td>[XoJLCJ_B8F6CDE8711C4D9E, XoJLCJ_B8F6CDE8711C4...</td>\n",
       "      <td>[워킹체어 (그레이), 워킹체어 (그레이), VIRRMO 비르모_off, Mateg...</td>\n",
       "      <td>MODERN</td>\n",
       "    </tr>\n",
       "    <tr>\n",
       "      <th>12</th>\n",
       "      <td>0.978913</td>\n",
       "      <td>[XnWHmTW178CE2C3B23D412F, XdnUkT-914CEA67123D4...</td>\n",
       "      <td>[윈스턴 원목 디자인 의자 (화이트), 거베라 조화_2color (피치핑크), ro...</td>\n",
       "      <td>MODERN</td>\n",
       "    </tr>\n",
       "    <tr>\n",
       "      <th>13</th>\n",
       "      <td>0.976023</td>\n",
       "      <td>[Xiq68wY715E2642180E4EC5, XSVcArW372F7D60A72A4...</td>\n",
       "      <td>[샤인 사이잘룩 카페트 2000 x 2700 (베이지), Divine Sofa Do...</td>\n",
       "      <td>MODERN</td>\n",
       "    </tr>\n",
       "    <tr>\n",
       "      <th>14</th>\n",
       "      <td>0.973749</td>\n",
       "      <td>[XVjPYKP427C3D3EF6EB4F76, X1-TGzhBCDD19807CBC4...</td>\n",
       "      <td>[FIHA 서랍장 5단 6colors 레드, 네이쳐 나비주름 커튼 핀형 250~26...</td>\n",
       "      <td>MODERN</td>\n",
       "    </tr>\n",
       "  </tbody>\n",
       "</table>\n",
       "</div>"
      ],
      "text/plain": [
       "    awesome_score                                               item  \\\n",
       "0        0.995962  [X8brWeE6E8B43372F554FBC, X8bqVqW1FE8A93C42C14...   \n",
       "1        0.995019  [XoeB4_83FAEB81F0E364501, X6ZGM3j4A9B48A633DC4...   \n",
       "2        0.994466  [X7YRrIp039AFEE9B6244C91, X7YkI8k8C49C99DD9814...   \n",
       "3        0.993620  [XigxKzaE477352BA8354593, Xe5pbl_FB20A109B3E34...   \n",
       "4        0.991925  [X7Ykb2EF449BD12AFC9473B, X7Yk0Zn131E911B9CDE4...   \n",
       "5        0.991026  [XXz3njr3F58A68EC8E14AC7, Xz-wADS1233D0271CF94...   \n",
       "6        0.990975  [201079E7D4434B4F, XpB5qAf86E459FC0FA14DA9, Xi...   \n",
       "7        0.985887  [Xip8nea5D3CF56DB2974E78, XQF8kQu091CDE8381BE4...   \n",
       "8        0.985323  [XXPVCK14A74883DC6B54C90, Xdb8yB82055AFD8E0FE4...   \n",
       "9        0.984107  [XZ1UUhVD1A2F37582FD479A, X51NgqA3C8E519044464...   \n",
       "10       0.979172  [Xcdey8tBEA63513CEA24712, Xhop88YD52FF7246C584...   \n",
       "11       0.979019  [XoJLCJ_B8F6CDE8711C4D9E, XoJLCJ_B8F6CDE8711C4...   \n",
       "12       0.978913  [XnWHmTW178CE2C3B23D412F, XdnUkT-914CEA67123D4...   \n",
       "13       0.976023  [Xiq68wY715E2642180E4EC5, XSVcArW372F7D60A72A4...   \n",
       "14       0.973749  [XVjPYKP427C3D3EF6EB4F76, X1-TGzhBCDD19807CBC4...   \n",
       "\n",
       "                                                 name     top_style  \n",
       "0   [아이즐렛 다이닝 테이블, 클램, 블루 풀 레이스 티팟 1000ml, 블루 플레인 ...  SCANDINAVIAN  \n",
       "1   [진심디자인 뮤트럴 모던 스톤 오브제 미니 조각상 인테리어 소품 촬영 장식_A, V...       NATURAL  \n",
       "2   [한식 간판, 3층_조명_1 (조명 on ), 3층_조명_3 (조명 on ), 3층...       NATURAL  \n",
       "3   [임스체어 (화이트), Toolbox 툴박스 (화이트), BJORKSNAS Bed,...        MODERN  \n",
       "4   [3층_조명_7 (조명 on ), 3층_조명_14 (조명 on ), Saturn55...        MODERN  \n",
       "5   [일반용 평판 걸레받이 몰딩 8cm_오크, 위더스 멀티책상 1460 화이트에디션 (...        MODERN  \n",
       "6   [내츄럴 콤비블라인드 롤스크린 19colors 그레이, 샘스틸 120 DIY (화이...        MODERN  \n",
       "7   [몰리세 4인 패브릭 리클라이너 3colors (샌드베이지), 캐슬 장스탠드 (브라...       NATURAL  \n",
       "8   [FW 화이트 원형테이블 1000size, PH 43 팬던트, [자리스튜디오] Ca...       NATURAL  \n",
       "9   [LG 오피스 TV 거치대, B1F 천장, 4F_TV, B1F_칠판 받침대, 파트라...        MODERN  \n",
       "10  [데이지 오크 침대 Q/K, 애니 사계절 침구 |아이보리| 80수 고밀도 워싱 면 ...        MODERN  \n",
       "11  [워킹체어 (그레이), 워킹체어 (그레이), VIRRMO 비르모_off, Mateg...        MODERN  \n",
       "12  [윈스턴 원목 디자인 의자 (화이트), 거베라 조화_2color (피치핑크), ro...        MODERN  \n",
       "13  [샤인 사이잘룩 카페트 2000 x 2700 (베이지), Divine Sofa Do...        MODERN  \n",
       "14  [FIHA 서랍장 5단 6colors 레드, 네이쳐 나비주름 커튼 핀형 250~26...        MODERN  "
      ]
     },
     "execution_count": 22,
     "metadata": {},
     "output_type": "execute_result"
    }
   ],
   "source": [
    "best_item_4_col"
   ]
  },
  {
   "cell_type": "code",
   "execution_count": 23,
   "id": "c3a0114e-a85b-473c-8ad3-172944d41e51",
   "metadata": {
    "tags": []
   },
   "outputs": [],
   "source": [
    "def flatten_data(best_item):\n",
    "    \n",
    "    best_items = best_item.join(best_item['item'].apply(lambda x: pd.Series(x)).stack().reset_index(1, name='items').drop('level_1', axis=1))\n",
    "    best_items.drop(columns=['item', 'name'] ,inplace=True)\n",
    "    \n",
    "    return best_items\n",
    "\n",
    "def flatten_data2(names, best_items):\n",
    "    x = names['name'].apply(lambda x: pd.Series(x)).stack().reset_index(1, name='names').drop('level_1', axis=1)\n",
    "    df = pd.concat([best_items, x], axis=1)\n",
    "    return df\n",
    "\n",
    "\n",
    "best_item_4_b = flatten_data(best_item_4_col)\n",
    "best_item_b_b = flatten_data(best_item_b_col)\n",
    "\n",
    "best_item_4_B = flatten_data2(best_item_4_col, best_item_4_b)\n",
    "best_item_b_B = flatten_data2(best_item_b_col, best_item_b_b)"
   ]
  },
  {
   "cell_type": "code",
   "execution_count": 24,
   "id": "e5a797e0-4217-4159-b68f-6e53c57bb597",
   "metadata": {},
   "outputs": [
    {
     "data": {
      "text/html": [
       "<div>\n",
       "<style scoped>\n",
       "    .dataframe tbody tr th:only-of-type {\n",
       "        vertical-align: middle;\n",
       "    }\n",
       "\n",
       "    .dataframe tbody tr th {\n",
       "        vertical-align: top;\n",
       "    }\n",
       "\n",
       "    .dataframe thead th {\n",
       "        text-align: right;\n",
       "    }\n",
       "</style>\n",
       "<table border=\"1\" class=\"dataframe\">\n",
       "  <thead>\n",
       "    <tr style=\"text-align: right;\">\n",
       "      <th></th>\n",
       "      <th>awesome_score</th>\n",
       "      <th>top_style</th>\n",
       "      <th>items</th>\n",
       "      <th>names</th>\n",
       "    </tr>\n",
       "  </thead>\n",
       "  <tbody>\n",
       "    <tr>\n",
       "      <th>0</th>\n",
       "      <td>0.995962</td>\n",
       "      <td>SCANDINAVIAN</td>\n",
       "      <td>X8brWeE6E8B43372F554FBC</td>\n",
       "      <td>아이즐렛 다이닝 테이블</td>\n",
       "    </tr>\n",
       "    <tr>\n",
       "      <th>0</th>\n",
       "      <td>0.995962</td>\n",
       "      <td>SCANDINAVIAN</td>\n",
       "      <td>X8bqVqW1FE8A93C42C14674</td>\n",
       "      <td>클램</td>\n",
       "    </tr>\n",
       "    <tr>\n",
       "      <th>0</th>\n",
       "      <td>0.995962</td>\n",
       "      <td>SCANDINAVIAN</td>\n",
       "      <td>X8HIeEz5F7FDC311B214AF4</td>\n",
       "      <td>블루 풀 레이스 티팟 1000ml</td>\n",
       "    </tr>\n",
       "    <tr>\n",
       "      <th>0</th>\n",
       "      <td>0.995962</td>\n",
       "      <td>SCANDINAVIAN</td>\n",
       "      <td>X8HIsXd308652F797CB4B8D</td>\n",
       "      <td>블루 플레인 2단 스탠드</td>\n",
       "    </tr>\n",
       "    <tr>\n",
       "      <th>0</th>\n",
       "      <td>0.995962</td>\n",
       "      <td>SCANDINAVIAN</td>\n",
       "      <td>X8bqbGv983D3122E5A348D9</td>\n",
       "      <td>차이나체어</td>\n",
       "    </tr>\n",
       "    <tr>\n",
       "      <th>...</th>\n",
       "      <td>...</td>\n",
       "      <td>...</td>\n",
       "      <td>...</td>\n",
       "      <td>...</td>\n",
       "    </tr>\n",
       "    <tr>\n",
       "      <th>14</th>\n",
       "      <td>0.973749</td>\n",
       "      <td>MODERN</td>\n",
       "      <td>Xf2tLtF6C5C4D40358945C1</td>\n",
       "      <td>Kaleido S (화이트)</td>\n",
       "    </tr>\n",
       "    <tr>\n",
       "      <th>14</th>\n",
       "      <td>0.973749</td>\n",
       "      <td>MODERN</td>\n",
       "      <td>XSv1DioAC3989326C9749C6</td>\n",
       "      <td>KVISSLE (White)</td>\n",
       "    </tr>\n",
       "    <tr>\n",
       "      <th>14</th>\n",
       "      <td>0.973749</td>\n",
       "      <td>MODERN</td>\n",
       "      <td>B3ACF099541145A0</td>\n",
       "      <td>빅플러스 3D 거실 LED 벽시계-화이트</td>\n",
       "    </tr>\n",
       "    <tr>\n",
       "      <th>14</th>\n",
       "      <td>0.973749</td>\n",
       "      <td>MODERN</td>\n",
       "      <td>XVUjzbr04645A79F309447B</td>\n",
       "      <td>네시노 테이블 램프 (화이트)</td>\n",
       "    </tr>\n",
       "    <tr>\n",
       "      <th>14</th>\n",
       "      <td>0.973749</td>\n",
       "      <td>MODERN</td>\n",
       "      <td>XcdpMM_3B68F74ECB9F4B13</td>\n",
       "      <td>AGEN 장스탠드 2colors E26 KS2087F (화이트)</td>\n",
       "    </tr>\n",
       "  </tbody>\n",
       "</table>\n",
       "<p>188 rows × 4 columns</p>\n",
       "</div>"
      ],
      "text/plain": [
       "    awesome_score     top_style                    items  \\\n",
       "0        0.995962  SCANDINAVIAN  X8brWeE6E8B43372F554FBC   \n",
       "0        0.995962  SCANDINAVIAN  X8bqVqW1FE8A93C42C14674   \n",
       "0        0.995962  SCANDINAVIAN  X8HIeEz5F7FDC311B214AF4   \n",
       "0        0.995962  SCANDINAVIAN  X8HIsXd308652F797CB4B8D   \n",
       "0        0.995962  SCANDINAVIAN  X8bqbGv983D3122E5A348D9   \n",
       "..            ...           ...                      ...   \n",
       "14       0.973749        MODERN  Xf2tLtF6C5C4D40358945C1   \n",
       "14       0.973749        MODERN  XSv1DioAC3989326C9749C6   \n",
       "14       0.973749        MODERN         B3ACF099541145A0   \n",
       "14       0.973749        MODERN  XVUjzbr04645A79F309447B   \n",
       "14       0.973749        MODERN  XcdpMM_3B68F74ECB9F4B13   \n",
       "\n",
       "                                  names  \n",
       "0                          아이즐렛 다이닝 테이블  \n",
       "0                                    클램  \n",
       "0                    블루 풀 레이스 티팟 1000ml  \n",
       "0                         블루 플레인 2단 스탠드  \n",
       "0                                 차이나체어  \n",
       "..                                  ...  \n",
       "14                      Kaleido S (화이트)  \n",
       "14                      KVISSLE (White)  \n",
       "14               빅플러스 3D 거실 LED 벽시계-화이트  \n",
       "14                     네시노 테이블 램프 (화이트)  \n",
       "14  AGEN 장스탠드 2colors E26 KS2087F (화이트)  \n",
       "\n",
       "[188 rows x 4 columns]"
      ]
     },
     "execution_count": 24,
     "metadata": {},
     "output_type": "execute_result"
    }
   ],
   "source": [
    "best_item_4_B"
   ]
  },
  {
   "cell_type": "code",
   "execution_count": 25,
   "id": "90f9a74a-8012-4227-9627-abd078c6fa82",
   "metadata": {
    "tags": []
   },
   "outputs": [],
   "source": [
    "search_word = \"아이즐렛 다이닝 테이블\"\n",
    "x = best_item_4_B.query(f'names == \"{search_word}\"')[['awesome_score', 'top_style']]\n",
    "\n",
    "awe = x['awesome_score'].values[0]\n",
    "top = x['top_style'].values[0]\n",
    "\n",
    "best_item_4_B.query(f'awesome_score == {awe} & top_style == \"{top}\" & names != \"{search_word}\"')\n",
    "cond = f'awesome_score == {awe} & top_style == \"{top}\" & names != \"{search_word}\"'"
   ]
  },
  {
   "cell_type": "code",
   "execution_count": 26,
   "id": "a065e80f-325c-4756-a0f2-57102ed5d822",
   "metadata": {},
   "outputs": [
    {
     "data": {
      "text/plain": [
       "['X8bqVqW1FE8A93C42C14674',\n",
       " 'X8HIeEz5F7FDC311B214AF4',\n",
       " 'X8HIsXd308652F797CB4B8D',\n",
       " 'X8bqbGv983D3122E5A348D9',\n",
       " 'X8HIA-wDC4CB7511D2949A2',\n",
       " 'X8LUvwCD3EDAAAE734D4AAA']"
      ]
     },
     "execution_count": 26,
     "metadata": {},
     "output_type": "execute_result"
    }
   ],
   "source": [
    "best_item_4_B.query(cond)['items'].values.tolist()"
   ]
  },
  {
   "cell_type": "code",
   "execution_count": 27,
   "id": "e895b646-021e-4bd9-b366-0a58623299d7",
   "metadata": {},
   "outputs": [
    {
     "data": {
      "text/plain": [
       "['클램',\n",
       " '블루 풀 레이스 티팟 1000ml',\n",
       " '블루 플레인 2단 스탠드',\n",
       " '차이나체어',\n",
       " '블루 플레인 컵앤소서 180ml',\n",
       " '몰딩_01']"
      ]
     },
     "execution_count": 27,
     "metadata": {},
     "output_type": "execute_result"
    }
   ],
   "source": [
    "best_item_4_B.query(cond)['names'].values.tolist()"
   ]
  },
  {
   "cell_type": "code",
   "execution_count": 28,
   "id": "cb3b0825-c5fb-4cdc-a9e2-77b2de8ad1f2",
   "metadata": {
    "tags": []
   },
   "outputs": [],
   "source": [
    "from gensim.models import Word2Vec\n",
    "\n",
    "sentence = best_item_4_col['name'].values.tolist()\n",
    "embedding_model = Word2Vec(sentence, vector_size=20, window = 5, \n",
    "                           min_count=1, workers=4, epochs=200, sg=1)"
   ]
  },
  {
   "cell_type": "code",
   "execution_count": 29,
   "id": "a6cc8b97-3377-42ff-aabb-2934784cfb18",
   "metadata": {},
   "outputs": [],
   "source": [
    "search_word = '아이즐렛 다이닝 테이블'\n",
    "\n",
    "for i, set_names in enumerate(best_item_4_col['name'].tolist()):\n",
    "    if search_word in set_names:\n",
    "        index = i\n",
    "        \n",
    "originalset_len = len(best_item_4_col.iloc[index]['name'])\n",
    "result = set(np.asarray(embedding_model.wv.most_similar(positive=[search_word], topn=originalset_len+5))[:, 0])"
   ]
  },
  {
   "cell_type": "code",
   "execution_count": 30,
   "id": "cd2b9db0-a792-4972-b1b8-7e7bebc9018f",
   "metadata": {},
   "outputs": [
    {
     "data": {
      "text/plain": [
       "(['아이즐렛 다이닝 테이블',\n",
       "  '클램',\n",
       "  '블루 풀 레이스 티팟 1000ml',\n",
       "  '블루 플레인 2단 스탠드',\n",
       "  '차이나체어',\n",
       "  '블루 플레인 컵앤소서 180ml',\n",
       "  '몰딩_01'],\n",
       " 7)"
      ]
     },
     "execution_count": 30,
     "metadata": {},
     "output_type": "execute_result"
    }
   ],
   "source": [
    "best_item_4_col.iloc[index]['name'], len(best_item_4_col.iloc[index]['name'])"
   ]
  },
  {
   "cell_type": "code",
   "execution_count": 31,
   "id": "aa220d9f-cf69-499d-b81c-ae108ab3a861",
   "metadata": {},
   "outputs": [
    {
     "data": {
      "text/plain": [
       "{'아이즐렛 다이닝 테이블'}"
      ]
     },
     "execution_count": 31,
     "metadata": {},
     "output_type": "execute_result"
    }
   ],
   "source": [
    "set(best_item_4_col.iloc[index]['name']).difference(result)"
   ]
  },
  {
   "cell_type": "code",
   "execution_count": 32,
   "id": "33848adb-1622-4ed9-b74a-4c0527380bf6",
   "metadata": {},
   "outputs": [
    {
     "data": {
      "text/plain": [
       "({'4F_TV',\n",
       "  'B1F_칠판 받침대',\n",
       "  'LB110S',\n",
       "  'LG 오피스 TV 거치대',\n",
       "  'VIRRMO 비르모_off',\n",
       "  '몰딩_01',\n",
       "  '블루 풀 레이스 티팟 1000ml',\n",
       "  '블루 플레인 2단 스탠드',\n",
       "  '블루 플레인 컵앤소서 180ml',\n",
       "  '차이나체어',\n",
       "  '클램',\n",
       "  '파트라 2인용 학원책상 티제로(T0)\\nDA0118 (접이식)'},\n",
       " 12)"
      ]
     },
     "execution_count": 32,
     "metadata": {},
     "output_type": "execute_result"
    }
   ],
   "source": [
    "result, len(result)"
   ]
  },
  {
   "cell_type": "code",
   "execution_count": 33,
   "id": "c30d3a48-0e68-43e9-b1e2-c5fb2a96acf7",
   "metadata": {},
   "outputs": [
    {
     "data": {
      "text/plain": [
       "[['https://resources.archisketch.com/product/X8brWeE6E8B43372F554FBC/21-02-2022_09-55-00/preview/X8brWeE6E8B43372F554FBC_1.png',\n",
       "  'https://resources.archisketch.com/product/X8brWeE6E8B43372F554FBC/21-02-2022_09-55-00/preview/X8brWeE6E8B43372F554FBC_0.png',\n",
       "  'https://resources.archisketch.com/product/X8brWeE6E8B43372F554FBC/21-02-2022_09-55-00/preview/X8brWeE6E8B43372F554FBC_2.png',\n",
       "  'https://resources.archisketch.com/product/X8brWeE6E8B43372F554FBC/21-02-2022_09-55-00/preview/X8brWeE6E8B43372F554FBC_3.png',\n",
       "  'https://resources.archisketch.com/product/X8brWeE6E8B43372F554FBC/21-02-2022_09-55-00/preview/X8brWeE6E8B43372F554FBC_4.png',\n",
       "  'https://resources.archisketch.com/product/X8brWeE6E8B43372F554FBC/21-02-2022_09-55-00/preview/X8brWeE6E8B43372F554FBC_5.png']]"
      ]
     },
     "execution_count": 33,
     "metadata": {},
     "output_type": "execute_result"
    }
   ],
   "source": [
    "prod.query(f'name == \"{search_word}\"')['images'].tolist()"
   ]
  },
  {
   "cell_type": "code",
   "execution_count": 34,
   "id": "8f0774b4-a76f-46a5-8bd0-9db94464be68",
   "metadata": {},
   "outputs": [
    {
     "name": "stdout",
     "output_type": "stream",
     "text": [
      "몰딩_01\n",
      "차이나체어\n",
      "VIRRMO 비르모_off\n",
      "파트라 2인용 학원책상 티제로(T0)\n",
      "DA0118 (접이식)\n"
     ]
    },
    {
     "ename": "ValueError",
     "evalue": "multi-line expressions are only valid in the context of data, use DataFrame.eval",
     "output_type": "error",
     "traceback": [
      "\u001b[0;31m---------------------------------------------------------------------------\u001b[0m",
      "\u001b[0;31mValueError\u001b[0m                                Traceback (most recent call last)",
      "Input \u001b[0;32mIn [34]\u001b[0m, in \u001b[0;36m<module>\u001b[0;34m\u001b[0m\n\u001b[1;32m      2\u001b[0m \u001b[38;5;28;01mfor\u001b[39;00m item_check \u001b[38;5;129;01min\u001b[39;00m \u001b[38;5;28mlist\u001b[39m(result)[:\u001b[38;5;241m-\u001b[39m\u001b[38;5;241m1\u001b[39m]:\n\u001b[1;32m      3\u001b[0m     \u001b[38;5;28mprint\u001b[39m(item_check)\n\u001b[0;32m----> 4\u001b[0m     image_urls \u001b[38;5;241m=\u001b[39m \u001b[43mprod\u001b[49m\u001b[38;5;241;43m.\u001b[39;49m\u001b[43mquery\u001b[49m\u001b[43m(\u001b[49m\u001b[38;5;124;43mf\u001b[39;49m\u001b[38;5;124;43m'\u001b[39;49m\u001b[38;5;124;43mname == \u001b[39;49m\u001b[38;5;124;43m\"\u001b[39;49m\u001b[38;5;132;43;01m{\u001b[39;49;00m\u001b[43mitem_check\u001b[49m\u001b[38;5;132;43;01m}\u001b[39;49;00m\u001b[38;5;124;43m\"\u001b[39;49m\u001b[38;5;124;43m'\u001b[39;49m\u001b[43m)\u001b[49m[\u001b[38;5;124m'\u001b[39m\u001b[38;5;124mimages\u001b[39m\u001b[38;5;124m'\u001b[39m]\u001b[38;5;241m.\u001b[39mtolist()[\u001b[38;5;241m0\u001b[39m]\n\u001b[1;32m      5\u001b[0m     \u001b[38;5;28;01mif\u001b[39;00m \u001b[38;5;28mlen\u001b[39m(image_urls) \u001b[38;5;241m>\u001b[39m \u001b[38;5;241m0\u001b[39m:\n\u001b[1;32m      6\u001b[0m         result_pics\u001b[38;5;241m.\u001b[39mappend(image_urls)\n",
      "File \u001b[0;32m/opt/homebrew/Caskroom/miniforge/base/envs/cp2/lib/python3.8/site-packages/pandas/core/frame.py:4105\u001b[0m, in \u001b[0;36mDataFrame.query\u001b[0;34m(self, expr, inplace, **kwargs)\u001b[0m\n\u001b[1;32m   4103\u001b[0m kwargs[\u001b[38;5;124m\"\u001b[39m\u001b[38;5;124mlevel\u001b[39m\u001b[38;5;124m\"\u001b[39m] \u001b[38;5;241m=\u001b[39m kwargs\u001b[38;5;241m.\u001b[39mpop(\u001b[38;5;124m\"\u001b[39m\u001b[38;5;124mlevel\u001b[39m\u001b[38;5;124m\"\u001b[39m, \u001b[38;5;241m0\u001b[39m) \u001b[38;5;241m+\u001b[39m \u001b[38;5;241m1\u001b[39m\n\u001b[1;32m   4104\u001b[0m kwargs[\u001b[38;5;124m\"\u001b[39m\u001b[38;5;124mtarget\u001b[39m\u001b[38;5;124m\"\u001b[39m] \u001b[38;5;241m=\u001b[39m \u001b[38;5;28;01mNone\u001b[39;00m\n\u001b[0;32m-> 4105\u001b[0m res \u001b[38;5;241m=\u001b[39m \u001b[38;5;28;43mself\u001b[39;49m\u001b[38;5;241;43m.\u001b[39;49m\u001b[43meval\u001b[49m\u001b[43m(\u001b[49m\u001b[43mexpr\u001b[49m\u001b[43m,\u001b[49m\u001b[43m \u001b[49m\u001b[38;5;241;43m*\u001b[39;49m\u001b[38;5;241;43m*\u001b[39;49m\u001b[43mkwargs\u001b[49m\u001b[43m)\u001b[49m\n\u001b[1;32m   4107\u001b[0m \u001b[38;5;28;01mtry\u001b[39;00m:\n\u001b[1;32m   4108\u001b[0m     result \u001b[38;5;241m=\u001b[39m \u001b[38;5;28mself\u001b[39m\u001b[38;5;241m.\u001b[39mloc[res]\n",
      "File \u001b[0;32m/opt/homebrew/Caskroom/miniforge/base/envs/cp2/lib/python3.8/site-packages/pandas/core/frame.py:4234\u001b[0m, in \u001b[0;36mDataFrame.eval\u001b[0;34m(self, expr, inplace, **kwargs)\u001b[0m\n\u001b[1;32m   4231\u001b[0m     kwargs[\u001b[38;5;124m\"\u001b[39m\u001b[38;5;124mtarget\u001b[39m\u001b[38;5;124m\"\u001b[39m] \u001b[38;5;241m=\u001b[39m \u001b[38;5;28mself\u001b[39m\n\u001b[1;32m   4232\u001b[0m kwargs[\u001b[38;5;124m\"\u001b[39m\u001b[38;5;124mresolvers\u001b[39m\u001b[38;5;124m\"\u001b[39m] \u001b[38;5;241m=\u001b[39m \u001b[38;5;28mtuple\u001b[39m(kwargs\u001b[38;5;241m.\u001b[39mget(\u001b[38;5;124m\"\u001b[39m\u001b[38;5;124mresolvers\u001b[39m\u001b[38;5;124m\"\u001b[39m, ())) \u001b[38;5;241m+\u001b[39m resolvers\n\u001b[0;32m-> 4234\u001b[0m \u001b[38;5;28;01mreturn\u001b[39;00m \u001b[43m_eval\u001b[49m\u001b[43m(\u001b[49m\u001b[43mexpr\u001b[49m\u001b[43m,\u001b[49m\u001b[43m \u001b[49m\u001b[43minplace\u001b[49m\u001b[38;5;241;43m=\u001b[39;49m\u001b[43minplace\u001b[49m\u001b[43m,\u001b[49m\u001b[43m \u001b[49m\u001b[38;5;241;43m*\u001b[39;49m\u001b[38;5;241;43m*\u001b[39;49m\u001b[43mkwargs\u001b[49m\u001b[43m)\u001b[49m\n",
      "File \u001b[0;32m/opt/homebrew/Caskroom/miniforge/base/envs/cp2/lib/python3.8/site-packages/pandas/core/computation/eval.py:325\u001b[0m, in \u001b[0;36meval\u001b[0;34m(expr, parser, engine, truediv, local_dict, global_dict, resolvers, level, target, inplace)\u001b[0m\n\u001b[1;32m    322\u001b[0m multi_line \u001b[38;5;241m=\u001b[39m \u001b[38;5;28mlen\u001b[39m(exprs) \u001b[38;5;241m>\u001b[39m \u001b[38;5;241m1\u001b[39m\n\u001b[1;32m    324\u001b[0m \u001b[38;5;28;01mif\u001b[39;00m multi_line \u001b[38;5;129;01mand\u001b[39;00m target \u001b[38;5;129;01mis\u001b[39;00m \u001b[38;5;28;01mNone\u001b[39;00m:\n\u001b[0;32m--> 325\u001b[0m     \u001b[38;5;28;01mraise\u001b[39;00m \u001b[38;5;167;01mValueError\u001b[39;00m(\n\u001b[1;32m    326\u001b[0m         \u001b[38;5;124m\"\u001b[39m\u001b[38;5;124mmulti-line expressions are only valid in the \u001b[39m\u001b[38;5;124m\"\u001b[39m\n\u001b[1;32m    327\u001b[0m         \u001b[38;5;124m\"\u001b[39m\u001b[38;5;124mcontext of data, use DataFrame.eval\u001b[39m\u001b[38;5;124m\"\u001b[39m\n\u001b[1;32m    328\u001b[0m     )\n\u001b[1;32m    329\u001b[0m engine \u001b[38;5;241m=\u001b[39m _check_engine(engine)\n\u001b[1;32m    330\u001b[0m _check_parser(parser)\n",
      "\u001b[0;31mValueError\u001b[0m: multi-line expressions are only valid in the context of data, use DataFrame.eval"
     ]
    }
   ],
   "source": [
    "result_pics = []\n",
    "for item_check in list(result)[:-1]:\n",
    "    print(item_check)\n",
    "    image_urls = prod.query(f'name == \"{item_check}\"')['images'].tolist()[0]\n",
    "    if len(image_urls) > 0:\n",
    "        result_pics.append(image_urls)"
   ]
  },
  {
   "cell_type": "code",
   "execution_count": null,
   "id": "56a2e3c5-b3f9-49ec-875a-18d9a2b89b85",
   "metadata": {
    "tags": []
   },
   "outputs": [],
   "source": [
    "len(result_pics)"
   ]
  },
  {
   "cell_type": "code",
   "execution_count": null,
   "id": "daeb8cc0-a036-40c9-8b6c-0ecac1b7e62d",
   "metadata": {},
   "outputs": [],
   "source": [
    "result_pics"
   ]
  },
  {
   "cell_type": "code",
   "execution_count": null,
   "id": "f31445fc-ad13-49e9-aab8-9482d1d795b9",
   "metadata": {},
   "outputs": [],
   "source": []
  }
 ],
 "metadata": {
  "kernelspec": {
   "display_name": "Python 3 (ipykernel)",
   "language": "python",
   "name": "python3"
  },
  "language_info": {
   "codemirror_mode": {
    "name": "ipython",
    "version": 3
   },
   "file_extension": ".py",
   "mimetype": "text/x-python",
   "name": "python",
   "nbconvert_exporter": "python",
   "pygments_lexer": "ipython3",
   "version": "3.8.12"
  }
 },
 "nbformat": 4,
 "nbformat_minor": 5
}
