{
 "cells": [
  {
   "cell_type": "code",
   "execution_count": 30,
   "id": "31115fbc-eac2-4d1f-8286-ea1a5bf04c90",
   "metadata": {},
   "outputs": [],
   "source": [
    "import json\n",
    "import pandas as pd\n",
    "import numpy as np\n",
    "import requests\n",
    "from io import BytesIO\n",
    "from PIL import Image\n",
    "from IPython.display import display\n",
    "import textdistance\n",
    "import time\n",
    "from glob import glob\n",
    "from sklearn.metrics import classification_report\n",
    "from sklearn.linear_model import LogisticRegression\n",
    "from sklearn.model_selection import train_test_split\n",
    "\n",
    "from preprocess import Preprocess"
   ]
  },
  {
   "cell_type": "code",
   "execution_count": 31,
   "id": "ae8d9789-4474-434d-b896-b9cefe680eae",
   "metadata": {},
   "outputs": [],
   "source": [
    "base_bath = '2022-03-07/'\n",
    "best = glob(base_bath+'best*.json')\n",
    "item = glob(base_bath+'item*.json')\n",
    "products = glob(base_bath+'prod*.json')\n",
    "category = glob(base_bath+'cate*.json')"
   ]
  },
  {
   "cell_type": "code",
   "execution_count": 32,
   "id": "2710f454-a250-455a-8774-2256b21cfbc2",
   "metadata": {},
   "outputs": [
    {
     "name": "stdout",
     "output_type": "stream",
     "text": [
      "(4268, 37)\n"
     ]
    },
    {
     "name": "stderr",
     "output_type": "stream",
     "text": [
      "/Users/ruo/Desktop/codestates/CP2/preprocess.py:88: FutureWarning: The default dtype for empty Series will be 'object' instead of 'float64' in a future version. Specify a dtype explicitly to silence this warning.\n",
      "  items_stack = pd.DataFrame(templates['items'].apply(lambda x: pd.Series(x)).stack()).reset_index(1, drop=True)\n"
     ]
    },
    {
     "name": "stdout",
     "output_type": "stream",
     "text": [
      "1.767730951309204초\n"
     ]
    }
   ],
   "source": [
    "st = time.time()\n",
    "DATA = Preprocess(best, item, products, category)\n",
    "print(f\"{time.time()-st}초\")"
   ]
  },
  {
   "cell_type": "code",
   "execution_count": 33,
   "id": "8bf8a16f-f702-47dd-b377-4633236bca98",
   "metadata": {},
   "outputs": [],
   "source": [
    "best_item_df, products_df_4, products_df_b = DATA.best_item, DATA.products_4, DATA.products_b"
   ]
  },
  {
   "cell_type": "code",
   "execution_count": 34,
   "id": "e01bde32-a9ba-4ae4-8667-6d8190a193d5",
   "metadata": {},
   "outputs": [
    {
     "data": {
      "text/plain": [
       "((4251, 12), (45841, 12))"
      ]
     },
     "execution_count": 34,
     "metadata": {},
     "output_type": "execute_result"
    }
   ],
   "source": [
    "products_df_4.shape, products_df_b.shape"
   ]
  },
  {
   "cell_type": "code",
   "execution_count": 35,
   "id": "4b7152a2-0bf5-42c8-9731-671e78af655e",
   "metadata": {},
   "outputs": [
    {
     "data": {
      "text/html": [
       "<div>\n",
       "<style scoped>\n",
       "    .dataframe tbody tr th:only-of-type {\n",
       "        vertical-align: middle;\n",
       "    }\n",
       "\n",
       "    .dataframe tbody tr th {\n",
       "        vertical-align: top;\n",
       "    }\n",
       "\n",
       "    .dataframe thead th {\n",
       "        text-align: right;\n",
       "    }\n",
       "</style>\n",
       "<table border=\"1\" class=\"dataframe\">\n",
       "  <thead>\n",
       "    <tr style=\"text-align: right;\">\n",
       "      <th></th>\n",
       "      <th>_id</th>\n",
       "      <th>name</th>\n",
       "      <th>modelUrl</th>\n",
       "      <th>enterpriseId</th>\n",
       "      <th>userId</th>\n",
       "      <th>categories</th>\n",
       "      <th>archiCategories</th>\n",
       "      <th>description</th>\n",
       "      <th>tags</th>\n",
       "      <th>brand</th>\n",
       "      <th>...</th>\n",
       "      <th>color</th>\n",
       "      <th>renderSettings</th>\n",
       "      <th>renderMaterial</th>\n",
       "      <th>hdViewerImages</th>\n",
       "      <th>ar</th>\n",
       "      <th>option</th>\n",
       "      <th>parentProduct</th>\n",
       "      <th>createdAt</th>\n",
       "      <th>updatedAt</th>\n",
       "      <th>category_name</th>\n",
       "    </tr>\n",
       "  </thead>\n",
       "  <tbody>\n",
       "    <tr>\n",
       "      <th>8446</th>\n",
       "      <td>Xr78ie7CAD688A9F1124245</td>\n",
       "      <td>CESBON 원목슬라이딩 수납협탁 라탄 KCN003 7815.1583(브라운)</td>\n",
       "      <td>None</td>\n",
       "      <td>B57D4F97C0E44A11</td>\n",
       "      <td>66BB40FB18C641FA</td>\n",
       "      <td>[XrLsNeb8C402A494A8245C4]</td>\n",
       "      <td>None</td>\n",
       "      <td>None</td>\n",
       "      <td>[테이블, 태이블, 탁자, 사이드테이블, 협탁, 사이드, 티테이블, 보조테이블, 침...</td>\n",
       "      <td>마켓비</td>\n",
       "      <td>...</td>\n",
       "      <td>None</td>\n",
       "      <td>{'tempararyConfigure': 'config_XsvRzF_.archisk...</td>\n",
       "      <td>false</td>\n",
       "      <td>[]</td>\n",
       "      <td>{'android': 'https://d2uz6y97crd8bk.cloudfront...</td>\n",
       "      <td>None</td>\n",
       "      <td>Xt2-Qw54F84E49695474401</td>\n",
       "      <td>2021-08-17T01:38:56.917Z</td>\n",
       "      <td>2021-11-27T06:14:12.458Z</td>\n",
       "      <td>XrLsNeb8C402A494A8245C4</td>\n",
       "    </tr>\n",
       "  </tbody>\n",
       "</table>\n",
       "<p>1 rows × 40 columns</p>\n",
       "</div>"
      ],
      "text/plain": [
       "                          _id                                         name  \\\n",
       "8446  Xr78ie7CAD688A9F1124245  CESBON 원목슬라이딩 수납협탁 라탄 KCN003 7815.1583(브라운)   \n",
       "\n",
       "     modelUrl      enterpriseId            userId                 categories  \\\n",
       "8446     None  B57D4F97C0E44A11  66BB40FB18C641FA  [XrLsNeb8C402A494A8245C4]   \n",
       "\n",
       "     archiCategories description  \\\n",
       "8446            None        None   \n",
       "\n",
       "                                                   tags brand  ... color  \\\n",
       "8446  [테이블, 태이블, 탁자, 사이드테이블, 협탁, 사이드, 티테이블, 보조테이블, 침...   마켓비  ...  None   \n",
       "\n",
       "                                         renderSettings renderMaterial  \\\n",
       "8446  {'tempararyConfigure': 'config_XsvRzF_.archisk...          false   \n",
       "\n",
       "     hdViewerImages                                                 ar option  \\\n",
       "8446             []  {'android': 'https://d2uz6y97crd8bk.cloudfront...   None   \n",
       "\n",
       "                parentProduct                 createdAt  \\\n",
       "8446  Xt2-Qw54F84E49695474401  2021-08-17T01:38:56.917Z   \n",
       "\n",
       "                     updatedAt            category_name  \n",
       "8446  2021-11-27T06:14:12.458Z  XrLsNeb8C402A494A8245C4  \n",
       "\n",
       "[1 rows x 40 columns]"
      ]
     },
     "execution_count": 35,
     "metadata": {},
     "output_type": "execute_result"
    }
   ],
   "source": [
    "DATA.products_json[DATA.products_json['_id'] == 'Xr78ie7CAD688A9F1124245']"
   ]
  },
  {
   "cell_type": "code",
   "execution_count": 7,
   "id": "fe00e38b-2381-4573-9d62-af53d1aaa92d",
   "metadata": {
    "tags": []
   },
   "outputs": [
    {
     "data": {
      "text/plain": [
       "(Index(['id', 'projectId', 'remainTime', 'renderStartTime', 'uuid', 'type',\n",
       "        'resolution', 'enterprise_id', 'userId', 'referenceId', 'status',\n",
       "        'publish', 'ack', 'myorder', 'targetServer', 'visible', 'temperature',\n",
       "        'fileCount', 'position', 'rotation', 'mapId', 'list', 'background',\n",
       "        'tags', 'roomTag', 'watermark', 'comment', 'items', 'archive',\n",
       "        'createdAt', 'updatedAt'],\n",
       "       dtype='object'),\n",
       " Index(['awesome_score', 'date', 'datetime', 'enterprise_id', 'id', 'projectId',\n",
       "        'style_predictions', 'top_score', 'top_style'],\n",
       "       dtype='object'))"
      ]
     },
     "execution_count": 7,
     "metadata": {},
     "output_type": "execute_result"
    }
   ],
   "source": [
    "DATA.item_json.columns, DATA.best_json.columns"
   ]
  },
  {
   "cell_type": "code",
   "execution_count": 8,
   "id": "7fa546d7-a1e9-44f4-8815-23202b372f20",
   "metadata": {},
   "outputs": [
    {
     "data": {
      "text/plain": [
       "((4268, 31), (4472, 9))"
      ]
     },
     "execution_count": 8,
     "metadata": {},
     "output_type": "execute_result"
    }
   ],
   "source": [
    "DATA.item_json.shape, DATA.best_json.shape"
   ]
  },
  {
   "cell_type": "code",
   "execution_count": 9,
   "id": "e87340be-bd2c-4356-be69-6dd6051e87da",
   "metadata": {},
   "outputs": [
    {
     "data": {
      "text/plain": [
       "(4268, 4472)"
      ]
     },
     "execution_count": 9,
     "metadata": {},
     "output_type": "execute_result"
    }
   ],
   "source": [
    "DATA.item_json['id'].nunique(), DATA.best_json['id'].nunique()"
   ]
  },
  {
   "cell_type": "code",
   "execution_count": 10,
   "id": "a1200d97-a3ce-40a6-bcc6-6d373dd6f183",
   "metadata": {
    "tags": []
   },
   "outputs": [
    {
     "data": {
      "text/html": [
       "<div>\n",
       "<style scoped>\n",
       "    .dataframe tbody tr th:only-of-type {\n",
       "        vertical-align: middle;\n",
       "    }\n",
       "\n",
       "    .dataframe tbody tr th {\n",
       "        vertical-align: top;\n",
       "    }\n",
       "\n",
       "    .dataframe thead th {\n",
       "        text-align: right;\n",
       "    }\n",
       "</style>\n",
       "<table border=\"1\" class=\"dataframe\">\n",
       "  <thead>\n",
       "    <tr style=\"text-align: right;\">\n",
       "      <th></th>\n",
       "      <th>id</th>\n",
       "      <th>projectId</th>\n",
       "      <th>enterprise_id_x</th>\n",
       "      <th>tags</th>\n",
       "      <th>items</th>\n",
       "      <th>enterprise_id_y</th>\n",
       "      <th>top_style</th>\n",
       "      <th>awesome_score</th>\n",
       "    </tr>\n",
       "  </thead>\n",
       "  <tbody>\n",
       "    <tr>\n",
       "      <th>0</th>\n",
       "      <td>X9fcQ2a51DF20178DF54F13</td>\n",
       "      <td>X5chnik137E1C1660674AD0</td>\n",
       "      <td>B57D4F97C0E44A11</td>\n",
       "      <td>[커피, 룸스퀘어, 원목, 커튼, 흰색, 가공목(mdf 외), 일자형, 피넛, 테이...</td>\n",
       "      <td>[{'productId': 'Xz-wAFED496F743543646FF', 'pos...</td>\n",
       "      <td>B57D4F97C0E44A11</td>\n",
       "      <td>MODERN</td>\n",
       "      <td>0.925528</td>\n",
       "    </tr>\n",
       "    <tr>\n",
       "      <th>1</th>\n",
       "      <td>X9fcF3mE6AD8861457642A5</td>\n",
       "      <td>X8Q9Pi0B994A39681B347FA</td>\n",
       "      <td>B57D4F97C0E44A11</td>\n",
       "      <td>[침대형소파, 데스크, 가공목(mdf 외), 일자형, 일자책상, 책상, 2인, 소파...</td>\n",
       "      <td>[{'productId': 'XkM8W9WDCCA3D3B46F3411A', 'pos...</td>\n",
       "      <td>B57D4F97C0E44A11</td>\n",
       "      <td>MODERN</td>\n",
       "      <td>0.886915</td>\n",
       "    </tr>\n",
       "    <tr>\n",
       "      <th>2</th>\n",
       "      <td>X9fZjJC28AB358F7AA846B2</td>\n",
       "      <td>X9fEbilC7E9F7F66FD44F37</td>\n",
       "      <td>B57D4F97C0E44A11</td>\n",
       "      <td>[흰색, 블루, 일자형, 아이와비, 2인, 쇼파, 수납, 일자형소파, 페브릭, 파랑...</td>\n",
       "      <td>[{'productId': 'Xz-wADl0009A564784E4B1C', 'pos...</td>\n",
       "      <td>B57D4F97C0E44A11</td>\n",
       "      <td>MODERN</td>\n",
       "      <td>0.939071</td>\n",
       "    </tr>\n",
       "    <tr>\n",
       "      <th>3</th>\n",
       "      <td>X9fZAF12E429672D7BF4BCA</td>\n",
       "      <td>X9de1WC820C0C4A78DE471D</td>\n",
       "      <td>B57D4F97C0E44A11</td>\n",
       "      <td>[]</td>\n",
       "      <td>[{'productId': 'XUreGXbDB59793C2C2443BF', 'pos...</td>\n",
       "      <td>B57D4F97C0E44A11</td>\n",
       "      <td>MINIMAL</td>\n",
       "      <td>0.820574</td>\n",
       "    </tr>\n",
       "    <tr>\n",
       "      <th>4</th>\n",
       "      <td>X9fVcV_7887E9ED52FD4F33</td>\n",
       "      <td>X8QStBVB4FDB8D436544C6E</td>\n",
       "      <td>B57D4F97C0E44A11</td>\n",
       "      <td>[검정, 리바트, TV, 텔레비전, 마켓비, 벽/천장장식, 플렌트, 레토, 스탠드선...</td>\n",
       "      <td>[{'productId': 'XQA6Kp97A010F7BEFCD4F32', 'pos...</td>\n",
       "      <td>B57D4F97C0E44A11</td>\n",
       "      <td>MODERN</td>\n",
       "      <td>0.988438</td>\n",
       "    </tr>\n",
       "    <tr>\n",
       "      <th>...</th>\n",
       "      <td>...</td>\n",
       "      <td>...</td>\n",
       "      <td>...</td>\n",
       "      <td>...</td>\n",
       "      <td>...</td>\n",
       "      <td>...</td>\n",
       "      <td>...</td>\n",
       "      <td>...</td>\n",
       "    </tr>\n",
       "    <tr>\n",
       "      <th>4263</th>\n",
       "      <td>X4T1msw99291C565DB9431D</td>\n",
       "      <td>X3Lr2wo38FBAE0469E14D17</td>\n",
       "      <td>B57D4F97C0E44A11</td>\n",
       "      <td>[검정, 렌지대, 일반냉장고, 와이어, 가공목(mdf외), 4층, 식탁의자, 6인,...</td>\n",
       "      <td>[{'productId': 'XkM-52CB18E3DFE50234607', 'pos...</td>\n",
       "      <td>B57D4F97C0E44A11</td>\n",
       "      <td>MODERN</td>\n",
       "      <td>0.917828</td>\n",
       "    </tr>\n",
       "    <tr>\n",
       "      <th>4264</th>\n",
       "      <td>X4TrBai64DC820346364DBF</td>\n",
       "      <td>X3XfS-L39479E99D39F4544</td>\n",
       "      <td>B57D4F97C0E44A11</td>\n",
       "      <td>[침대, 원목, 수납침대, 흰색, 원목침대, 수납형, 나무, 조명, 퀸(Q), 수납...</td>\n",
       "      <td>[{'productId': 'Xekv6-d0B1272B6A0684E87', 'pos...</td>\n",
       "      <td>B57D4F97C0E44A11</td>\n",
       "      <td>NATURAL</td>\n",
       "      <td>0.914176</td>\n",
       "    </tr>\n",
       "    <tr>\n",
       "      <th>4265</th>\n",
       "      <td>X4Th66N2C8B5EB2B8F544BE</td>\n",
       "      <td>X4Td6-J32DB58901AFA4C51</td>\n",
       "      <td>B57D4F97C0E44A11</td>\n",
       "      <td>[하이그로시(유광), 가공목(mdf 외), 게이밍, 생활, 타원, 에어콘, 플렌트,...</td>\n",
       "      <td>[{'productId': '291AC17286114A1A', 'position':...</td>\n",
       "      <td>B57D4F97C0E44A11</td>\n",
       "      <td>VINTAGE</td>\n",
       "      <td>0.926071</td>\n",
       "    </tr>\n",
       "    <tr>\n",
       "      <th>4266</th>\n",
       "      <td>X4TZCEV39ED247E4B604998</td>\n",
       "      <td>X4QgJoeF113EC2F345E4222</td>\n",
       "      <td>B57D4F97C0E44A11</td>\n",
       "      <td>[검정, 침대, 식탁의자, 데스크, 책꽃이, 가공목(mdf 외), 일반, 책상, 일...</td>\n",
       "      <td>[{'productId': 'XkM8WmiE67162D8E4D44759', 'pos...</td>\n",
       "      <td>B57D4F97C0E44A11</td>\n",
       "      <td>MODERN</td>\n",
       "      <td>0.926755</td>\n",
       "    </tr>\n",
       "    <tr>\n",
       "      <th>4267</th>\n",
       "      <td>X4TCLMCAFC78D85DAD54513</td>\n",
       "      <td>X4TBfv_9FBDF32FB3CA487D</td>\n",
       "      <td>B57D4F97C0E44A11</td>\n",
       "      <td>[데스크, 침대, 책꽃이, 수납침대, 가공목(mdf 외), 일자형, 일자책상, 책상...</td>\n",
       "      <td>[{'productId': 'XU-qi3PA3827E0ADC434910', 'pos...</td>\n",
       "      <td>B57D4F97C0E44A11</td>\n",
       "      <td>MODERN</td>\n",
       "      <td>0.948953</td>\n",
       "    </tr>\n",
       "  </tbody>\n",
       "</table>\n",
       "<p>4268 rows × 8 columns</p>\n",
       "</div>"
      ],
      "text/plain": [
       "                           id                projectId   enterprise_id_x  \\\n",
       "0     X9fcQ2a51DF20178DF54F13  X5chnik137E1C1660674AD0  B57D4F97C0E44A11   \n",
       "1     X9fcF3mE6AD8861457642A5  X8Q9Pi0B994A39681B347FA  B57D4F97C0E44A11   \n",
       "2     X9fZjJC28AB358F7AA846B2  X9fEbilC7E9F7F66FD44F37  B57D4F97C0E44A11   \n",
       "3     X9fZAF12E429672D7BF4BCA  X9de1WC820C0C4A78DE471D  B57D4F97C0E44A11   \n",
       "4     X9fVcV_7887E9ED52FD4F33  X8QStBVB4FDB8D436544C6E  B57D4F97C0E44A11   \n",
       "...                       ...                      ...               ...   \n",
       "4263  X4T1msw99291C565DB9431D  X3Lr2wo38FBAE0469E14D17  B57D4F97C0E44A11   \n",
       "4264  X4TrBai64DC820346364DBF  X3XfS-L39479E99D39F4544  B57D4F97C0E44A11   \n",
       "4265  X4Th66N2C8B5EB2B8F544BE  X4Td6-J32DB58901AFA4C51  B57D4F97C0E44A11   \n",
       "4266  X4TZCEV39ED247E4B604998  X4QgJoeF113EC2F345E4222  B57D4F97C0E44A11   \n",
       "4267  X4TCLMCAFC78D85DAD54513  X4TBfv_9FBDF32FB3CA487D  B57D4F97C0E44A11   \n",
       "\n",
       "                                                   tags  \\\n",
       "0     [커피, 룸스퀘어, 원목, 커튼, 흰색, 가공목(mdf 외), 일자형, 피넛, 테이...   \n",
       "1     [침대형소파, 데스크, 가공목(mdf 외), 일자형, 일자책상, 책상, 2인, 소파...   \n",
       "2     [흰색, 블루, 일자형, 아이와비, 2인, 쇼파, 수납, 일자형소파, 페브릭, 파랑...   \n",
       "3                                                    []   \n",
       "4     [검정, 리바트, TV, 텔레비전, 마켓비, 벽/천장장식, 플렌트, 레토, 스탠드선...   \n",
       "...                                                 ...   \n",
       "4263  [검정, 렌지대, 일반냉장고, 와이어, 가공목(mdf외), 4층, 식탁의자, 6인,...   \n",
       "4264  [침대, 원목, 수납침대, 흰색, 원목침대, 수납형, 나무, 조명, 퀸(Q), 수납...   \n",
       "4265  [하이그로시(유광), 가공목(mdf 외), 게이밍, 생활, 타원, 에어콘, 플렌트,...   \n",
       "4266  [검정, 침대, 식탁의자, 데스크, 책꽃이, 가공목(mdf 외), 일반, 책상, 일...   \n",
       "4267  [데스크, 침대, 책꽃이, 수납침대, 가공목(mdf 외), 일자형, 일자책상, 책상...   \n",
       "\n",
       "                                                  items   enterprise_id_y  \\\n",
       "0     [{'productId': 'Xz-wAFED496F743543646FF', 'pos...  B57D4F97C0E44A11   \n",
       "1     [{'productId': 'XkM8W9WDCCA3D3B46F3411A', 'pos...  B57D4F97C0E44A11   \n",
       "2     [{'productId': 'Xz-wADl0009A564784E4B1C', 'pos...  B57D4F97C0E44A11   \n",
       "3     [{'productId': 'XUreGXbDB59793C2C2443BF', 'pos...  B57D4F97C0E44A11   \n",
       "4     [{'productId': 'XQA6Kp97A010F7BEFCD4F32', 'pos...  B57D4F97C0E44A11   \n",
       "...                                                 ...               ...   \n",
       "4263  [{'productId': 'XkM-52CB18E3DFE50234607', 'pos...  B57D4F97C0E44A11   \n",
       "4264  [{'productId': 'Xekv6-d0B1272B6A0684E87', 'pos...  B57D4F97C0E44A11   \n",
       "4265  [{'productId': '291AC17286114A1A', 'position':...  B57D4F97C0E44A11   \n",
       "4266  [{'productId': 'XkM8WmiE67162D8E4D44759', 'pos...  B57D4F97C0E44A11   \n",
       "4267  [{'productId': 'XU-qi3PA3827E0ADC434910', 'pos...  B57D4F97C0E44A11   \n",
       "\n",
       "     top_style  awesome_score  \n",
       "0       MODERN       0.925528  \n",
       "1       MODERN       0.886915  \n",
       "2       MODERN       0.939071  \n",
       "3      MINIMAL       0.820574  \n",
       "4       MODERN       0.988438  \n",
       "...        ...            ...  \n",
       "4263    MODERN       0.917828  \n",
       "4264   NATURAL       0.914176  \n",
       "4265   VINTAGE       0.926071  \n",
       "4266    MODERN       0.926755  \n",
       "4267    MODERN       0.948953  \n",
       "\n",
       "[4268 rows x 8 columns]"
      ]
     },
     "execution_count": 10,
     "metadata": {},
     "output_type": "execute_result"
    }
   ],
   "source": [
    "pd.merge(DATA.item_json[['id', 'projectId', 'enterprise_id', 'tags', 'items']], \n",
    "         DATA.best_json[['id', 'enterprise_id', 'top_style', 'awesome_score']], on=['id'], how='left')"
   ]
  },
  {
   "cell_type": "code",
   "execution_count": 11,
   "id": "c758d89a-2e8f-460b-aca2-8ec2251f08e5",
   "metadata": {},
   "outputs": [
    {
     "data": {
      "text/plain": [
       "50809"
      ]
     },
     "execution_count": 11,
     "metadata": {},
     "output_type": "execute_result"
    }
   ],
   "source": [
    "samp = DATA.best_item[['projectId', 'enterprise_id', 'items']]\n",
    "samp['items'].apply(lambda x: len(x)).sum()"
   ]
  },
  {
   "cell_type": "code",
   "execution_count": 12,
   "id": "827bcfbc-49ba-4434-9cf8-9406e7a51949",
   "metadata": {
    "collapsed": true,
    "jupyter": {
     "outputs_hidden": true
    },
    "tags": []
   },
   "outputs": [
    {
     "data": {
      "text/html": [
       "<div>\n",
       "<style scoped>\n",
       "    .dataframe tbody tr th:only-of-type {\n",
       "        vertical-align: middle;\n",
       "    }\n",
       "\n",
       "    .dataframe tbody tr th {\n",
       "        vertical-align: top;\n",
       "    }\n",
       "\n",
       "    .dataframe thead th {\n",
       "        text-align: right;\n",
       "    }\n",
       "</style>\n",
       "<table border=\"1\" class=\"dataframe\">\n",
       "  <thead>\n",
       "    <tr style=\"text-align: right;\">\n",
       "      <th></th>\n",
       "      <th>awesome_score</th>\n",
       "      <th>date</th>\n",
       "      <th>datetime</th>\n",
       "      <th>enterprise_id</th>\n",
       "      <th>id</th>\n",
       "      <th>projectId</th>\n",
       "      <th>style_predictions</th>\n",
       "      <th>top_score</th>\n",
       "      <th>top_style</th>\n",
       "      <th>remainTime</th>\n",
       "      <th>...</th>\n",
       "      <th>background</th>\n",
       "      <th>tags</th>\n",
       "      <th>roomTag</th>\n",
       "      <th>watermark</th>\n",
       "      <th>comment</th>\n",
       "      <th>items</th>\n",
       "      <th>archive</th>\n",
       "      <th>createdAt</th>\n",
       "      <th>updatedAt</th>\n",
       "      <th>top_style_1</th>\n",
       "    </tr>\n",
       "  </thead>\n",
       "  <tbody>\n",
       "    <tr>\n",
       "      <th>0</th>\n",
       "      <td>0.993074</td>\n",
       "      <td>2022-03-06</td>\n",
       "      <td>2022-03-06 04:49:13.054</td>\n",
       "      <td>B57D4F97C0E44A11</td>\n",
       "      <td>X9dj2Ve97CAE025F82F4A8B</td>\n",
       "      <td>X9djPepD57A2BDCD418437C</td>\n",
       "      <td>{'BOHEMIAN': 0.00019316500000000003, 'CLASSIC_...</td>\n",
       "      <td>0.986163</td>\n",
       "      <td>NATURAL</td>\n",
       "      <td>00:01:41.31</td>\n",
       "      <td>...</td>\n",
       "      <td>5</td>\n",
       "      <td>[렌지대, 리바트, 침대형소파, 가공목(mdf외), 4층, 식탁의자, 아이와비, o...</td>\n",
       "      <td>0</td>\n",
       "      <td>{'image': 'https://resources.archisketch.com/e...</td>\n",
       "      <td>{'title': '', 'body': ''}</td>\n",
       "      <td>[XjDwfV4C2377DB2C32B4EBD, XrTVBz466807713843D4...</td>\n",
       "      <td>NaN</td>\n",
       "      <td>2022-03-06T04:49:13.054Z</td>\n",
       "      <td>2022-03-06T04:51:24.255Z</td>\n",
       "      <td>NATURAL</td>\n",
       "    </tr>\n",
       "    <tr>\n",
       "      <th>1</th>\n",
       "      <td>0.990285</td>\n",
       "      <td>2022-03-06</td>\n",
       "      <td>2022-03-06 08:11:26.221</td>\n",
       "      <td>B57D4F97C0E44A11</td>\n",
       "      <td>X9eSIiNE9BF42316EF94426</td>\n",
       "      <td>X9dban93BD94E4045124D77</td>\n",
       "      <td>{'BOHEMIAN': 0.000295741, 'CLASSIC_AND_ANTIQUE...</td>\n",
       "      <td>0.939667</td>\n",
       "      <td>MODERN</td>\n",
       "      <td>00:01:40.95</td>\n",
       "      <td>...</td>\n",
       "      <td>8</td>\n",
       "      <td>[]</td>\n",
       "      <td>4</td>\n",
       "      <td>{'image': 'https://resources.archisketch.com/e...</td>\n",
       "      <td>{'title': '', 'body': ''}</td>\n",
       "      <td>[AA4A41116A904BFC, F1BBC6E62B02416E, 88FFE5485...</td>\n",
       "      <td>NaN</td>\n",
       "      <td>2022-03-06T08:11:26.221Z</td>\n",
       "      <td>2022-03-06T08:30:22.868Z</td>\n",
       "      <td>MODERN</td>\n",
       "    </tr>\n",
       "    <tr>\n",
       "      <th>2</th>\n",
       "      <td>0.988438</td>\n",
       "      <td>2022-03-06</td>\n",
       "      <td>2022-03-06 13:05:31.007</td>\n",
       "      <td>B57D4F97C0E44A11</td>\n",
       "      <td>X9fVcV_7887E9ED52FD4F33</td>\n",
       "      <td>X8QStBVB4FDB8D436544C6E</td>\n",
       "      <td>{'BOHEMIAN': 0.000191174, 'CLASSIC_AND_ANTIQUE...</td>\n",
       "      <td>0.834528</td>\n",
       "      <td>MODERN</td>\n",
       "      <td>00:01:39.97</td>\n",
       "      <td>...</td>\n",
       "      <td>8</td>\n",
       "      <td>[검정, 리바트, TV, 텔레비전, 마켓비, 벽/천장장식, 플렌트, 레토, 스탠드선...</td>\n",
       "      <td>1</td>\n",
       "      <td>{'image': 'https://resources.archisketch.com/e...</td>\n",
       "      <td>{'title': '', 'body': ''}</td>\n",
       "      <td>[XQA6Kp97A010F7BEFCD4F32, A7AE5ED7BC3B4ABD, Xk...</td>\n",
       "      <td>NaN</td>\n",
       "      <td>2022-03-06T13:05:31.007Z</td>\n",
       "      <td>2022-03-06T14:18:47.669Z</td>\n",
       "      <td>MODERN</td>\n",
       "    </tr>\n",
       "    <tr>\n",
       "      <th>3</th>\n",
       "      <td>0.986057</td>\n",
       "      <td>2022-03-06</td>\n",
       "      <td>2022-03-06 05:48:44.869</td>\n",
       "      <td>B57D4F97C0E44A11</td>\n",
       "      <td>X9dxeXF11C4D073E8F046C2</td>\n",
       "      <td>X9apiW291EB7A3636F64523</td>\n",
       "      <td>{'BOHEMIAN': 2.1693e-05, 'CLASSIC_AND_ANTIQUE'...</td>\n",
       "      <td>0.971966</td>\n",
       "      <td>MODERN</td>\n",
       "      <td>00:01:40.99</td>\n",
       "      <td>...</td>\n",
       "      <td>1</td>\n",
       "      <td>[TV, 흰색, 올루미, 하만카돈, 텔레비전, 테이블, 대리석, 1000, 모던탑2...</td>\n",
       "      <td>1</td>\n",
       "      <td>{'image': 'https://resources.archisketch.com/e...</td>\n",
       "      <td>{'title': '', 'body': ''}</td>\n",
       "      <td>[FE1DE8319CFA4CC6, Xz-wAEB2F0D5817D0264EC2, F9...</td>\n",
       "      <td>NaN</td>\n",
       "      <td>2022-03-06T05:48:44.869Z</td>\n",
       "      <td>2022-03-06T05:55:05.593Z</td>\n",
       "      <td>MODERN</td>\n",
       "    </tr>\n",
       "    <tr>\n",
       "      <th>4</th>\n",
       "      <td>0.985614</td>\n",
       "      <td>2022-03-06</td>\n",
       "      <td>2022-03-06 04:29:44.936</td>\n",
       "      <td>B57D4F97C0E44A11</td>\n",
       "      <td>X9dfZJoEF7109CC1E3F4C4E</td>\n",
       "      <td>X9I1gE5B7E8E8B3C94E4E8D</td>\n",
       "      <td>{'BOHEMIAN': 0.00018711700000000002, 'CLASSIC_...</td>\n",
       "      <td>0.980598</td>\n",
       "      <td>MODERN</td>\n",
       "      <td>00:01:39.91</td>\n",
       "      <td>...</td>\n",
       "      <td>4</td>\n",
       "      <td>[커피, 흰색, 가공목(mdf 외), 피넛, 테이블, 빈, 나무, 마켓비, GITA...</td>\n",
       "      <td>0</td>\n",
       "      <td>{'image': 'https://resources.archisketch.com/e...</td>\n",
       "      <td>{'title': '', 'body': ''}</td>\n",
       "      <td>[500A60748E9246C7, Xz-wAEID9AA5E7F014C4BD5, 44...</td>\n",
       "      <td>NaN</td>\n",
       "      <td>2022-03-06T04:29:44.936Z</td>\n",
       "      <td>2022-03-06T04:33:42.736Z</td>\n",
       "      <td>MODERN</td>\n",
       "    </tr>\n",
       "  </tbody>\n",
       "</table>\n",
       "<p>5 rows × 38 columns</p>\n",
       "</div>"
      ],
      "text/plain": [
       "   awesome_score       date                datetime     enterprise_id  \\\n",
       "0       0.993074 2022-03-06 2022-03-06 04:49:13.054  B57D4F97C0E44A11   \n",
       "1       0.990285 2022-03-06 2022-03-06 08:11:26.221  B57D4F97C0E44A11   \n",
       "2       0.988438 2022-03-06 2022-03-06 13:05:31.007  B57D4F97C0E44A11   \n",
       "3       0.986057 2022-03-06 2022-03-06 05:48:44.869  B57D4F97C0E44A11   \n",
       "4       0.985614 2022-03-06 2022-03-06 04:29:44.936  B57D4F97C0E44A11   \n",
       "\n",
       "                        id                projectId  \\\n",
       "0  X9dj2Ve97CAE025F82F4A8B  X9djPepD57A2BDCD418437C   \n",
       "1  X9eSIiNE9BF42316EF94426  X9dban93BD94E4045124D77   \n",
       "2  X9fVcV_7887E9ED52FD4F33  X8QStBVB4FDB8D436544C6E   \n",
       "3  X9dxeXF11C4D073E8F046C2  X9apiW291EB7A3636F64523   \n",
       "4  X9dfZJoEF7109CC1E3F4C4E  X9I1gE5B7E8E8B3C94E4E8D   \n",
       "\n",
       "                                   style_predictions  top_score top_style  \\\n",
       "0  {'BOHEMIAN': 0.00019316500000000003, 'CLASSIC_...   0.986163   NATURAL   \n",
       "1  {'BOHEMIAN': 0.000295741, 'CLASSIC_AND_ANTIQUE...   0.939667    MODERN   \n",
       "2  {'BOHEMIAN': 0.000191174, 'CLASSIC_AND_ANTIQUE...   0.834528    MODERN   \n",
       "3  {'BOHEMIAN': 2.1693e-05, 'CLASSIC_AND_ANTIQUE'...   0.971966    MODERN   \n",
       "4  {'BOHEMIAN': 0.00018711700000000002, 'CLASSIC_...   0.980598    MODERN   \n",
       "\n",
       "    remainTime  ... background  \\\n",
       "0  00:01:41.31  ...          5   \n",
       "1  00:01:40.95  ...          8   \n",
       "2  00:01:39.97  ...          8   \n",
       "3  00:01:40.99  ...          1   \n",
       "4  00:01:39.91  ...          4   \n",
       "\n",
       "                                                tags  roomTag  \\\n",
       "0  [렌지대, 리바트, 침대형소파, 가공목(mdf외), 4층, 식탁의자, 아이와비, o...        0   \n",
       "1                                                 []        4   \n",
       "2  [검정, 리바트, TV, 텔레비전, 마켓비, 벽/천장장식, 플렌트, 레토, 스탠드선...        1   \n",
       "3  [TV, 흰색, 올루미, 하만카돈, 텔레비전, 테이블, 대리석, 1000, 모던탑2...        1   \n",
       "4  [커피, 흰색, 가공목(mdf 외), 피넛, 테이블, 빈, 나무, 마켓비, GITA...        0   \n",
       "\n",
       "                                           watermark  \\\n",
       "0  {'image': 'https://resources.archisketch.com/e...   \n",
       "1  {'image': 'https://resources.archisketch.com/e...   \n",
       "2  {'image': 'https://resources.archisketch.com/e...   \n",
       "3  {'image': 'https://resources.archisketch.com/e...   \n",
       "4  {'image': 'https://resources.archisketch.com/e...   \n",
       "\n",
       "                     comment  \\\n",
       "0  {'title': '', 'body': ''}   \n",
       "1  {'title': '', 'body': ''}   \n",
       "2  {'title': '', 'body': ''}   \n",
       "3  {'title': '', 'body': ''}   \n",
       "4  {'title': '', 'body': ''}   \n",
       "\n",
       "                                               items  archive  \\\n",
       "0  [XjDwfV4C2377DB2C32B4EBD, XrTVBz466807713843D4...      NaN   \n",
       "1  [AA4A41116A904BFC, F1BBC6E62B02416E, 88FFE5485...      NaN   \n",
       "2  [XQA6Kp97A010F7BEFCD4F32, A7AE5ED7BC3B4ABD, Xk...      NaN   \n",
       "3  [FE1DE8319CFA4CC6, Xz-wAEB2F0D5817D0264EC2, F9...      NaN   \n",
       "4  [500A60748E9246C7, Xz-wAEID9AA5E7F014C4BD5, 44...      NaN   \n",
       "\n",
       "                  createdAt                 updatedAt  top_style_1  \n",
       "0  2022-03-06T04:49:13.054Z  2022-03-06T04:51:24.255Z      NATURAL  \n",
       "1  2022-03-06T08:11:26.221Z  2022-03-06T08:30:22.868Z       MODERN  \n",
       "2  2022-03-06T13:05:31.007Z  2022-03-06T14:18:47.669Z       MODERN  \n",
       "3  2022-03-06T05:48:44.869Z  2022-03-06T05:55:05.593Z       MODERN  \n",
       "4  2022-03-06T04:29:44.936Z  2022-03-06T04:33:42.736Z       MODERN  \n",
       "\n",
       "[5 rows x 38 columns]"
      ]
     },
     "execution_count": 12,
     "metadata": {},
     "output_type": "execute_result"
    }
   ],
   "source": [
    "DATA.best_item.head()"
   ]
  },
  {
   "cell_type": "code",
   "execution_count": 13,
   "id": "42839971-499b-43a7-9a51-87baac7a2d0e",
   "metadata": {},
   "outputs": [],
   "source": [
    "best_item_4 = DATA.best_item[DATA.best_item['enterprise_id'] == '421B6D0E746C4E6D']\n",
    "best_item_b = DATA.best_item[DATA.best_item['enterprise_id'] == 'B57D4F97C0E44A11']"
   ]
  },
  {
   "cell_type": "code",
   "execution_count": 14,
   "id": "dd0ad5bf-9945-47bb-b993-0417c9f857ca",
   "metadata": {
    "tags": []
   },
   "outputs": [
    {
     "data": {
      "text/plain": [
       "((345, 38), (3923, 38))"
      ]
     },
     "execution_count": 14,
     "metadata": {},
     "output_type": "execute_result"
    }
   ],
   "source": [
    "best_item_4.shape, best_item_b.shape"
   ]
  },
  {
   "cell_type": "code",
   "execution_count": 16,
   "id": "c89c7d82-a123-4628-b021-563021fa3dde",
   "metadata": {
    "collapsed": true,
    "jupyter": {
     "outputs_hidden": true
    },
    "tags": []
   },
   "outputs": [
    {
     "data": {
      "text/plain": [
       "[['Xs-eCT3EA4B23F0D2D64827'],\n",
       " ['Xr78ie7CAD688A9F1124245'],\n",
       " ['X3F_8F-384B665A765D4CF9'],\n",
       " ['Xho2Q_R7168F63EA0DC4AFC'],\n",
       " ['XrMj64w9340CEB5AE1744BF'],\n",
       " ['XtdxyEt20BC266798274D00'],\n",
       " ['X57brx4475EB15BA8CA4EB4'],\n",
       " ['X7YkPPI0ECB580909E2496D'],\n",
       " ['Xs-eCT3EA4B23F0D2D64827'],\n",
       " ['Xb1bdRq24D44E2AF5594CBF'],\n",
       " ['X7YkPPI0ECB580909E2496D'],\n",
       " ['Xjy39-r3C897D328C4E4AF4'],\n",
       " ['Xez7EydB5626B84CF4A47AC'],\n",
       " ['XlaOBRw592649BEED5F4EF0'],\n",
       " ['Xho2Q_R7168F63EA0DC4AFC'],\n",
       " ['354D82861BCB48B7'],\n",
       " ['Xb-kgm_A3B2743964F54AB5'],\n",
       " ['Xp0yOKx752156CFDB38418E'],\n",
       " ['XXz3njr3F58A68EC8E14AC7'],\n",
       " ['Xb-kgm_A3B2743964F54AB5'],\n",
       " ['X29K9R17F5364821A1041EE'],\n",
       " ['X7YkmRa3610FA3090594644'],\n",
       " ['XqJFVoh3319657BF53149AC'],\n",
       " [],\n",
       " ['XPghEzRDFC6262AA20E443E'],\n",
       " ['1FBE282007774E8B'],\n",
       " ['XXz3njr3F58A68EC8E14AC7'],\n",
       " ['XRPgmPp01E81254476E4A3A'],\n",
       " ['XXz3njr3F58A68EC8E14AC7'],\n",
       " ['EB37D08316C0470C'],\n",
       " ['XfXi2hiC7E5008A4B8A428C'],\n",
       " ['X7YkPPI0ECB580909E2496D'],\n",
       " ['X8brWeE6E8B43372F554FBC'],\n",
       " ['X7YkPPI0ECB580909E2496D'],\n",
       " ['XWQ3UO02729808A2876454C'],\n",
       " ['Xf2ClrE33BAC0BD311B4DAD'],\n",
       " ['E98FD49FE54A417D'],\n",
       " ['Xi1Ln7r0E6E505F0E404381'],\n",
       " ['Xhovu8G8D5E1997BA41424D'],\n",
       " ['X5XOoZH70691436562C4AEE'],\n",
       " ['Xze6yfd6C4BA33C55E5405C'],\n",
       " ['X8brWeE6E8B43372F554FBC'],\n",
       " ['XVjPYKP427C3D3EF6EB4F76'],\n",
       " ['X8btYltCC8A38E8180444D3'],\n",
       " ['Xip8nea5D3CF56DB2974E78'],\n",
       " ['XXPVCK14A74883DC6B54C90'],\n",
       " ['Xiq68wY715E2642180E4EC5'],\n",
       " ['X8btYltCC8A38E8180444D3'],\n",
       " ['X2ZKBa9FC00823C51144175'],\n",
       " ['XlaOvAhF53A23CD1BCF43E9'],\n",
       " ['Xz-wADS1233D0271CF94C97'],\n",
       " ['201079E7D4434B4F'],\n",
       " ['XszC8ISD169962BFA2B420F'],\n",
       " ['XigxKzaE477352BA8354593'],\n",
       " ['XXz3njr3F58A68EC8E14AC7'],\n",
       " ['XWr2CEP5376A9ED53D746C9'],\n",
       " ['XjUJgjODC8022AFC9994BAD'],\n",
       " ['XoeB4_83FAEB81F0E364501'],\n",
       " ['X1_Howi7E275449AD264304'],\n",
       " ['Xcdey8tBEA63513CEA24712'],\n",
       " ['XeEurYE9254E184841B4C2C'],\n",
       " ['X5wIr42006CB9EB73D54C57'],\n",
       " ['X7YRrIp039AFEE9B6244C91'],\n",
       " ['X7Ykb2EF449BD12AFC9473B'],\n",
       " ['XZ1UUhVD1A2F37582FD479A'],\n",
       " ['XoJLCJ_B8F6CDE8711C4D9E'],\n",
       " ['XnWHmTW178CE2C3B23D412F'],\n",
       " ['Xo7kQN3DC7A5B7C9FE746D6'],\n",
       " ['X3b2hi1D2E933F80F4041E3'],\n",
       " ['XmsPo7A5DAA32F606974D28'],\n",
       " ['X6LRGP-1300D5C4E5444D93'],\n",
       " ['X8brWeE6E8B43372F554FBC'],\n",
       " ['XiHQ8c93F607BD26CCD4DC2'],\n",
       " ['XmsPo7A5DAA32F606974D28'],\n",
       " ['Xr0_aoq5E1B2DBFA8B247BD'],\n",
       " ['X1L9FPC3B03A2E14C8F42EE'],\n",
       " ['XT24jAGBC315D031B274DCE'],\n",
       " ['X1L9FO3FEE8532F778D4177'],\n",
       " ['XZ1UUhVD1A2F37582FD479A'],\n",
       " ['Xez9rTK4C492A62184C4DA7'],\n",
       " ['X52axvuF56C2A9CE3AD47E9'],\n",
       " ['X52axvuF56C2A9CE3AD47E9'],\n",
       " ['XjE5EwWC29816C0A7F64D9F'],\n",
       " ['X5rPclT9CFB7E73DEA8495A'],\n",
       " ['Xhdxz070E6E469AA9354382'],\n",
       " ['XnWHmRP7586340F00264759'],\n",
       " ['XZpaaIM0887E634250D4715'],\n",
       " ['XzebXBt5E47BE2B0B73488A'],\n",
       " ['XjzPRK1B927DDD514914F14'],\n",
       " ['Xjs3aIa582F2C99744A4997'],\n",
       " ['X764hsN33A486E174384FCE'],\n",
       " ['XoeB4_6356FF8C8DB084EF8'],\n",
       " ['C270CF2EE8AD49AC'],\n",
       " ['Xb-lefg09920A7237B6490C'],\n",
       " ['XQzmAd3D8C502FC7B89490F'],\n",
       " ['EB37D08316C0470C'],\n",
       " ['Xr1LmjyF929346C3F8F4958'],\n",
       " ['Xd_gmfj1B0AD9F1814A4C7E'],\n",
       " ['Xlk6IJFAE3510361DCB4F3F'],\n",
       " ['X764hsN33A486E174384FCE'],\n",
       " ['XtxfYDF07EE3884DB454AD1'],\n",
       " ['Xr1LmjyF929346C3F8F4958'],\n",
       " ['XRe8jnV78F6371217234AAA'],\n",
       " ['3F50A32F74694057'],\n",
       " ['Xr78ie2C18C03118E464570'],\n",
       " ['XmsPo7A5DAA32F606974D28'],\n",
       " ['XQzmAd3D8C502FC7B89490F'],\n",
       " ['X28mXOa179C54150C714CFF'],\n",
       " ['XQtuYtQD4E1F482AFDB47DB'],\n",
       " ['XmraD1pD3C6428A288D4181'],\n",
       " ['X29K9R17F5364821A1041EE'],\n",
       " ['XsVE9i965B6F0E2E99E4617'],\n",
       " ['XfI8vR8C93D5B9C1F6246AA'],\n",
       " ['XmsPo7A5DAA32F606974D28'],\n",
       " ['XxzIVRU778D7136509A454B'],\n",
       " ['XoIV9EYFC6BF304274C4F10'],\n",
       " ['XSWNaDQ8D34AB5317CA4971'],\n",
       " ['XVUbNJXC6FAC68D927D4F8D'],\n",
       " ['XX87U2A8C5DE4678EB64C34'],\n",
       " ['XxzI_Yk51F50005B8534813'],\n",
       " ['Xz-wAC99186C5CF582B4F31'],\n",
       " ['Xz-wAC99186C5CF582B4F31'],\n",
       " ['Xs9WOsh4BFB008F3A664581'],\n",
       " ['XWWAkBZF81CEDD6470C4D05'],\n",
       " ['Xz-wAFCA435BE25E6DC40A4'],\n",
       " ['F71D1559E59944A6'],\n",
       " ['X3BgdYi9B4D03EADAE641D3'],\n",
       " ['X52axvuF56C2A9CE3AD47E9'],\n",
       " ['671615267E484032'],\n",
       " ['65D524D02FE54219'],\n",
       " ['XZ1UUhVD1A2F37582FD479A'],\n",
       " ['XRSdgDA97C89147AC264169'],\n",
       " ['X3b2hi1D2E933F80F4041E3'],\n",
       " ['XsEjSrbE4110AF7263745CB'],\n",
       " ['Xc4rNrV430D726B8D444B7B'],\n",
       " ['X29MwQ824E745AAC5074B28'],\n",
       " ['X6ZGM3BA48F895FB310410D'],\n",
       " ['Xh8qUzqABB5BAAFBBE745D5'],\n",
       " ['XmIO8d1B7FA21332FD5434E'],\n",
       " ['XlaOBRw592649BEED5F4EF0'],\n",
       " ['XoIV9EYFC6BF304274C4F10'],\n",
       " ['Xr0_aoq010AF44DB00A4CEC'],\n",
       " ['XqJFVom6062FC07E37644FD'],\n",
       " ['X3b2hi1D2E933F80F4041E3'],\n",
       " ['FE2CD0BD8EFF4FDF'],\n",
       " ['XcY5GJo38AFD8D979EE4A8E'],\n",
       " ['Xzp1wfI40A7BFF5E18D4D62'],\n",
       " ['XigVzqGB3B8BA8610F04D71'],\n",
       " ['XTYXY_qB3A991A4BB234420'],\n",
       " ['XyboqYNC7E757BF3EBE4998'],\n",
       " ['XkcT2VYF78A7876D8384D94'],\n",
       " ['XjTVOwb5ABDF77680AE4447'],\n",
       " ['Xr0_aoq010AF44DB00A4CEC'],\n",
       " ['XUbl4s67E80430AF4F04676'],\n",
       " ['XnqZaHw32A0C0F7503F4763'],\n",
       " ['XdsC-eV8C336B0AFADC4CF5'],\n",
       " ['Xo35PnA02CC15F5E5C44324'],\n",
       " ['X6Pmq_o802ADF7FA25A489E'],\n",
       " ['XrTVB0p640DD138B02F4BCA'],\n",
       " ['XT2134qB81E318F44064B2B'],\n",
       " ['XXfm4NR3908C56819784407'],\n",
       " ['XgWQK4SC477D49D3F4D420E'],\n",
       " ['XRS4mQX197CDAA9EF914768'],\n",
       " ['XRXkNdGA111E5276F4947E8'],\n",
       " ['XmsPo7F93B2262CF9BE4C73'],\n",
       " ['Xo35PnA02CC15F5E5C44324'],\n",
       " ['X53INI_0FB2CE38B49D4CBF'],\n",
       " ['Xp-5tUDB5D6B031ACC84304'],\n",
       " ['XqJFVoh3319657BF53149AC'],\n",
       " ['X5w8uja42C2EC73872C4DF2'],\n",
       " ['XaTx7vg48ADFE0BCDD04FF2'],\n",
       " ['XSvxXl65148A5104EF44E3E'],\n",
       " ['XoYkCBS113E5A9FB9354C60'],\n",
       " ['AEEAC5CE170A48C9'],\n",
       " ['XevMJ07CD15EEEBBA67471B'],\n",
       " ['Xl-1O3eCFCA0C30D9954113'],\n",
       " ['Xo35PnA02CC15F5E5C44324'],\n",
       " ['XoI3cZgDCBD32935DD04531'],\n",
       " ['Xez15-6C18E42A9F9AF4EA6'],\n",
       " ['XaJHwe11BEF9CC97E8140CE'],\n",
       " ['XjzNZdl49528B0005F243A3'],\n",
       " ['XjE5GAs617305940D0F4D8A'],\n",
       " ['X2cvowi5434BC907E0A42C8'],\n",
       " ['0661BBE43EE94E2C'],\n",
       " ['Xr78idWC2BE951F9F8F47B7'],\n",
       " ['X29QAnz4549DBEF7AC54F82'],\n",
       " ['XrTVB0GDD812125C8834C9D'],\n",
       " ['9CDE677D22A249D4'],\n",
       " ['Xo35PnA02CC15F5E5C44324'],\n",
       " ['XszC8IIB7003BCA6DCE4736'],\n",
       " ['X5wN_r6BEBD5294643E477D'],\n",
       " ['8E687CA7FDBC4A2E'],\n",
       " ['X3CdnUF9C97DA89A4D641DC'],\n",
       " ['XkcvAH3FAC7D0D3B4954F0B'],\n",
       " ['XT9U19H685801D33DB24842'],\n",
       " ['XszC8II28D804AAD97C4F59'],\n",
       " ['Xp-5tTyAA44A4924C2D4339'],\n",
       " ['X1L9FO187F9CF0BD49D4AED'],\n",
       " ['XrTVB0GDD812125C8834C9D'],\n",
       " ['X29PQpw08991A3288FF4C9E'],\n",
       " ['Xz-wADj8103656BA54048B7'],\n",
       " ['XlaOvAhF53A23CD1BCF43E9'],\n",
       " ['XnWHmRSD95334430D3A4A1B'],\n",
       " ['X5q5A3W8ECDB3B9C893435C'],\n",
       " ['Xb0aZXxE5E50BABD7834A0C'],\n",
       " ['XUSNAFZB103A3EC16D04AA1'],\n",
       " ['XT2dDpJDCCC98338217473E'],\n",
       " ['XanR-dx19A860A2F0114700'],\n",
       " ['XkNL-nP1C1E6C65A5844A73'],\n",
       " ['XWrSuShB85A1F2ADD85497A'],\n",
       " ['XXfm4NR3908C56819784407'],\n",
       " ['Xhtpy2vB49EFE09118F46F3'],\n",
       " ['XSguFmHAC603C213A864A31'],\n",
       " ['XVUjzbr04645A79F309447B'],\n",
       " ['XszC8II28D804AAD97C4F59'],\n",
       " ['XyboqYN32E8A981036D43B9'],\n",
       " ['X29MwQ824E745AAC5074B28'],\n",
       " ['X0nUecO7EF53770D8D44846'],\n",
       " ['XqJFVod8EB3F65F4B394DB6'],\n",
       " ['9BB369CA839541A6'],\n",
       " ['E8D4CB0D069C48F0'],\n",
       " ['XWQv_tF8CEF4F872EDC4CFA'],\n",
       " ['XW1l4kdF17806CEBB234261'],\n",
       " ['X28jsII77B9F55953E745CA'],\n",
       " ['X57brx4475EB15BA8CA4EB4'],\n",
       " ['XmxiEM-A08C88F45A034C2C'],\n",
       " ['XS051Ll712FE9D77A4843BF'],\n",
       " ['57B39A28AAB64C2F'],\n",
       " ['D6117F42A4954E3E'],\n",
       " ['X53INI_0FB2CE38B49D4CBF'],\n",
       " ['Xxzg2ik9CCCB58386F148B3'],\n",
       " ['XlaPAt1F04C5D4A758043D9'],\n",
       " ['XlaPAt1F04C5D4A758043D9'],\n",
       " ['XoTRw2816DF267B208641B0'],\n",
       " ['XyX_E0tAFCA067737454F78'],\n",
       " ['X28sb8tB3B0DC8A40D84486'],\n",
       " ['XpB5qAHE4E2AF926FE746B4'],\n",
       " ['XlaPAt1F04C5D4A758043D9'],\n",
       " ['X0iXPD22CA89C4B9D0449C9'],\n",
       " ['XpRxMfx1445740EF49946AA'],\n",
       " ['X0iQj7ZDE3F3E1F4FA5416D'],\n",
       " ['Xx8bhTX012BA942D7F3495C'],\n",
       " ['354D82861BCB48B7'],\n",
       " ['XNcAw4RF9DB3D6976484631'],\n",
       " ['E8D4CB0D069C48F0'],\n",
       " ['X2yWr294F22F35037E24E6A'],\n",
       " ['X0DVX78991DB7C6C4A649A3'],\n",
       " ['X5MxDrsE6C746F3FF1A449D'],\n",
       " ['XT2dDpJDCCC98338217473E'],\n",
       " ['X3b2hi1D2E933F80F4041E3'],\n",
       " ['X3F7q-VAA77DC02783C4636'],\n",
       " ['44C21719D97741F2'],\n",
       " ['XcZ9ibq56B7147420844EC3'],\n",
       " ['X29iMRZFA36AA3C12894618'],\n",
       " ['XVjSLSB87F7117F086C43B2'],\n",
       " ['XgkJsOyEFC1D24BF7E64422'],\n",
       " ['XT2dDpJDCCC98338217473E'],\n",
       " ['Xz-wACh17BFFEE540ED46E9'],\n",
       " ['Xr78idWC2BE951F9F8F47B7'],\n",
       " ['44C21719D97741F2'],\n",
       " ['XVUaoY2A7D83CEAFAA542D2'],\n",
       " ['XT24jAGBC315D031B274DCE'],\n",
       " ['Xs_QLWr53CB4F049B2842CE'],\n",
       " ['XjE5GAs617305940D0F4D8A'],\n",
       " ['Xs-eCTmE2CF21E1F0E8460F'],\n",
       " ['XXjwKiq20B714D894904AE6'],\n",
       " ['XTD-KS2CC13EB4B64494045'],\n",
       " ['XVUgAkt0B9CF5673BDD4582'],\n",
       " ['XruFHUn82E0528888014C45'],\n",
       " ['XcZ9ibq56B7147420844EC3'],\n",
       " ['X5Hd0VV8816D3324FD54398'],\n",
       " ['E3C0C70E31C349D1'],\n",
       " ['32CB7FA2721A48A1'],\n",
       " ['XmsPo7A5DAA32F606974D28'],\n",
       " ['XjDwfU94DB8665DB7D14A44'],\n",
       " ['XjYM91b7F19A6EB77C44933'],\n",
       " ['X2Y04ix35F1444B13854669'],\n",
       " ['X3b2hi1D2E933F80F4041E3'],\n",
       " ['X4pcyQf4C86F7E707614CC1'],\n",
       " ['X3b2hi1D2E933F80F4041E3'],\n",
       " ['1AE497247EF844E8'],\n",
       " ['XcTWL3644C1EB17348D418B'],\n",
       " ['XyboqYN32E8A981036D43B9'],\n",
       " ['XYW6AhPD74BAB54030B4997'],\n",
       " ['XquUQ085AE49DE7FB854C7B'],\n",
       " ['XWrSmBcA9E58F175D534FF5'],\n",
       " ['XYIhkikEB6ECEE320164AAF'],\n",
       " ['X5Hsq-1056CCDAECA464827'],\n",
       " ['XpRxMgs1FEE343B6D984EDD'],\n",
       " ['X3cTC8z70CC6D33C4FA4704'],\n",
       " ['XxzI_ZRD50897E5E3284ABC'],\n",
       " ['XiGpBR0FD7B9B8C20534206'],\n",
       " ['X28qrLw82595E4819304196'],\n",
       " ['XUBxR5M67EC5BF69D024B49'],\n",
       " ['X3BBM8YA4B44FD6D5884E86'],\n",
       " ['Xg5gYvw35DC423FBB204ACA'],\n",
       " ['X29QAnz4549DBEF7AC54F82'],\n",
       " ['X5CMY5nBAE3C505CDC34908'],\n",
       " ['25EB3B1022174D49'],\n",
       " ['XiwX1Zl61576D67D2A043CF'],\n",
       " ['Xkcrsfo941E8A7AC1C74A99'],\n",
       " ['XmM5UBUAF060713FD8C4737'],\n",
       " ['XyboqYN32E8A981036D43B9'],\n",
       " ['X3cTC8z70CC6D33C4FA4704'],\n",
       " ['Xp-0wg262A89AC5C3F14BD8'],\n",
       " ['Xw0ZynGD791BA8B8931448C'],\n",
       " ['XxzI_ZRFBA7758B2BCF455B'],\n",
       " ['XnWHmT494D4BE84EBFC46E4'],\n",
       " ['Xs-Qk1Q362DAD8444B947E7'],\n",
       " ['Xp-0whW4C07DB2790054BEB'],\n",
       " ['Xp-0whI40B80814FD9345A1'],\n",
       " ['XsVE9i6B0E4BC3C83AF4D30'],\n",
       " ['XS051Ll712FE9D77A4843BF'],\n",
       " ['XT2dDpJDCCC98338217473E'],\n",
       " ['XpB5qALFD3A3F885A234823'],\n",
       " ['XrTVBz36197FBB70DE54A87'],\n",
       " ['Xf3gZuQF638BB9D0C3E4EF3'],\n",
       " ['X3WZTlr7EF535C36BEF4490'],\n",
       " ['X1L9FPICE09BB53A47D4BBA'],\n",
       " ['X3a64P_BD79BDDB5336408B'],\n",
       " ['XpB5qALFD3A3F885A234823'],\n",
       " ['XoxY7Sk68DAEBBD7A7D4BFD'],\n",
       " ['X3b2hi1D2E933F80F4041E3'],\n",
       " ['E47C9F8386594F2F'],\n",
       " ['X3BMIYD58C0E55B313F4B0F'],\n",
       " ['XSv1lSs623081C75508429A'],\n",
       " ['X3A9SJQF89ADF2EAE1B4F55'],\n",
       " ['XjEAgjTE9E15DBA01AB4FE7'],\n",
       " ['X1Vf72837E007D973264FFD'],\n",
       " ['XpB5qALFD3A3F885A234823'],\n",
       " ['XrTVBz36197FBB70DE54A87'],\n",
       " ['XxzI_ZRD50897E5E3284ABC'],\n",
       " ['X3BMIYD58C0E55B313F4B0F'],\n",
       " ['Xze6yfeF6ECB7144C2D4100'],\n",
       " ['XpB5qAE6B2C61DC0D04475A'],\n",
       " ['XnWHmSH4F1AC7EFF3F847F8'],\n",
       " ['6416E607408947AC'],\n",
       " ['Xr78idWC2BE951F9F8F47B7'],\n",
       " ['XOUnKATB622B4D1999B481E'],\n",
       " ['XiL9Rbl5495213F75FC4489'],\n",
       " ['X3-uTMr269AD6FB234A45FA'],\n",
       " ['X1Vf72837E007D973264FFD'],\n",
       " ['32CB7FA2721A48A1'],\n",
       " ['FB9EA7E54E064C80'],\n",
       " ['X1Vf72837E007D973264FFD']]"
      ]
     },
     "execution_count": 16,
     "metadata": {},
     "output_type": "execute_result"
    }
   ],
   "source": [
    "best_item_4['items'].apply(lambda x: x[:1]).tolist()"
   ]
  },
  {
   "cell_type": "code",
   "execution_count": 17,
   "id": "05ff8667-2fca-4ef9-a9be-58d69abbed38",
   "metadata": {},
   "outputs": [
    {
     "data": {
      "text/plain": [
       "((345,), (345,))"
      ]
     },
     "execution_count": 17,
     "metadata": {},
     "output_type": "execute_result"
    }
   ],
   "source": [
    "x_1 = np.asarray(best_item_4['items'].apply(lambda x: x[:1]).tolist(), dtype=object)\n",
    "y_1 = np.asarray(best_item_4['items'].apply(lambda x: x[1:]).tolist(), dtype=object)\n",
    "\n",
    "x_1.shape, y_1.shape"
   ]
  },
  {
   "cell_type": "code",
   "execution_count": 18,
   "id": "e8d4af5e-1c59-4cd8-86ef-ff1b36a19b9e",
   "metadata": {
    "tags": []
   },
   "outputs": [
    {
     "data": {
      "text/plain": [
       "(9514, 40)"
      ]
     },
     "execution_count": 18,
     "metadata": {},
     "output_type": "execute_result"
    }
   ],
   "source": [
    "DATA.products_json.shape"
   ]
  },
  {
   "cell_type": "code",
   "execution_count": 19,
   "id": "cf1c8e32-ee51-481f-a26e-49b1c3a3cda6",
   "metadata": {
    "tags": []
   },
   "outputs": [
    {
     "data": {
      "text/plain": [
       "(1545, 40)"
      ]
     },
     "execution_count": 19,
     "metadata": {},
     "output_type": "execute_result"
    }
   ],
   "source": [
    "DATA.products_json[DATA.products_json['enterpriseId'] == '421B6D0E746C4E6D'].shape"
   ]
  },
  {
   "cell_type": "code",
   "execution_count": 20,
   "id": "6d09ed57-cf77-4b81-9c8e-038fdeeb3312",
   "metadata": {
    "tags": []
   },
   "outputs": [
    {
     "data": {
      "text/plain": [
       "(7642, 40)"
      ]
     },
     "execution_count": 20,
     "metadata": {},
     "output_type": "execute_result"
    }
   ],
   "source": [
    "DATA.products_json[DATA.products_json['enterpriseId'] == 'B57D4F97C0E44A11'].shape"
   ]
  },
  {
   "cell_type": "code",
   "execution_count": 21,
   "id": "d3e3625d-c474-4d59-9bf2-278b21539a59",
   "metadata": {
    "tags": []
   },
   "outputs": [
    {
     "data": {
      "text/plain": [
       "9187"
      ]
     },
     "execution_count": 21,
     "metadata": {},
     "output_type": "execute_result"
    }
   ],
   "source": [
    "1545+7642"
   ]
  },
  {
   "cell_type": "code",
   "execution_count": 36,
   "id": "c1ed3470-a928-4a9e-9bc2-f1da2bb05e6b",
   "metadata": {
    "tags": []
   },
   "outputs": [
    {
     "data": {
      "text/plain": [
       "(9187, 12)"
      ]
     },
     "execution_count": 36,
     "metadata": {},
     "output_type": "execute_result"
    }
   ],
   "source": [
    "products_df = pd.concat((products_df_4, products_df_b)).reset_index(drop=True)\n",
    "products_df = products_df.drop_duplicates('product_id')\n",
    "products_df.shape"
   ]
  },
  {
   "cell_type": "code",
   "execution_count": 23,
   "id": "ab4ffd60-de0b-4c61-9082-d6a9a31f3a8c",
   "metadata": {},
   "outputs": [
    {
     "data": {
      "text/html": [
       "<div>\n",
       "<style scoped>\n",
       "    .dataframe tbody tr th:only-of-type {\n",
       "        vertical-align: middle;\n",
       "    }\n",
       "\n",
       "    .dataframe tbody tr th {\n",
       "        vertical-align: top;\n",
       "    }\n",
       "\n",
       "    .dataframe thead th {\n",
       "        text-align: right;\n",
       "    }\n",
       "</style>\n",
       "<table border=\"1\" class=\"dataframe\">\n",
       "  <thead>\n",
       "    <tr style=\"text-align: right;\">\n",
       "      <th></th>\n",
       "      <th>enterprise_id</th>\n",
       "      <th>projectId</th>\n",
       "      <th>items</th>\n",
       "    </tr>\n",
       "  </thead>\n",
       "  <tbody>\n",
       "    <tr>\n",
       "      <th>15</th>\n",
       "      <td>421B6D0E746C4E6D</td>\n",
       "      <td>X9NQ9r095CBB4F1965A429E</td>\n",
       "      <td>[Xs-eCT3EA4B23F0D2D64827, Xp-5tT7A3345D1868BB4...</td>\n",
       "    </tr>\n",
       "    <tr>\n",
       "      <th>28</th>\n",
       "      <td>421B6D0E746C4E6D</td>\n",
       "      <td>X9eDNfh884D8B29D9124B6F</td>\n",
       "      <td>[Xr78ie7CAD688A9F1124245, 26706EAC222544E0, Xn...</td>\n",
       "    </tr>\n",
       "    <tr>\n",
       "      <th>30</th>\n",
       "      <td>421B6D0E746C4E6D</td>\n",
       "      <td>X9FwT9TB461A316FD4A402F</td>\n",
       "      <td>[X3F_8F-384B665A765D4CF9, X3F_nmHB9124A1B7BA44...</td>\n",
       "    </tr>\n",
       "    <tr>\n",
       "      <th>63</th>\n",
       "      <td>421B6D0E746C4E6D</td>\n",
       "      <td>X8_sB1nD0A90AED920B4963</td>\n",
       "      <td>[Xho2Q_R7168F63EA0DC4AFC, XS-fZjC543B12C8F8394...</td>\n",
       "    </tr>\n",
       "    <tr>\n",
       "      <th>69</th>\n",
       "      <td>421B6D0E746C4E6D</td>\n",
       "      <td>X8r9UxA35D54A79D34A44FA</td>\n",
       "      <td>[XrMj64w9340CEB5AE1744BF, XxqhQ5_5BB71195EA874...</td>\n",
       "    </tr>\n",
       "  </tbody>\n",
       "</table>\n",
       "</div>"
      ],
      "text/plain": [
       "       enterprise_id                projectId  \\\n",
       "15  421B6D0E746C4E6D  X9NQ9r095CBB4F1965A429E   \n",
       "28  421B6D0E746C4E6D  X9eDNfh884D8B29D9124B6F   \n",
       "30  421B6D0E746C4E6D  X9FwT9TB461A316FD4A402F   \n",
       "63  421B6D0E746C4E6D  X8_sB1nD0A90AED920B4963   \n",
       "69  421B6D0E746C4E6D  X8r9UxA35D54A79D34A44FA   \n",
       "\n",
       "                                                items  \n",
       "15  [Xs-eCT3EA4B23F0D2D64827, Xp-5tT7A3345D1868BB4...  \n",
       "28  [Xr78ie7CAD688A9F1124245, 26706EAC222544E0, Xn...  \n",
       "30  [X3F_8F-384B665A765D4CF9, X3F_nmHB9124A1B7BA44...  \n",
       "63  [Xho2Q_R7168F63EA0DC4AFC, XS-fZjC543B12C8F8394...  \n",
       "69  [XrMj64w9340CEB5AE1744BF, XxqhQ5_5BB71195EA874...  "
      ]
     },
     "execution_count": 23,
     "metadata": {},
     "output_type": "execute_result"
    }
   ],
   "source": [
    "best_item_4[['enterprise_id', 'projectId', 'items']].head()"
   ]
  },
  {
   "cell_type": "code",
   "execution_count": 26,
   "id": "7e276f51-c12b-4ade-b784-6a0cbbd55790",
   "metadata": {},
   "outputs": [
    {
     "data": {
      "text/html": [
       "<div>\n",
       "<style scoped>\n",
       "    .dataframe tbody tr th:only-of-type {\n",
       "        vertical-align: middle;\n",
       "    }\n",
       "\n",
       "    .dataframe tbody tr th {\n",
       "        vertical-align: top;\n",
       "    }\n",
       "\n",
       "    .dataframe thead th {\n",
       "        text-align: right;\n",
       "    }\n",
       "</style>\n",
       "<table border=\"1\" class=\"dataframe\">\n",
       "  <thead>\n",
       "    <tr style=\"text-align: right;\">\n",
       "      <th></th>\n",
       "      <th>enterprise_id</th>\n",
       "      <th>projectId</th>\n",
       "      <th>items</th>\n",
       "    </tr>\n",
       "  </thead>\n",
       "  <tbody>\n",
       "    <tr>\n",
       "      <th>20</th>\n",
       "      <td>421B6D0E746C4E6D</td>\n",
       "      <td>X9eDNfh884D8B29D9124B6F</td>\n",
       "      <td>[{'productId': 'Xr78ie7CAD688A9F1124245', 'pos...</td>\n",
       "    </tr>\n",
       "  </tbody>\n",
       "</table>\n",
       "</div>"
      ],
      "text/plain": [
       "       enterprise_id                projectId  \\\n",
       "20  421B6D0E746C4E6D  X9eDNfh884D8B29D9124B6F   \n",
       "\n",
       "                                                items  \n",
       "20  [{'productId': 'Xr78ie7CAD688A9F1124245', 'pos...  "
      ]
     },
     "execution_count": 26,
     "metadata": {},
     "output_type": "execute_result"
    }
   ],
   "source": [
    "DATA.item_json[DATA.item_json['projectId'] == 'X9eDNfh884D8B29D9124B6F'][['enterprise_id', 'projectId', 'items']]"
   ]
  },
  {
   "cell_type": "code",
   "execution_count": 29,
   "id": "baa92f1e-6eeb-4326-8f46-44458d595e56",
   "metadata": {},
   "outputs": [
    {
     "data": {
      "text/html": [
       "<div>\n",
       "<style scoped>\n",
       "    .dataframe tbody tr th:only-of-type {\n",
       "        vertical-align: middle;\n",
       "    }\n",
       "\n",
       "    .dataframe tbody tr th {\n",
       "        vertical-align: top;\n",
       "    }\n",
       "\n",
       "    .dataframe thead th {\n",
       "        text-align: right;\n",
       "    }\n",
       "</style>\n",
       "<table border=\"1\" class=\"dataframe\">\n",
       "  <thead>\n",
       "    <tr style=\"text-align: right;\">\n",
       "      <th></th>\n",
       "      <th>_id</th>\n",
       "      <th>name</th>\n",
       "      <th>modelUrl</th>\n",
       "      <th>enterpriseId</th>\n",
       "      <th>userId</th>\n",
       "      <th>categories</th>\n",
       "      <th>archiCategories</th>\n",
       "      <th>description</th>\n",
       "      <th>tags</th>\n",
       "      <th>brand</th>\n",
       "      <th>...</th>\n",
       "      <th>color</th>\n",
       "      <th>renderSettings</th>\n",
       "      <th>renderMaterial</th>\n",
       "      <th>hdViewerImages</th>\n",
       "      <th>ar</th>\n",
       "      <th>option</th>\n",
       "      <th>parentProduct</th>\n",
       "      <th>createdAt</th>\n",
       "      <th>updatedAt</th>\n",
       "      <th>category_name</th>\n",
       "    </tr>\n",
       "  </thead>\n",
       "  <tbody>\n",
       "    <tr>\n",
       "      <th>8446</th>\n",
       "      <td>Xr78ie7CAD688A9F1124245</td>\n",
       "      <td>CESBON 원목슬라이딩 수납협탁 라탄 KCN003 7815.1583(브라운)</td>\n",
       "      <td>None</td>\n",
       "      <td>B57D4F97C0E44A11</td>\n",
       "      <td>66BB40FB18C641FA</td>\n",
       "      <td>[XrLsNeb8C402A494A8245C4]</td>\n",
       "      <td>None</td>\n",
       "      <td>None</td>\n",
       "      <td>[테이블, 태이블, 탁자, 사이드테이블, 협탁, 사이드, 티테이블, 보조테이블, 침...</td>\n",
       "      <td>마켓비</td>\n",
       "      <td>...</td>\n",
       "      <td>None</td>\n",
       "      <td>{'tempararyConfigure': 'config_XsvRzF_.archisk...</td>\n",
       "      <td>false</td>\n",
       "      <td>[]</td>\n",
       "      <td>{'android': 'https://d2uz6y97crd8bk.cloudfront...</td>\n",
       "      <td>None</td>\n",
       "      <td>Xt2-Qw54F84E49695474401</td>\n",
       "      <td>2021-08-17T01:38:56.917Z</td>\n",
       "      <td>2021-11-27T06:14:12.458Z</td>\n",
       "      <td>XrLsNeb8C402A494A8245C4</td>\n",
       "    </tr>\n",
       "  </tbody>\n",
       "</table>\n",
       "<p>1 rows × 40 columns</p>\n",
       "</div>"
      ],
      "text/plain": [
       "                          _id                                         name  \\\n",
       "8446  Xr78ie7CAD688A9F1124245  CESBON 원목슬라이딩 수납협탁 라탄 KCN003 7815.1583(브라운)   \n",
       "\n",
       "     modelUrl      enterpriseId            userId                 categories  \\\n",
       "8446     None  B57D4F97C0E44A11  66BB40FB18C641FA  [XrLsNeb8C402A494A8245C4]   \n",
       "\n",
       "     archiCategories description  \\\n",
       "8446            None        None   \n",
       "\n",
       "                                                   tags brand  ... color  \\\n",
       "8446  [테이블, 태이블, 탁자, 사이드테이블, 협탁, 사이드, 티테이블, 보조테이블, 침...   마켓비  ...  None   \n",
       "\n",
       "                                         renderSettings renderMaterial  \\\n",
       "8446  {'tempararyConfigure': 'config_XsvRzF_.archisk...          false   \n",
       "\n",
       "     hdViewerImages                                                 ar option  \\\n",
       "8446             []  {'android': 'https://d2uz6y97crd8bk.cloudfront...   None   \n",
       "\n",
       "                parentProduct                 createdAt  \\\n",
       "8446  Xt2-Qw54F84E49695474401  2021-08-17T01:38:56.917Z   \n",
       "\n",
       "                     updatedAt            category_name  \n",
       "8446  2021-11-27T06:14:12.458Z  XrLsNeb8C402A494A8245C4  \n",
       "\n",
       "[1 rows x 40 columns]"
      ]
     },
     "execution_count": 29,
     "metadata": {},
     "output_type": "execute_result"
    }
   ],
   "source": [
    "DATA.products_json[DATA.products_json['_id'] == 'Xr78ie7CAD688A9F1124245']"
   ]
  },
  {
   "cell_type": "code",
   "execution_count": 23,
   "id": "d6ff90a1-8507-4905-b114-3a5f7745c72a",
   "metadata": {},
   "outputs": [
    {
     "data": {
      "text/html": [
       "<div>\n",
       "<style scoped>\n",
       "    .dataframe tbody tr th:only-of-type {\n",
       "        vertical-align: middle;\n",
       "    }\n",
       "\n",
       "    .dataframe tbody tr th {\n",
       "        vertical-align: top;\n",
       "    }\n",
       "\n",
       "    .dataframe thead th {\n",
       "        text-align: right;\n",
       "    }\n",
       "</style>\n",
       "<table border=\"1\" class=\"dataframe\">\n",
       "  <thead>\n",
       "    <tr style=\"text-align: right;\">\n",
       "      <th></th>\n",
       "      <th>projectId</th>\n",
       "      <th>top_style_1</th>\n",
       "      <th>awesome_score</th>\n",
       "      <th>product_id</th>\n",
       "      <th>use_count</th>\n",
       "      <th>name</th>\n",
       "      <th>tags</th>\n",
       "      <th>dimensions</th>\n",
       "      <th>images</th>\n",
       "      <th>item_name</th>\n",
       "      <th>enterpriseId</th>\n",
       "      <th>category</th>\n",
       "      <th>new_tag</th>\n",
       "    </tr>\n",
       "  </thead>\n",
       "  <tbody>\n",
       "    <tr>\n",
       "      <th>12373</th>\n",
       "      <td>x9ednfh884d8b29d9124b6f</td>\n",
       "      <td>MID_CENTURY_MODERN NATURAL MODERN</td>\n",
       "      <td>0.945683</td>\n",
       "      <td>Xr78ie7CAD688A9F1124245</td>\n",
       "      <td>5</td>\n",
       "      <td>CESBON 원목슬라이딩 수납협탁 라탄 KCN003 7815.1583(브라운)</td>\n",
       "      <td>[테이블, 태이블, 탁자, 사이드테이블, 협탁, 사이드, 티테이블, 보조테이블, 침...</td>\n",
       "      <td>{'width': 553, 'height': 585, 'depth': 408, 'u...</td>\n",
       "      <td>[https://resources.archisketch.com/product/Xr7...</td>\n",
       "      <td>CESBON 원목슬라이딩 수납협탁 라탄 KCN003 7815.1583(브라운)</td>\n",
       "      <td>B57D4F97C0E44A11</td>\n",
       "      <td>책상/테이블</td>\n",
       "      <td>NaN</td>\n",
       "    </tr>\n",
       "  </tbody>\n",
       "</table>\n",
       "</div>"
      ],
      "text/plain": [
       "                     projectId                        top_style_1  \\\n",
       "12373  x9ednfh884d8b29d9124b6f  MID_CENTURY_MODERN NATURAL MODERN   \n",
       "\n",
       "       awesome_score               product_id  use_count  \\\n",
       "12373       0.945683  Xr78ie7CAD688A9F1124245          5   \n",
       "\n",
       "                                              name  \\\n",
       "12373  CESBON 원목슬라이딩 수납협탁 라탄 KCN003 7815.1583(브라운)   \n",
       "\n",
       "                                                    tags  \\\n",
       "12373  [테이블, 태이블, 탁자, 사이드테이블, 협탁, 사이드, 티테이블, 보조테이블, 침...   \n",
       "\n",
       "                                              dimensions  \\\n",
       "12373  {'width': 553, 'height': 585, 'depth': 408, 'u...   \n",
       "\n",
       "                                                  images  \\\n",
       "12373  [https://resources.archisketch.com/product/Xr7...   \n",
       "\n",
       "                                         item_name      enterpriseId category  \\\n",
       "12373  CESBON 원목슬라이딩 수납협탁 라탄 KCN003 7815.1583(브라운)  B57D4F97C0E44A11   책상/테이블   \n",
       "\n",
       "      new_tag  \n",
       "12373     NaN  "
      ]
     },
     "execution_count": 23,
     "metadata": {},
     "output_type": "execute_result"
    }
   ],
   "source": [
    "products_df[products_df['product_id'] == 'Xr78ie7CAD688A9F1124245']"
   ]
  },
  {
   "cell_type": "code",
   "execution_count": 21,
   "id": "4282c1be-90be-4375-a04c-ddf02879b1a9",
   "metadata": {},
   "outputs": [],
   "source": [
    "from run import SEARCH_RECOMMEND\n",
    "\n",
    "search_engine = SEARCH_RECOMMEND(products_df_4, qval=None)"
   ]
  },
  {
   "cell_type": "code",
   "execution_count": 22,
   "id": "fa9fea77-e566-4b4d-b310-4bdb43f6cf56",
   "metadata": {},
   "outputs": [
    {
     "name": "stdout",
     "output_type": "stream",
     "text": [
      "Xs-eCT3EA4B23F0D2D64827\n",
      "사용자 님의 아이템 목록에 [아이린 자수 호텔 침구 Q (화이트)]를 추가합니다.\n",
      "사용자 님이 현재 선택한 아이템 목록 : {('Xs-eCT3EA4B23F0D2D64827', 'Décor')}\n",
      "검색 아이템이 해당한 프로젝트 ID : x9nq9r095cbb4f1965a429e\n",
      "검색 태그 : scandinavian minimal 엘레나하임 elenaheim 침구세트 호텔침구세트 이불커버 베개커버 아이린 자수 호텔 침구 q (화이트) x6rqele4d13a5c8346f4c22\n",
      "검색 시간 : 0.083초\t검색 알고리즘 : sorensen\n",
      "\n",
      "사용자가 선택한 아이템 : 아이린 자수 호텔 침구 Q (화이트)\n",
      "사용자가 이미 선택한 아이템 목록\n",
      "아이린 자수 호텔 침구 Q (화이트)\n",
      "\n",
      "================================================================================\n",
      "추천 아이템 Top10\n",
      "================================================================================\n",
      "추천 1순위 : 아이린 자수 호텔 침구 S (스윗 아이보리) - Décor\n",
      "추천 2순위 : 투톤 스티치 호텔 침구(싱글) - Décor\n",
      "추천 3순위 : 빈티지 S22 chair - Chairs\n",
      "추천 4순위 : 싱크대 상+하부장 세트 (싱크대) (화이트) - Kitchen\n",
      "추천 5순위 : 싱크대 상+하부장 세트 (원도어) (화이트) - Kitchen\n",
      "추천 6순위 : 싱크대 상+하부장 세트 (가스렌지) (화이트) - Kitchen\n",
      "추천 7순위 : 플랫 우드 블라인드 (화이트) - Décor\n",
      "추천 8순위 : Cone Floor lamp_on - Lighting\n",
      "추천 9순위 : 아이린 모던라인벨벳쿠션 (크림화이트) - Décor\n",
      "추천 10순위 : 제인스 북 린넨 룩 커튼 (화이트) - Décor\n",
      "Xr78ie7CAD688A9F1124245\n",
      "사용자 님의 아이템 목록에 [CESBON 원목슬라이딩 수납협탁 라탄 KCN003 7815.1583(브라운)]를 추가합니다.\n"
     ]
    },
    {
     "ename": "IndexError",
     "evalue": "index 0 is out of bounds for axis 0 with size 0",
     "output_type": "error",
     "traceback": [
      "\u001b[0;31m---------------------------------------------------------------------------\u001b[0m",
      "\u001b[0;31mIndexError\u001b[0m                                Traceback (most recent call last)",
      "Input \u001b[0;32mIn [22]\u001b[0m, in \u001b[0;36m<cell line: 2>\u001b[0;34m()\u001b[0m\n\u001b[1;32m      3\u001b[0m \u001b[38;5;28mprint\u001b[39m(prod_id[\u001b[38;5;241m0\u001b[39m])\n\u001b[1;32m      4\u001b[0m prod_name \u001b[38;5;241m=\u001b[39m products_df[products_df[\u001b[38;5;124m'\u001b[39m\u001b[38;5;124mproduct_id\u001b[39m\u001b[38;5;124m'\u001b[39m] \u001b[38;5;241m==\u001b[39m prod_id[\u001b[38;5;241m0\u001b[39m]][\u001b[38;5;124m'\u001b[39m\u001b[38;5;124mname\u001b[39m\u001b[38;5;124m'\u001b[39m]\u001b[38;5;241m.\u001b[39mvalues[\u001b[38;5;241m0\u001b[39m]\n\u001b[0;32m----> 5\u001b[0m \u001b[43msearch_engine\u001b[49m\u001b[38;5;241;43m.\u001b[39;49m\u001b[43msearch_product\u001b[49m\u001b[43m(\u001b[49m\u001b[43mprod_name\u001b[49m\u001b[43m,\u001b[49m\u001b[43m \u001b[49m\u001b[43mtopn\u001b[49m\u001b[38;5;241;43m=\u001b[39;49m\u001b[38;5;241;43m10\u001b[39;49m\u001b[43m,\u001b[49m\u001b[43m \u001b[49m\u001b[43malgo\u001b[49m\u001b[38;5;241;43m=\u001b[39;49m\u001b[43malgo\u001b[49m\u001b[43m)\u001b[49m\n",
      "File \u001b[0;32m~/Desktop/codestates/CP2/run.py:114\u001b[0m, in \u001b[0;36mSEARCH_RECOMMEND.search_product\u001b[0;34m(self, prod, topn, algo)\u001b[0m\n\u001b[1;32m    105\u001b[0m \u001b[38;5;124;03m\"\"\"\u001b[39;00m\n\u001b[1;32m    106\u001b[0m \u001b[38;5;124;03m# 사용자 선택한 아이템/아이템 목록으로부터 유사도를 통해 아이템 추천\u001b[39;00m\n\u001b[1;32m    107\u001b[0m \u001b[38;5;124;03m\u001b[39;00m\n\u001b[0;32m   (...)\u001b[0m\n\u001b[1;32m    110\u001b[0m \u001b[38;5;124;03malgo : 'sorensen' - 토큰 기반 거리 유사도 알고리즘, 'ncd' - 문장 압축을 통한 유사도 알고리즘\u001b[39;00m\n\u001b[1;32m    111\u001b[0m \u001b[38;5;124;03m\"\"\"\u001b[39;00m\n\u001b[1;32m    112\u001b[0m \u001b[38;5;66;03m# 아이템을 사용자 아이템 목록에 추가\u001b[39;00m\n\u001b[1;32m    113\u001b[0m \u001b[38;5;66;03m# declare id, category of searching product\u001b[39;00m\n\u001b[0;32m--> 114\u001b[0m id_ \u001b[38;5;241m=\u001b[39m \u001b[38;5;28;43mself\u001b[39;49m\u001b[38;5;241;43m.\u001b[39;49m\u001b[43madd_item_in_user_item_set\u001b[49m\u001b[43m(\u001b[49m\u001b[43mprod\u001b[49m\u001b[43m)\u001b[49m\n\u001b[1;32m    115\u001b[0m prod_cat \u001b[38;5;241m=\u001b[39m \u001b[38;5;28mself\u001b[39m\u001b[38;5;241m.\u001b[39mdf_[\u001b[38;5;28mself\u001b[39m\u001b[38;5;241m.\u001b[39mdf_[\u001b[38;5;124m'\u001b[39m\u001b[38;5;124mproduct_id\u001b[39m\u001b[38;5;124m'\u001b[39m] \u001b[38;5;241m==\u001b[39m id_][\u001b[38;5;124m'\u001b[39m\u001b[38;5;124mcategory\u001b[39m\u001b[38;5;124m'\u001b[39m]\u001b[38;5;241m.\u001b[39mvalues[\u001b[38;5;241m0\u001b[39m]\n\u001b[1;32m    117\u001b[0m \u001b[38;5;28mprint\u001b[39m(\u001b[38;5;124mf\u001b[39m\u001b[38;5;124m\"\u001b[39m\u001b[38;5;124m검색 아이템이 해당한 프로젝트 ID : \u001b[39m\u001b[38;5;132;01m{\u001b[39;00m\u001b[38;5;28mself\u001b[39m\u001b[38;5;241m.\u001b[39mdf_[\u001b[38;5;28mself\u001b[39m\u001b[38;5;241m.\u001b[39mdf_[\u001b[38;5;124m'\u001b[39m\u001b[38;5;124mname\u001b[39m\u001b[38;5;124m'\u001b[39m] \u001b[38;5;241m==\u001b[39m prod][\u001b[38;5;124m'\u001b[39m\u001b[38;5;124mprojectId\u001b[39m\u001b[38;5;124m'\u001b[39m]\u001b[38;5;241m.\u001b[39mvalues[\u001b[38;5;241m0\u001b[39m]\u001b[38;5;132;01m}\u001b[39;00m\u001b[38;5;124m\"\u001b[39m)\n",
      "File \u001b[0;32m~/Desktop/codestates/CP2/run.py:59\u001b[0m, in \u001b[0;36mSEARCH_RECOMMEND.add_item_in_user_item_set\u001b[0;34m(self, prod)\u001b[0m\n\u001b[1;32m     57\u001b[0m prev_len \u001b[38;5;241m=\u001b[39m \u001b[38;5;28mlen\u001b[39m(\u001b[38;5;28mself\u001b[39m\u001b[38;5;241m.\u001b[39muser_item_set)\n\u001b[1;32m     58\u001b[0m \u001b[38;5;28mprint\u001b[39m(\u001b[38;5;124mf\u001b[39m\u001b[38;5;124m'\u001b[39m\u001b[38;5;124m사용자 님의 아이템 목록에 [\u001b[39m\u001b[38;5;132;01m{\u001b[39;00mprod\u001b[38;5;132;01m}\u001b[39;00m\u001b[38;5;124m]를 추가합니다.\u001b[39m\u001b[38;5;124m'\u001b[39m)\n\u001b[0;32m---> 59\u001b[0m id_ \u001b[38;5;241m=\u001b[39m \u001b[38;5;28;43mself\u001b[39;49m\u001b[38;5;241;43m.\u001b[39;49m\u001b[43mdf_\u001b[49m\u001b[43m[\u001b[49m\u001b[38;5;28;43mself\u001b[39;49m\u001b[38;5;241;43m.\u001b[39;49m\u001b[43mdf_\u001b[49m\u001b[43m[\u001b[49m\u001b[38;5;124;43m'\u001b[39;49m\u001b[38;5;124;43mname\u001b[39;49m\u001b[38;5;124;43m'\u001b[39;49m\u001b[43m]\u001b[49m\u001b[43m \u001b[49m\u001b[38;5;241;43m==\u001b[39;49m\u001b[43m \u001b[49m\u001b[43mprod\u001b[49m\u001b[43m]\u001b[49m\u001b[43m[\u001b[49m\u001b[38;5;124;43m'\u001b[39;49m\u001b[38;5;124;43mproduct_id\u001b[39;49m\u001b[38;5;124;43m'\u001b[39;49m\u001b[43m]\u001b[49m\u001b[38;5;241;43m.\u001b[39;49m\u001b[43mvalues\u001b[49m\u001b[43m[\u001b[49m\u001b[38;5;241;43m0\u001b[39;49m\u001b[43m]\u001b[49m\n\u001b[1;32m     60\u001b[0m cat_ \u001b[38;5;241m=\u001b[39m \u001b[38;5;28mself\u001b[39m\u001b[38;5;241m.\u001b[39mdf_[\u001b[38;5;28mself\u001b[39m\u001b[38;5;241m.\u001b[39mdf_[\u001b[38;5;124m'\u001b[39m\u001b[38;5;124mname\u001b[39m\u001b[38;5;124m'\u001b[39m] \u001b[38;5;241m==\u001b[39m prod][\u001b[38;5;124m'\u001b[39m\u001b[38;5;124mcategory\u001b[39m\u001b[38;5;124m'\u001b[39m]\u001b[38;5;241m.\u001b[39mvalues[\u001b[38;5;241m0\u001b[39m]\n\u001b[1;32m     61\u001b[0m \u001b[38;5;28mself\u001b[39m\u001b[38;5;241m.\u001b[39muser_item_set\u001b[38;5;241m.\u001b[39madd((id_, cat_))\n",
      "\u001b[0;31mIndexError\u001b[0m: index 0 is out of bounds for axis 0 with size 0"
     ]
    }
   ],
   "source": [
    "algo = 'sorensen'\n",
    "for prod_id in x_1:\n",
    "    print(prod_id[0])\n",
    "    prod_name = products_df[products_df['product_id'] == prod_id[0]]['name'].values[0]\n",
    "    search_engine.search_product(prod_name, topn=10, algo=algo)"
   ]
  },
  {
   "cell_type": "code",
   "execution_count": null,
   "id": "49f58095-7562-40c8-8258-7c6dbc0068c8",
   "metadata": {},
   "outputs": [],
   "source": [
    "products_df_b[products_df_b['product_id'] == 'Xr78ie7CAD688A9F1124245']['name'].values"
   ]
  },
  {
   "cell_type": "code",
   "execution_count": null,
   "id": "4b75a971-bdc7-4427-829d-0f6cccdc7d8c",
   "metadata": {},
   "outputs": [],
   "source": [
    "\n"
   ]
  },
  {
   "cell_type": "code",
   "execution_count": null,
   "id": "0983c1fb-b307-4c2b-b697-0001c7d52e4f",
   "metadata": {},
   "outputs": [],
   "source": [
    "df['items'].apply(lambda x: np.random.choice(x))\n",
    "# df[['test_25']] = df[['items']].apply(lambda x: np.random.choice(x, int(len(x)*0.25)))\n",
    "# df[['test_5']] = df[['items']].apply(lambda x: np.random.choice(x, int(len(x)*0.5)))\n",
    "# df[['test_75']] = df[['items']].apply(lambda x: np.random.choice(x, int(len(x)*0.75)))"
   ]
  },
  {
   "cell_type": "code",
   "execution_count": null,
   "id": "b6649205-e00f-44a0-8c28-2f94ca0b29d7",
   "metadata": {},
   "outputs": [],
   "source": [
    "df"
   ]
  },
  {
   "cell_type": "code",
   "execution_count": null,
   "id": "1231d840-a640-4600-be16-a4ddee899cf8",
   "metadata": {},
   "outputs": [],
   "source": [
    "test_"
   ]
  },
  {
   "cell_type": "code",
   "execution_count": null,
   "id": "0aa73ae3-a4bf-4a88-8c24-064f5b3d8d41",
   "metadata": {},
   "outputs": [],
   "source": [
    "user1_test = ['XjDwfV4C2377DB2C32B4EBD',\n",
    "   'XrTVBz466807713843D41CB',\n",
    "   '1DFB69B26D714ED5']"
   ]
  },
  {
   "cell_type": "code",
   "execution_count": null,
   "id": "ca616e56-3353-4a34-8170-96558904d565",
   "metadata": {},
   "outputs": [],
   "source": [
    "user1_label = ['68787D99716C4340',\n",
    "   'XZvSCSS8CD1831D050045BB',\n",
    "   'XVFHlhG52AC559F0BA54F3F',\n",
    "   'XxzIVRl47A310D4F5EB4075',\n",
    "   'XkcVzwM5BEDBE9E76A74BF5',\n",
    "   'Xz-wAFH5EEE0C92D4B44767',\n",
    "   'XZqdP8rF328DB2EB2204A20',\n",
    "   'XjDwfV518E0F0A28D9C4B9C',\n",
    "   'XrTVBzr2F846AF2835B4DF8']"
   ]
  },
  {
   "cell_type": "code",
   "execution_count": null,
   "id": "611116c9-8c44-4019-9071-84393aad9f2e",
   "metadata": {},
   "outputs": [],
   "source": [
    "DATA.products_4.head()"
   ]
  },
  {
   "cell_type": "code",
   "execution_count": null,
   "id": "eae7bac9-81d6-4c65-9a00-844f18b58199",
   "metadata": {},
   "outputs": [],
   "source": [
    "pro_cat_group = DATA.products_4.groupby(['projectId', 'category'])['category'].agg({'count'}).reset_index()\n",
    "pro_cat_group"
   ]
  },
  {
   "cell_type": "code",
   "execution_count": null,
   "id": "d68bc869-1f73-4b3d-a6c0-0e0cfc14208c",
   "metadata": {},
   "outputs": [],
   "source": [
    "pro_cat_count_mat = pd.pivot(pro_cat_group, index='projectId', columns='category', values='count').fillna(0)\n",
    "pro_cat_count_mat"
   ]
  },
  {
   "cell_type": "code",
   "execution_count": null,
   "id": "5b0affe1-94cc-483a-8ff5-76fbd4cf75ca",
   "metadata": {},
   "outputs": [],
   "source": [
    "def get_pro_cat_count_mat(df):\n",
    "    pro_cat_group = df.groupby(['projectId', 'category'])['category'].agg({'count'}).reset_index()\n",
    "    return pd.pivot(pro_cat_group, index='projectId', columns='category', values='count').fillna(0)"
   ]
  },
  {
   "cell_type": "code",
   "execution_count": null,
   "id": "898613ba-4165-44bd-a631-ccc1c8bdb8cc",
   "metadata": {},
   "outputs": [],
   "source": [
    "pro_cat_count_mat_4 = get_pro_cat_count_mat(DATA.products_4)\n",
    "pro_cat_count_mat_b = get_pro_cat_count_mat(DATA.products_b)\n",
    "\n",
    "pro_cat_count_mat_4.shape, pro_cat_count_mat_b.shape"
   ]
  },
  {
   "cell_type": "code",
   "execution_count": null,
   "id": "e061cde0-04f1-4bc2-92a1-20011965de7d",
   "metadata": {},
   "outputs": [],
   "source": [
    "pro_cat_count_mat_4"
   ]
  },
  {
   "cell_type": "code",
   "execution_count": null,
   "id": "ed67a036-6022-42a1-8a50-2b2f598c40e1",
   "metadata": {},
   "outputs": [],
   "source": [
    "pro_cat_count_mat_b"
   ]
  },
  {
   "cell_type": "code",
   "execution_count": null,
   "id": "01a7b008-2b32-47ff-a8e1-264bed1b0def",
   "metadata": {},
   "outputs": [],
   "source": []
  }
 ],
 "metadata": {
  "kernelspec": {
   "display_name": "Python 3 (ipykernel)",
   "language": "python",
   "name": "python3"
  },
  "language_info": {
   "codemirror_mode": {
    "name": "ipython",
    "version": 3
   },
   "file_extension": ".py",
   "mimetype": "text/x-python",
   "name": "python",
   "nbconvert_exporter": "python",
   "pygments_lexer": "ipython3",
   "version": "3.8.12"
  }
 },
 "nbformat": 4,
 "nbformat_minor": 5
}
