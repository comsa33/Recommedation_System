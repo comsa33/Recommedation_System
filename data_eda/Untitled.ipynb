{
 "cells": [
  {
   "cell_type": "code",
   "execution_count": 108,
   "id": "8d9498bc",
   "metadata": {},
   "outputs": [],
   "source": [
    "import json\n",
    "from glob import glob\n",
    "import pandas as pd\n",
    "import numpy as np\n",
    "\n",
    "import requests\n",
    "from io import BytesIO\n",
    "from PIL import Image\n",
    "from IPython.display import display\n",
    "\n",
    "import time\n",
    "import matplotlib.pyplot as plt\n",
    "import seaborn as sns\n",
    "import textdistance\n",
    "\n",
    "plt.style.use('ggplot')"
   ]
  },
  {
   "cell_type": "code",
   "execution_count": 17,
   "id": "6dd9f25a",
   "metadata": {},
   "outputs": [],
   "source": [
    "# abs path -> 22-03-07/ *.json\n",
    "best = glob('22-03-07/best*.json')\n",
    "item = glob('22-03-07/item*.json')\n",
    "products = glob('22-03-07/products*.json')\n",
    "#category1 == category2 = True\n",
    "category = glob('22-03-07/category1.json')"
   ]
  },
  {
   "cell_type": "code",
   "execution_count": 5,
   "id": "8e57edb4",
   "metadata": {},
   "outputs": [],
   "source": [
    "def read_jsonfile(json_file):\n",
    "    with open(json_file) as json_file:\n",
    "        json_data = json.load(json_file)\n",
    "    return json_data"
   ]
  },
  {
   "cell_type": "code",
   "execution_count": 80,
   "id": "6b807ca1",
   "metadata": {},
   "outputs": [],
   "source": [
    "def json2df(path_list, which_data='best'):\n",
    "    \"\"\"\n",
    "    input:\n",
    "        - path_list : a list of all the file paths\n",
    "            example => ['22-03-07/bestshots2.json', '22-03-07/bestshots1.json']\n",
    "        - which_data : 'best', 'item', 'products', 'category'\n",
    "    output:\n",
    "        concatnated DataFrame objects splitted into 2 by 'enterpriseId' => ('421B6D0E746C4E6D' and 'B57D4F97C0E44A11')\n",
    "    \"\"\"\n",
    "    \n",
    "    ent_4 = '421B6D0E746C4E6D'\n",
    "    ent_b = 'B57D4F97C0E44A11'\n",
    "    \n",
    "    if which_data != 'category':\n",
    "        df_list = []\n",
    "        for file_path in path_list:\n",
    "            df_list.append(pd.DataFrame(read_jsonfile(file_path)))\n",
    "        \n",
    "        if which_data == 'products':\n",
    "            df = pd.concat(df_list).T.reset_index(drop=True)\n",
    "        else:\n",
    "            df = pd.concat(df_list).reset_index(drop=True)\n",
    "            \n",
    "        df = df.rename(columns={'enterprise_id':'enterpriseId'})\n",
    "        return df.query(f'enterpriseId==\"{ent_4}\"').reset_index(drop=True), df.query(f'enterpriseId==\"{ent_b}\"').reset_index(drop=True)\n",
    "    \n",
    "    else:\n",
    "        for file_path in path_list:\n",
    "            category_json = read_jsonfile(file_path)\n",
    "        return pd.DataFrame(category_json[ent_4]), pd.DataFrame(category_json[ent_b])"
   ]
  },
  {
   "cell_type": "code",
   "execution_count": 81,
   "id": "4055e199",
   "metadata": {},
   "outputs": [],
   "source": [
    "best_4, best_b = json2df(best)\n",
    "items_4, items_b = json2df(item)\n",
    "items_4, items_b = items_4.drop_duplicates('_id'), items_b.drop_duplicates('_id')\n",
    "products_4, products_b = json2df(products, which_data='products')\n",
    "category_4, category_b = json2df(category, which_data='category')"
   ]
  },
  {
   "cell_type": "code",
   "execution_count": 131,
   "id": "60b33dfb",
   "metadata": {},
   "outputs": [
    {
     "data": {
      "text/html": [
       "<div>\n",
       "<style scoped>\n",
       "    .dataframe tbody tr th:only-of-type {\n",
       "        vertical-align: middle;\n",
       "    }\n",
       "\n",
       "    .dataframe tbody tr th {\n",
       "        vertical-align: top;\n",
       "    }\n",
       "\n",
       "    .dataframe thead th {\n",
       "        text-align: right;\n",
       "    }\n",
       "</style>\n",
       "<table border=\"1\" class=\"dataframe\">\n",
       "  <thead>\n",
       "    <tr style=\"text-align: right;\">\n",
       "      <th></th>\n",
       "      <th>awesome_score</th>\n",
       "      <th>date</th>\n",
       "      <th>datetime</th>\n",
       "      <th>enterpriseId</th>\n",
       "      <th>id</th>\n",
       "      <th>projectId</th>\n",
       "      <th>style_predictions</th>\n",
       "      <th>top_score</th>\n",
       "      <th>top_style</th>\n",
       "    </tr>\n",
       "  </thead>\n",
       "  <tbody>\n",
       "    <tr>\n",
       "      <th>2</th>\n",
       "      <td>0.941246</td>\n",
       "      <td>2022-03-06</td>\n",
       "      <td>2022-03-06T09:43:33.090000</td>\n",
       "      <td>421B6D0E746C4E6D</td>\n",
       "      <td>X9enN3iCB5C02807C324267</td>\n",
       "      <td>X9FwT9TB461A316FD4A402F</td>\n",
       "      <td>{'BOHEMIAN': 8.87e-05, 'CLASSIC_AND_ANTIQUE': ...</td>\n",
       "      <td>0.969094</td>\n",
       "      <td>MODERN</td>\n",
       "    </tr>\n",
       "    <tr>\n",
       "      <th>6</th>\n",
       "      <td>0.964227</td>\n",
       "      <td>2022-03-05</td>\n",
       "      <td>2022-03-05T14:35:43.296000</td>\n",
       "      <td>421B6D0E746C4E6D</td>\n",
       "      <td>X9agf9AE67D09AC5B8848F4</td>\n",
       "      <td>X9FwT9TB461A316FD4A402F</td>\n",
       "      <td>{'BOHEMIAN': 0.000538163, 'CLASSIC_AND_ANTIQUE...</td>\n",
       "      <td>0.441593</td>\n",
       "      <td>MODERN</td>\n",
       "    </tr>\n",
       "    <tr>\n",
       "      <th>7</th>\n",
       "      <td>0.986274</td>\n",
       "      <td>2022-03-04</td>\n",
       "      <td>2022-03-04T09:59:16.262000</td>\n",
       "      <td>421B6D0E746C4E6D</td>\n",
       "      <td>X9UXoomF8B8B7DDDB7D446A</td>\n",
       "      <td>X9FwT9TB461A316FD4A402F</td>\n",
       "      <td>{'BOHEMIAN': 0.072435729, 'CLASSIC_AND_ANTIQUE...</td>\n",
       "      <td>0.314823</td>\n",
       "      <td>NATURAL</td>\n",
       "    </tr>\n",
       "    <tr>\n",
       "      <th>21</th>\n",
       "      <td>0.930815</td>\n",
       "      <td>2022-03-03</td>\n",
       "      <td>2022-03-03T08:18:27.332000</td>\n",
       "      <td>421B6D0E746C4E6D</td>\n",
       "      <td>X9O2-GE360D53D0BA944DEF</td>\n",
       "      <td>X9FwT9TB461A316FD4A402F</td>\n",
       "      <td>{'BOHEMIAN': 1.1178e-05, 'CLASSIC_AND_ANTIQUE'...</td>\n",
       "      <td>0.925654</td>\n",
       "      <td>MODERN</td>\n",
       "    </tr>\n",
       "    <tr>\n",
       "      <th>31</th>\n",
       "      <td>0.983693</td>\n",
       "      <td>2022-03-02</td>\n",
       "      <td>2022-03-02T09:23:50.210000</td>\n",
       "      <td>421B6D0E746C4E6D</td>\n",
       "      <td>X9J8WFC47ACDB187D8B421D</td>\n",
       "      <td>X9FwT9TB461A316FD4A402F</td>\n",
       "      <td>{'BOHEMIAN': 0.006999183, 'CLASSIC_AND_ANTIQUE...</td>\n",
       "      <td>0.455669</td>\n",
       "      <td>LUXURY</td>\n",
       "    </tr>\n",
       "  </tbody>\n",
       "</table>\n",
       "</div>"
      ],
      "text/plain": [
       "    awesome_score        date                    datetime      enterpriseId  \\\n",
       "2        0.941246  2022-03-06  2022-03-06T09:43:33.090000  421B6D0E746C4E6D   \n",
       "6        0.964227  2022-03-05  2022-03-05T14:35:43.296000  421B6D0E746C4E6D   \n",
       "7        0.986274  2022-03-04  2022-03-04T09:59:16.262000  421B6D0E746C4E6D   \n",
       "21       0.930815  2022-03-03  2022-03-03T08:18:27.332000  421B6D0E746C4E6D   \n",
       "31       0.983693  2022-03-02  2022-03-02T09:23:50.210000  421B6D0E746C4E6D   \n",
       "\n",
       "                         id                projectId  \\\n",
       "2   X9enN3iCB5C02807C324267  X9FwT9TB461A316FD4A402F   \n",
       "6   X9agf9AE67D09AC5B8848F4  X9FwT9TB461A316FD4A402F   \n",
       "7   X9UXoomF8B8B7DDDB7D446A  X9FwT9TB461A316FD4A402F   \n",
       "21  X9O2-GE360D53D0BA944DEF  X9FwT9TB461A316FD4A402F   \n",
       "31  X9J8WFC47ACDB187D8B421D  X9FwT9TB461A316FD4A402F   \n",
       "\n",
       "                                    style_predictions  top_score top_style  \n",
       "2   {'BOHEMIAN': 8.87e-05, 'CLASSIC_AND_ANTIQUE': ...   0.969094    MODERN  \n",
       "6   {'BOHEMIAN': 0.000538163, 'CLASSIC_AND_ANTIQUE...   0.441593    MODERN  \n",
       "7   {'BOHEMIAN': 0.072435729, 'CLASSIC_AND_ANTIQUE...   0.314823   NATURAL  \n",
       "21  {'BOHEMIAN': 1.1178e-05, 'CLASSIC_AND_ANTIQUE'...   0.925654    MODERN  \n",
       "31  {'BOHEMIAN': 0.006999183, 'CLASSIC_AND_ANTIQUE...   0.455669    LUXURY  "
      ]
     },
     "execution_count": 131,
     "metadata": {},
     "output_type": "execute_result"
    }
   ],
   "source": [
    "# 동일한 id 와 projectId의 차이?\n",
    "best_4[best_4['projectId']=='X9FwT9TB461A316FD4A402F']"
   ]
  },
  {
   "cell_type": "code",
   "execution_count": 91,
   "id": "525de261",
   "metadata": {},
   "outputs": [
    {
     "data": {
      "text/plain": [
       "((4153, 9), (415, 9))"
      ]
     },
     "execution_count": 91,
     "metadata": {},
     "output_type": "execute_result"
    }
   ],
   "source": [
    "best_b.shape, best_4.shape"
   ]
  },
  {
   "cell_type": "code",
   "execution_count": 113,
   "id": "ff5e5e91",
   "metadata": {},
   "outputs": [
    {
     "data": {
      "image/png": "[encoded data removed]",
      "text/plain": [
       "<Figure size 504x360 with 1 Axes>"
      ]
     },
     "metadata": {},
     "output_type": "display_data"
    }
   ],
   "source": [
    "best_b.groupby('projectId')['projectId'].agg({'count'}).value_counts().plot(kind='bar', figsize=(7, 5))\n",
    "plt.title(\"Item Count Frequency per Project\", fontsize='15')\n",
    "plt.show()"
   ]
  },
  {
   "cell_type": "code",
   "execution_count": 124,
   "id": "46066a43",
   "metadata": {},
   "outputs": [],
   "source": [
    "items_4, items_b = items_4.drop_duplicates('_id'), items_b.drop_duplicates('_id')"
   ]
  },
  {
   "cell_type": "code",
   "execution_count": 125,
   "id": "5764f1f7",
   "metadata": {},
   "outputs": [
    {
     "data": {
      "text/plain": [
       "0"
      ]
     },
     "execution_count": 125,
     "metadata": {},
     "output_type": "execute_result"
    }
   ],
   "source": [
    "items_4.duplicated('_id').sum()"
   ]
  },
  {
   "cell_type": "code",
   "execution_count": 126,
   "id": "2abd26a5",
   "metadata": {},
   "outputs": [
    {
     "data": {
      "text/plain": [
       "((345, 31), (3923, 31))"
      ]
     },
     "execution_count": 126,
     "metadata": {},
     "output_type": "execute_result"
    }
   ],
   "source": [
    "items_4.shape, items_b.shape"
   ]
  },
  {
   "cell_type": "code",
   "execution_count": 134,
   "id": "010d39a8",
   "metadata": {},
   "outputs": [
    {
     "data": {
      "text/plain": [
       "0      [{'productId': 'X8brWeE6E8B43372F554FBC', 'pos...\n",
       "1      [{'productId': 'XVjPYKP427C3D3EF6EB4F76', 'pos...\n",
       "2      [{'productId': 'Xiq68wY715E2642180E4EC5', 'pos...\n",
       "3      [{'productId': 'Xip8nea5D3CF56DB2974E78', 'pos...\n",
       "4      [{'productId': 'XXPVCK14A74883DC6B54C90', 'pos...\n",
       "                             ...                        \n",
       "355    [{'productId': 'XiL9Rbl5495213F75FC4489', 'pos...\n",
       "356    [{'productId': '32CB7FA2721A48A1', 'position':...\n",
       "357    [{'productId': 'X1Vf72837E007D973264FFD', 'pos...\n",
       "358    [{'productId': 'X1Vf72837E007D973264FFD', 'pos...\n",
       "359    [{'productId': 'FB9EA7E54E064C80', 'position':...\n",
       "Name: items, Length: 345, dtype: object"
      ]
     },
     "execution_count": 134,
     "metadata": {},
     "output_type": "execute_result"
    }
   ],
   "source": [
    "items_4['items']"
   ]
  },
  {
   "cell_type": "code",
   "execution_count": 136,
   "id": "52b3502f",
   "metadata": {},
   "outputs": [
    {
     "data": {
      "text/plain": [
       "2     X9enN3iCB5C02807C324267\n",
       "6     X9agf9AE67D09AC5B8848F4\n",
       "7     X9UXoomF8B8B7DDDB7D446A\n",
       "21    X9O2-GE360D53D0BA944DEF\n",
       "31    X9J8WFC47ACDB187D8B421D\n",
       "Name: id, dtype: object"
      ]
     },
     "execution_count": 136,
     "metadata": {},
     "output_type": "execute_result"
    }
   ],
   "source": [
    "best_4[best_4['projectId']=='X9FwT9TB461A316FD4A402F']['id']"
   ]
  },
  {
   "cell_type": "code",
   "execution_count": 137,
   "id": "51dbf7b6",
   "metadata": {},
   "outputs": [
    {
     "data": {
      "text/plain": [
       "18    X9enN3iCB5C02807C324267\n",
       "20    X9agf9AE67D09AC5B8848F4\n",
       "24    X9UXoomF8B8B7DDDB7D446A\n",
       "31    X9O2-GE360D53D0BA944DEF\n",
       "48    X9J8WFC47ACDB187D8B421D\n",
       "Name: _id, dtype: object"
      ]
     },
     "execution_count": 137,
     "metadata": {},
     "output_type": "execute_result"
    }
   ],
   "source": [
    "items_4[items_4['projectId']=='X9FwT9TB461A316FD4A402F']['_id']"
   ]
  },
  {
   "cell_type": "code",
   "execution_count": 129,
   "id": "6226d7e1",
   "metadata": {},
   "outputs": [
    {
     "ename": "TypeError",
     "evalue": "get_group() missing 1 required positional argument: 'name'",
     "output_type": "error",
     "traceback": [
      "\u001b[0;31m---------------------------------------------------------------------------\u001b[0m",
      "\u001b[0;31mTypeError\u001b[0m                                 Traceback (most recent call last)",
      "Input \u001b[0;32mIn [129]\u001b[0m, in \u001b[0;36m<cell line: 1>\u001b[0;34m()\u001b[0m\n\u001b[0;32m----> 1\u001b[0m \u001b[43mitems_b\u001b[49m\u001b[38;5;241;43m.\u001b[39;49m\u001b[43mgroupby\u001b[49m\u001b[43m(\u001b[49m\u001b[43m[\u001b[49m\u001b[38;5;124;43m'\u001b[39;49m\u001b[38;5;124;43mprojectId\u001b[39;49m\u001b[38;5;124;43m'\u001b[39;49m\u001b[43m]\u001b[49m\u001b[43m)\u001b[49m\u001b[43m[\u001b[49m\u001b[38;5;124;43m'\u001b[39;49m\u001b[38;5;124;43m_id\u001b[39;49m\u001b[38;5;124;43m'\u001b[39;49m\u001b[43m]\u001b[49m\u001b[38;5;241;43m.\u001b[39;49m\u001b[43mget_group\u001b[49m\u001b[43m(\u001b[49m\u001b[43m)\u001b[49m\n",
      "\u001b[0;31mTypeError\u001b[0m: get_group() missing 1 required positional argument: 'name'"
     ]
    }
   ],
   "source": [
    "items_b.groupby(['projectId'])['_id'].get_group()"
   ]
  },
  {
   "cell_type": "code",
   "execution_count": 127,
   "id": "9b027dae",
   "metadata": {},
   "outputs": [
    {
     "data": {
      "text/html": [
       "<div>\n",
       "<style scoped>\n",
       "    .dataframe tbody tr th:only-of-type {\n",
       "        vertical-align: middle;\n",
       "    }\n",
       "\n",
       "    .dataframe tbody tr th {\n",
       "        vertical-align: top;\n",
       "    }\n",
       "\n",
       "    .dataframe thead th {\n",
       "        text-align: right;\n",
       "    }\n",
       "</style>\n",
       "<table border=\"1\" class=\"dataframe\">\n",
       "  <thead>\n",
       "    <tr style=\"text-align: right;\">\n",
       "      <th></th>\n",
       "      <th>_id</th>\n",
       "      <th>projectId</th>\n",
       "      <th>remainTime</th>\n",
       "      <th>renderStartTime</th>\n",
       "      <th>uuid</th>\n",
       "      <th>type</th>\n",
       "      <th>resolution</th>\n",
       "      <th>enterpriseId</th>\n",
       "      <th>userId</th>\n",
       "      <th>referenceId</th>\n",
       "      <th>...</th>\n",
       "      <th>list</th>\n",
       "      <th>background</th>\n",
       "      <th>tags</th>\n",
       "      <th>roomTag</th>\n",
       "      <th>watermark</th>\n",
       "      <th>comment</th>\n",
       "      <th>items</th>\n",
       "      <th>archive</th>\n",
       "      <th>createdAt</th>\n",
       "      <th>updatedAt</th>\n",
       "    </tr>\n",
       "  </thead>\n",
       "  <tbody>\n",
       "    <tr>\n",
       "      <th>0</th>\n",
       "      <td>X9GTDhYFEFFF950DCE34D0D</td>\n",
       "      <td>X25sMcID0975F1628924AA1</td>\n",
       "      <td>00:01:41.44</td>\n",
       "      <td>2022-03-01T16:51:02.482Z</td>\n",
       "      <td>9BE9B254-E36E-49F1-95D8-18EE4670BA3C</td>\n",
       "      <td>0</td>\n",
       "      <td>{'x': 1280, 'y': 960}</td>\n",
       "      <td>B57D4F97C0E44A11</td>\n",
       "      <td>X25ouiH160AC249E6D447A4</td>\n",
       "      <td></td>\n",
       "      <td>...</td>\n",
       "      <td>[]</td>\n",
       "      <td>1</td>\n",
       "      <td>[]</td>\n",
       "      <td>4</td>\n",
       "      <td>{'image': 'https://resources.archisketch.com/e...</td>\n",
       "      <td>{'title': '', 'body': ''}</td>\n",
       "      <td>[{'productId': 'XpB5qAs3DCF3BE520F9424E', 'pos...</td>\n",
       "      <td>None</td>\n",
       "      <td>2022-03-01T16:24:34.648Z</td>\n",
       "      <td>2022-03-01T16:51:42.351Z</td>\n",
       "    </tr>\n",
       "    <tr>\n",
       "      <th>1</th>\n",
       "      <td>X9F0vo018DE4CAC78CA4C15</td>\n",
       "      <td>X9BIxrAA672FCEB243F4F46</td>\n",
       "      <td>00:01:23.53</td>\n",
       "      <td>2022-03-01T14:38:25.595Z</td>\n",
       "      <td>944FE52B-3183-4F5E-B980-6729EEF94B80</td>\n",
       "      <td>0</td>\n",
       "      <td>{'x': 1280, 'y': 720}</td>\n",
       "      <td>B57D4F97C0E44A11</td>\n",
       "      <td>X8_rS6eAB79FCB81A524C34</td>\n",
       "      <td></td>\n",
       "      <td>...</td>\n",
       "      <td>[]</td>\n",
       "      <td>1</td>\n",
       "      <td>[02, 드리밍, 일자형, 알로소, 쇼파, 스툴, 보니애가구, 발받침대, 플렌트, ...</td>\n",
       "      <td>0</td>\n",
       "      <td>{'image': 'https://resources.archisketch.com/e...</td>\n",
       "      <td>{'title': '', 'body': ''}</td>\n",
       "      <td>[{'productId': 'XkcFu3oEDC0CE6D6A184F93', 'pos...</td>\n",
       "      <td>None</td>\n",
       "      <td>2022-03-01T14:12:08.884Z</td>\n",
       "      <td>2022-03-01T14:38:46.672Z</td>\n",
       "    </tr>\n",
       "    <tr>\n",
       "      <th>2</th>\n",
       "      <td>X9Ft_FlC59F6D648E0C495A</td>\n",
       "      <td>X9FAJeXFD43D56356CA4E1A</td>\n",
       "      <td>00:02:06.99</td>\n",
       "      <td>2022-03-01T14:06:51.394Z</td>\n",
       "      <td>404B301C-888B-4D36-B9C8-4716067949A3</td>\n",
       "      <td>0</td>\n",
       "      <td>{'x': 1920, 'y': 1080}</td>\n",
       "      <td>B57D4F97C0E44A11</td>\n",
       "      <td>X83NlLi7F18D4FEDE2942C0</td>\n",
       "      <td></td>\n",
       "      <td>...</td>\n",
       "      <td>[]</td>\n",
       "      <td>1</td>\n",
       "      <td>[postershopkr, 와이어, 2nduniverse, 벽/천장장식, 조명, 초...</td>\n",
       "      <td>0</td>\n",
       "      <td>{'image': 'https://resources.archisketch.com/e...</td>\n",
       "      <td>{'title': '', 'body': ''}</td>\n",
       "      <td>[{'productId': 'Xz-wAFZF3B04D05C6E84835', 'pos...</td>\n",
       "      <td>None</td>\n",
       "      <td>2022-03-01T13:42:37.157Z</td>\n",
       "      <td>2022-03-01T14:07:57.129Z</td>\n",
       "    </tr>\n",
       "    <tr>\n",
       "      <th>3</th>\n",
       "      <td>X9FFB2E1349684B7C7E4C53</td>\n",
       "      <td>X81rLRkAF853FCEEE29443E</td>\n",
       "      <td>00:01:35.65</td>\n",
       "      <td>2022-03-01T11:03:32.954Z</td>\n",
       "      <td>9CB3CE51-A500-4EBC-8F10-09CA6E864C41</td>\n",
       "      <td>0</td>\n",
       "      <td>{'x': 1280, 'y': 720}</td>\n",
       "      <td>B57D4F97C0E44A11</td>\n",
       "      <td>X8mHUKQEB943E814D544DFC</td>\n",
       "      <td></td>\n",
       "      <td>...</td>\n",
       "      <td>[]</td>\n",
       "      <td>1</td>\n",
       "      <td>[]</td>\n",
       "      <td>4</td>\n",
       "      <td>{'image': 'https://resources.archisketch.com/e...</td>\n",
       "      <td>{'title': '', 'body': ''}</td>\n",
       "      <td>[{'productId': 'XkM8W4GBBFC245D5231498B', 'pos...</td>\n",
       "      <td>None</td>\n",
       "      <td>2022-03-01T10:43:40.548Z</td>\n",
       "      <td>2022-03-01T11:04:09.247Z</td>\n",
       "    </tr>\n",
       "    <tr>\n",
       "      <th>4</th>\n",
       "      <td>X9Eq7YR75291CAB389F48E6</td>\n",
       "      <td>X8xAD1H9D8553BA1D134EFA</td>\n",
       "      <td>00:02:52.37</td>\n",
       "      <td>2022-03-01T09:14:32.577Z</td>\n",
       "      <td>9AA830E7-1A4C-4EBF-B1A7-62C1C2820F1F</td>\n",
       "      <td>0</td>\n",
       "      <td>{'x': 2560, 'y': 1440}</td>\n",
       "      <td>B57D4F97C0E44A11</td>\n",
       "      <td>X8wyESp79D08B014BD7425C</td>\n",
       "      <td></td>\n",
       "      <td>...</td>\n",
       "      <td>[]</td>\n",
       "      <td>1</td>\n",
       "      <td>[렌지대, 가공목(mdf 외), PIDOR, F5NATURE, 수납, 데스커, 마켓...</td>\n",
       "      <td>0</td>\n",
       "      <td>{'image': 'https://resources.archisketch.com/e...</td>\n",
       "      <td>{'title': '', 'body': ''}</td>\n",
       "      <td>[{'productId': 'XdrPW7XB36F172C7BAC4D96', 'pos...</td>\n",
       "      <td>None</td>\n",
       "      <td>2022-03-01T08:49:38.321Z</td>\n",
       "      <td>2022-03-01T09:16:09.779Z</td>\n",
       "    </tr>\n",
       "  </tbody>\n",
       "</table>\n",
       "<p>5 rows × 31 columns</p>\n",
       "</div>"
      ],
      "text/plain": [
       "                       _id                projectId   remainTime  \\\n",
       "0  X9GTDhYFEFFF950DCE34D0D  X25sMcID0975F1628924AA1  00:01:41.44   \n",
       "1  X9F0vo018DE4CAC78CA4C15  X9BIxrAA672FCEB243F4F46  00:01:23.53   \n",
       "2  X9Ft_FlC59F6D648E0C495A  X9FAJeXFD43D56356CA4E1A  00:02:06.99   \n",
       "3  X9FFB2E1349684B7C7E4C53  X81rLRkAF853FCEEE29443E  00:01:35.65   \n",
       "4  X9Eq7YR75291CAB389F48E6  X8xAD1H9D8553BA1D134EFA  00:02:52.37   \n",
       "\n",
       "            renderStartTime                                  uuid  type  \\\n",
       "0  2022-03-01T16:51:02.482Z  9BE9B254-E36E-49F1-95D8-18EE4670BA3C     0   \n",
       "1  2022-03-01T14:38:25.595Z  944FE52B-3183-4F5E-B980-6729EEF94B80     0   \n",
       "2  2022-03-01T14:06:51.394Z  404B301C-888B-4D36-B9C8-4716067949A3     0   \n",
       "3  2022-03-01T11:03:32.954Z  9CB3CE51-A500-4EBC-8F10-09CA6E864C41     0   \n",
       "4  2022-03-01T09:14:32.577Z  9AA830E7-1A4C-4EBF-B1A7-62C1C2820F1F     0   \n",
       "\n",
       "               resolution      enterpriseId                   userId  \\\n",
       "0   {'x': 1280, 'y': 960}  B57D4F97C0E44A11  X25ouiH160AC249E6D447A4   \n",
       "1   {'x': 1280, 'y': 720}  B57D4F97C0E44A11  X8_rS6eAB79FCB81A524C34   \n",
       "2  {'x': 1920, 'y': 1080}  B57D4F97C0E44A11  X83NlLi7F18D4FEDE2942C0   \n",
       "3   {'x': 1280, 'y': 720}  B57D4F97C0E44A11  X8mHUKQEB943E814D544DFC   \n",
       "4  {'x': 2560, 'y': 1440}  B57D4F97C0E44A11  X8wyESp79D08B014BD7425C   \n",
       "\n",
       "  referenceId  ...  list  background  \\\n",
       "0              ...    []           1   \n",
       "1              ...    []           1   \n",
       "2              ...    []           1   \n",
       "3              ...    []           1   \n",
       "4              ...    []           1   \n",
       "\n",
       "                                                tags  roomTag  \\\n",
       "0                                                 []        4   \n",
       "1  [02, 드리밍, 일자형, 알로소, 쇼파, 스툴, 보니애가구, 발받침대, 플렌트, ...        0   \n",
       "2  [postershopkr, 와이어, 2nduniverse, 벽/천장장식, 조명, 초...        0   \n",
       "3                                                 []        4   \n",
       "4  [렌지대, 가공목(mdf 외), PIDOR, F5NATURE, 수납, 데스커, 마켓...        0   \n",
       "\n",
       "                                           watermark  \\\n",
       "0  {'image': 'https://resources.archisketch.com/e...   \n",
       "1  {'image': 'https://resources.archisketch.com/e...   \n",
       "2  {'image': 'https://resources.archisketch.com/e...   \n",
       "3  {'image': 'https://resources.archisketch.com/e...   \n",
       "4  {'image': 'https://resources.archisketch.com/e...   \n",
       "\n",
       "                     comment  \\\n",
       "0  {'title': '', 'body': ''}   \n",
       "1  {'title': '', 'body': ''}   \n",
       "2  {'title': '', 'body': ''}   \n",
       "3  {'title': '', 'body': ''}   \n",
       "4  {'title': '', 'body': ''}   \n",
       "\n",
       "                                               items  archive  \\\n",
       "0  [{'productId': 'XpB5qAs3DCF3BE520F9424E', 'pos...     None   \n",
       "1  [{'productId': 'XkcFu3oEDC0CE6D6A184F93', 'pos...     None   \n",
       "2  [{'productId': 'Xz-wAFZF3B04D05C6E84835', 'pos...     None   \n",
       "3  [{'productId': 'XkM8W4GBBFC245D5231498B', 'pos...     None   \n",
       "4  [{'productId': 'XdrPW7XB36F172C7BAC4D96', 'pos...     None   \n",
       "\n",
       "                  createdAt                 updatedAt  \n",
       "0  2022-03-01T16:24:34.648Z  2022-03-01T16:51:42.351Z  \n",
       "1  2022-03-01T14:12:08.884Z  2022-03-01T14:38:46.672Z  \n",
       "2  2022-03-01T13:42:37.157Z  2022-03-01T14:07:57.129Z  \n",
       "3  2022-03-01T10:43:40.548Z  2022-03-01T11:04:09.247Z  \n",
       "4  2022-03-01T08:49:38.321Z  2022-03-01T09:16:09.779Z  \n",
       "\n",
       "[5 rows x 31 columns]"
      ]
     },
     "execution_count": 127,
     "metadata": {},
     "output_type": "execute_result"
    }
   ],
   "source": [
    "items_b.head()"
   ]
  },
  {
   "cell_type": "code",
   "execution_count": null,
   "id": "b687da25",
   "metadata": {},
   "outputs": [],
   "source": []
  }
 ],
 "metadata": {
  "kernelspec": {
   "display_name": "Python 3 (ipykernel)",
   "language": "python",
   "name": "python3"
  },
  "language_info": {
   "codemirror_mode": {
    "name": "ipython",
    "version": 3
   },
   "file_extension": ".py",
   "mimetype": "text/x-python",
   "name": "python",
   "nbconvert_exporter": "python",
   "pygments_lexer": "ipython3",
   "version": "3.8.12"
  }
 },
 "nbformat": 4,
 "nbformat_minor": 5
}
