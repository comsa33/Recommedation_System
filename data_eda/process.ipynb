{
 "cells": [
  {
   "cell_type": "code",
   "execution_count": 38,
   "id": "fc403e77",
   "metadata": {},
   "outputs": [],
   "source": [
    "import json\n",
    "import pandas as pd\n",
    "import numpy as np\n",
    "from time import time\n",
    "from glob import glob"
   ]
  },
  {
   "cell_type": "code",
   "execution_count": 39,
   "id": "15da58e5",
   "metadata": {},
   "outputs": [
    {
     "data": {
      "text/plain": [
       "('1.4.1', '1.21.5')"
      ]
     },
     "execution_count": 39,
     "metadata": {},
     "output_type": "execute_result"
    }
   ],
   "source": [
    "pd.__version__, np.__version__"
   ]
  },
  {
   "cell_type": "code",
   "execution_count": 40,
   "id": "51a20dd1",
   "metadata": {
    "tags": []
   },
   "outputs": [],
   "source": [
    "# abs path -> 22-03-07/ *.json\n",
    "best = glob('22-03-07/best*.json')\n",
    "item = glob('22-03-07/item*.json')\n",
    "products = glob('22-03-07/products*.json')\n",
    "#category1 == category2 = True\n",
    "category = glob('22-03-07/category1.json')"
   ]
  },
  {
   "cell_type": "code",
   "execution_count": 41,
   "id": "7122aff9",
   "metadata": {},
   "outputs": [
    {
     "data": {
      "text/plain": [
       "(['22-03-07/bestshots2.json', '22-03-07/bestshots1.json'],\n",
       " ['22-03-07/items1.json', '22-03-07/items2.json'],\n",
       " ['22-03-07/products2.json', '22-03-07/products1.json'],\n",
       " ['22-03-07/category1.json'])"
      ]
     },
     "execution_count": 41,
     "metadata": {},
     "output_type": "execute_result"
    }
   ],
   "source": [
    "best, item, products, category"
   ]
  },
  {
   "cell_type": "code",
   "execution_count": 42,
   "id": "7700bdda",
   "metadata": {},
   "outputs": [],
   "source": [
    "import pandas as pd\n",
    "import json\n",
    "\n",
    "class Preprocess:\n",
    "    \n",
    "    def __init__(self, best, item, products, category, style_ths=0.1):\n",
    "        \"\"\"\n",
    "        style_ths : top_style_predictions 에서 범위 조절 (e.g. 0.1 이상으로 예측 점수를 받은 스타일만 받아옴 - maximum 3개)\n",
    "        \"\"\"\n",
    "        self.style_ths = style_ths\n",
    "        self.style_ths_name = str(style_ths)[-1]\n",
    "        \n",
    "        self.best = best\n",
    "        self.item = item\n",
    "        self.products = products\n",
    "        self.category = category\n",
    "        \n",
    "        self.best_json = self.read_json(best)\n",
    "        self.item_json = self.read_json(item)\n",
    "        self.products_json = self.read_json(products).drop_duplicates('_id') # products json duplicated deleted\n",
    "        self.category_json = self.read_json2(category).reset_index(drop=True)\n",
    "        self.best_item, self.category, self.products_4, self.products_b = self.preprocess(self.best_json, \n",
    "                                                                           self.item_json, \n",
    "                                                                           self.products_json, \n",
    "                                                                           self.category_json)\n",
    "\n",
    "    def read_json(self,json_file):\n",
    "        df = pd.DataFrame()\n",
    "        if json_file != self.products:  \n",
    "            for file in json_file:\n",
    "                x = pd.read_json(file)\n",
    "                df = pd.concat([df, x])\n",
    "        else:\n",
    "            # why -> products json duplicated \n",
    "            for file in json_file:\n",
    "                x = pd.read_json(file).T.reset_index(drop=True)    \n",
    "                df = pd.concat([df, x])\n",
    "        return df\n",
    "\n",
    "    def read_json2(self,category):\n",
    "        for i in category:\n",
    "            with open(i) as js:\n",
    "                json_data = json.load(js)\n",
    "        cat_4, cat_b = pd.DataFrame(json_data['421B6D0E746C4E6D']), pd.DataFrame(json_data['B57D4F97C0E44A11'])\n",
    "        category = pd.concat([cat_4, cat_b])\n",
    "        return category\n",
    "    \n",
    "    def get_productId(self, items_list):\n",
    "        new_list = []\n",
    "        for item in items_list:\n",
    "            new_list.append(item['productId'])\n",
    "        return new_list\n",
    "    \n",
    "    # category['children'] -> name(label) \n",
    "    def find_category_df(self, category):\n",
    "        df = pd.DataFrame()\n",
    "        for i in category['children']:\n",
    "            df2 = pd.DataFrame(i)\n",
    "            df = pd.concat([df, df2])\n",
    "        return df\n",
    "    \n",
    "    # 4/b 분리하는 함수 => best, item, products, category\n",
    "    # return => best, item, products, category / best, item, products, category\n",
    "    \n",
    "    def preprocess(self, best, item, products, category):\n",
    "        \n",
    "        item.rename(columns={'enterpriseId':'enterprise_id', '_id':'id'}, inplace=True)\n",
    "        templates = pd.merge(best, item, on=['enterprise_id', 'projectId', 'id'])\n",
    "        \n",
    "        # 2 enterprise id \n",
    "        ent2, ent1 = templates['enterprise_id'].unique().tolist()\n",
    "        \n",
    "        # get item_id \n",
    "        templates['items'] = templates['items'].apply(self.get_productId)\n",
    "        \n",
    "        # find_category_id_preprocess\n",
    "    \n",
    "        # edit new columns style_name, style_score > 0.1 \n",
    "        templates[f'top_style_{self.style_ths_name}'] = templates['style_predictions'].apply(\n",
    "            lambda x: sorted(\n",
    "                [(name, score) for name, score in x.items() if score > self.style_ths],\n",
    "                key=lambda x: x[1],\n",
    "                reverse=True)[:3]\n",
    "        )\n",
    "        # del list, style score\n",
    "        templates[f'top_style_{self.style_ths_name}'] = templates[f'top_style_{self.style_ths_name}'].apply(\n",
    "            lambda x: ' '.join([name for name, score in x]))\n",
    "        \n",
    "        # Edit best_item['items'] = list(values) -> values\n",
    "        items_stack = pd.DataFrame(templates['items'].apply(lambda x: pd.Series(x)).stack()).reset_index(1, drop=True) \n",
    "        products_df = pd.merge(templates[['enterprise_id', \n",
    "                                          f'top_style_{self.style_ths_name}', \n",
    "                                          'top_style', \n",
    "                                          'projectId', \n",
    "                                          'awesome_score']].reset_index(), \n",
    "                               items_stack.reset_index(), \n",
    "                               on='index').drop(['index'], axis=1).rename(columns = {0:'product_id'})\n",
    "        prod_tags_df = products[['_id', 'tags', 'name', 'images', 'categories']]\n",
    "        products_df = pd.merge(products_df, \n",
    "                               prod_tags_df, \n",
    "                               left_on='product_id', \n",
    "                               right_on='_id').drop(['_id'], axis=1)\n",
    "        products_df = pd.merge(products_df, \n",
    "                               products_df['product_id'].value_counts().reset_index(),\n",
    "                               left_on='product_id',\n",
    "                               right_on='index').rename(columns = {'product_id_x': 'product_id',\n",
    "                                                                   'product_id_y':'use_count'}).drop(['index'], axis=1)\n",
    "        \n",
    "        # category[categories] = list(values) -> values\n",
    "#         products_df['category_name'] = products_df['categories'].apply(lambda x: pd.Series(x)).reset_index(drop=True).drop(columns=1)\n",
    "        products_df['category_name'] = products_df['categories'].apply(lambda x: x[0] if len(x) > 0 else np.nan)\n",
    "        \n",
    "        \n",
    "        ## new code\n",
    "        # find_category_id_preprocess\n",
    "        cat_a = self.find_category_df(self.category_json)\n",
    "        cat_a = pd.merge(self.category_json[['_id', 'name']], \n",
    "                         cat_a[['name', '_id', 'enterpriseId', 'parentId', 'children']], \n",
    "                         left_on='_id', right_on='parentId').drop(['parentId'], axis=1)\n",
    "        \n",
    "        cat_b = self.find_category_df(cat_a)\n",
    "        cat_b = pd.merge(self.category_json[['_id', 'name']], \n",
    "                 cat_b[['name', 'enterpriseId', 'parentId', 'grandparentId', '_id']], \n",
    "                 left_on='_id', \n",
    "                 right_on='grandparentId').drop(['grandparentId'], axis=1)\n",
    "        \n",
    "        self.products_json['category_name'] = self.products_json['categories'].apply(lambda x: x[0] if len(x) > 0 else np.nan)\n",
    "#         self.products_json['category_name'] = self.products_json['categories'].apply(lambda x: pd.Series(x)).reset_index(drop=True).drop(columns=1)\n",
    "        \n",
    "        # category_df['name_x'] = category['children']\n",
    "        # category_df['name_y'] = category['children'][children]\n",
    "        prod_a = pd.merge(self.products_json[['_id', 'name', 'category_name']], \n",
    "                         cat_a[['name_x', 'name_y', '_id_y', 'enterpriseId', 'children']], \n",
    "                         left_on='category_name', right_on='_id_y', how='left').drop(['_id_y'], axis=1)\n",
    "        \n",
    "        prod_b = pd.merge(self.products_json[['_id', 'name', 'category_name']], \n",
    "                         cat_b[['name_x', 'name_y', '_id_y', 'enterpriseId']], \n",
    "                         left_on='category_name', right_on='_id_y', how='left').drop(['_id_y'], axis=1)\n",
    "        \n",
    "        category_df = pd.merge(prod_a, \n",
    "                         prod_b[['_id', 'category_name', 'name_x', 'name_y']].rename(columns={'name_y':'name_z'}),\n",
    "                         on='_id'\n",
    "                        )\n",
    "        category_df['name_x_x'] = category_df['name_x_x'].fillna(category_df['name_x_y'])\n",
    "        category_df = category_df.drop(['name_x_y', 'category_name_x', 'category_name_y','children'], axis=1)\n",
    "        category_df.columns = ['product_id', 'name', \n",
    "                            'name_x', 'name_y', \n",
    "                            'enterpriseId', 'name_z']\n",
    "        category_df = category_df[['product_id', 'name', \n",
    "                                'name_x', 'name_y', 'name_z', \n",
    "                                'enterpriseId']]\n",
    "        \n",
    "        category_df = pd.merge(self.products_json[['_id', 'name', 'tags', 'dimensions', 'images']], \n",
    "                               category_df[['product_id', 'name_x', 'name_y', 'name_z']], \n",
    "                                left_on = '_id',\n",
    "                                right_on = 'product_id')\n",
    "        \n",
    "        products_df = pd.merge(products_df[['enterprise_id', 'projectId', 'top_style_1', \n",
    "                                            'top_style', 'awesome_score', 'product_id', 'use_count']], \n",
    "                               category_df, \n",
    "                               on='product_id')\n",
    "        \n",
    "        products_df_4 = products_df[products_df['enterprise_id'] == ent1].reset_index(drop=True)\n",
    "        products_df_b = products_df[products_df['enterprise_id'] == ent2].reset_index(drop=True)\n",
    "        \n",
    "        return templates, category_df, products_df_4, products_df_b"
   ]
  },
  {
   "cell_type": "code",
   "execution_count": 43,
   "id": "66f914e7",
   "metadata": {
    "tags": []
   },
   "outputs": [
    {
     "name": "stderr",
     "output_type": "stream",
     "text": [
      "/var/folders/9_/rnj5svk11p1157tkdv28yb6r0000gn/T/ipykernel_49011/1001001398.py:90: FutureWarning: The default dtype for empty Series will be 'object' instead of 'float64' in a future version. Specify a dtype explicitly to silence this warning.\n",
      "  items_stack = pd.DataFrame(templates['items'].apply(lambda x: pd.Series(x)).stack()).reset_index(1, drop=True)\n"
     ]
    },
    {
     "name": "stdout",
     "output_type": "stream",
     "text": [
      "2.175428867340088\n"
     ]
    }
   ],
   "source": [
    "start_time = time()\n",
    "data = Preprocess(best, item, products, category)\n",
    "print(time() - start_time)"
   ]
  },
  {
   "cell_type": "code",
   "execution_count": 44,
   "id": "4253f445",
   "metadata": {
    "tags": []
   },
   "outputs": [
    {
     "data": {
      "text/plain": [
       "enterprise_id                                     421B6D0E746C4E6D\n",
       "projectId                                  X8_sB1nD0A90AED920B4963\n",
       "top_style_1                    NATURAL MINIMAL CLASSIC_AND_ANTIQUE\n",
       "top_style                                                  NATURAL\n",
       "awesome_score                                             0.887253\n",
       "product_id                                 Xho2Q_R7168F63EA0DC4AFC\n",
       "use_count                                                        8\n",
       "_id                                        Xho2Q_R7168F63EA0DC4AFC\n",
       "name                                              대형 아레카야자 ( 화이트 )\n",
       "tags                                                            []\n",
       "dimensions       {'width': 1186, 'height': 2104, 'depth': 1452,...\n",
       "images           [https://resources.archisketch.com/product/Xho...\n",
       "name_x                                                       Décor\n",
       "name_y                                            Flowers & Plants\n",
       "name_z                                                         NaN\n",
       "Name: 398, dtype: object"
      ]
     },
     "execution_count": 44,
     "metadata": {},
     "output_type": "execute_result"
    }
   ],
   "source": [
    "data.products_4.iloc[398]"
   ]
  },
  {
   "cell_type": "code",
   "execution_count": 46,
   "id": "c132ea06",
   "metadata": {
    "tags": []
   },
   "outputs": [
    {
     "data": {
      "text/plain": [
       "array(['B57D4F97C0E44A11', '421B6D0E746C4E6D', 'X2y05bCA998108E75E74C7D',\n",
       "       '15BEED4FED5A48FD', 'B6C8251995CA4867', 'XoICUVPB5ECF48BA60E4DED',\n",
       "       'X0IUXyjAACE7265029649CB', 'XQACQJ_1585CF9DCDF24738',\n",
       "       'Xt0h3oh69E61A40DB78408C', 'XRXsOll73EE43188FC34DB9',\n",
       "       'XpVbS6q64E4F3457D0643A2', 'Xj4P1Ah517BE5A5AEE84670',\n",
       "       'XTkoXgbF2D6830243D64FAD'], dtype=object)"
      ]
     },
     "execution_count": 46,
     "metadata": {},
     "output_type": "execute_result"
    }
   ],
   "source": [
    "data.products_json['enterpriseId'].unique()"
   ]
  },
  {
   "cell_type": "code",
   "execution_count": null,
   "id": "21f3e3d5",
   "metadata": {
    "tags": []
   },
   "outputs": [],
   "source": [
    "x.category"
   ]
  },
  {
   "cell_type": "code",
   "execution_count": null,
   "id": "bc29553c",
   "metadata": {},
   "outputs": [],
   "source": [
    "x.prducts_4"
   ]
  },
  {
   "cell_type": "code",
   "execution_count": null,
   "id": "c3d8acac",
   "metadata": {},
   "outputs": [],
   "source": [
    "len(x.products_4)"
   ]
  },
  {
   "cell_type": "code",
   "execution_count": null,
   "id": "534c2df3",
   "metadata": {
    "tags": []
   },
   "outputs": [],
   "source": [
    "def find_category_df(category):\n",
    "    df = pd.DataFrame()\n",
    "    for i in category['children']:\n",
    "        df2 = pd.DataFrame(i)\n",
    "        df = pd.concat([df, df2])\n",
    "    return df\n",
    "\n",
    "df = find_category_df(x.category_json)\n",
    "df2 = find_category_df(df).drop('parentId', axis=1).rename(columns={'grandparentId':'parentId'})\n",
    "# dd = pd.concat([df, df2], ignore_index=True)\n",
    "# dd = pd.merge(x.category[['name', '_id']], dd, left_on='_id', right_on='parentId').rename(columns={'_id_y' : '_id'}).drop(columns=['_id_x'])"
   ]
  },
  {
   "cell_type": "code",
   "execution_count": null,
   "id": "82f589ac",
   "metadata": {},
   "outputs": [],
   "source": [
    "df2"
   ]
  },
  {
   "cell_type": "code",
   "execution_count": null,
   "id": "51d51f53",
   "metadata": {},
   "outputs": [],
   "source": [
    "df"
   ]
  },
  {
   "cell_type": "code",
   "execution_count": null,
   "id": "761ca328",
   "metadata": {},
   "outputs": [],
   "source": [
    "x.category_json"
   ]
  },
  {
   "cell_type": "code",
   "execution_count": null,
   "id": "b78f4818",
   "metadata": {
    "tags": []
   },
   "outputs": [],
   "source": [
    "df2"
   ]
  },
  {
   "cell_type": "code",
   "execution_count": null,
   "id": "09b5d306",
   "metadata": {},
   "outputs": [],
   "source": [
    "x.products_json['category_name'] = x.products_json['categories'].apply(lambda x: pd.Series(x)).reset_index(drop=True).drop(columns=1)\n",
    "# categories_name.apply(find_category)"
   ]
  },
  {
   "cell_type": "code",
   "execution_count": 9,
   "id": "5ee8417c",
   "metadata": {
    "tags": []
   },
   "outputs": [
    {
     "ename": "NameError",
     "evalue": "name 'x' is not defined",
     "output_type": "error",
     "traceback": [
      "\u001b[0;31m---------------------------------------------------------------------------\u001b[0m",
      "\u001b[0;31mNameError\u001b[0m                                 Traceback (most recent call last)",
      "Input \u001b[0;32mIn [9]\u001b[0m, in \u001b[0;36m<cell line: 1>\u001b[0;34m()\u001b[0m\n\u001b[0;32m----> 1\u001b[0m prod_a \u001b[38;5;241m=\u001b[39m pd\u001b[38;5;241m.\u001b[39mmerge(\u001b[43mx\u001b[49m\u001b[38;5;241m.\u001b[39mproducts_json[[\u001b[38;5;124m'\u001b[39m\u001b[38;5;124m_id\u001b[39m\u001b[38;5;124m'\u001b[39m, \u001b[38;5;124m'\u001b[39m\u001b[38;5;124mname\u001b[39m\u001b[38;5;124m'\u001b[39m, \u001b[38;5;124m'\u001b[39m\u001b[38;5;124mcategory_name\u001b[39m\u001b[38;5;124m'\u001b[39m]], \n\u001b[1;32m      2\u001b[0m          df[[\u001b[38;5;124m'\u001b[39m\u001b[38;5;124mname\u001b[39m\u001b[38;5;124m'\u001b[39m, \u001b[38;5;124m'\u001b[39m\u001b[38;5;124m_id\u001b[39m\u001b[38;5;124m'\u001b[39m, \u001b[38;5;124m'\u001b[39m\u001b[38;5;124menterpriseId\u001b[39m\u001b[38;5;124m'\u001b[39m]], \n\u001b[1;32m      3\u001b[0m          left_on\u001b[38;5;241m=\u001b[39m\u001b[38;5;124m'\u001b[39m\u001b[38;5;124mcategory_name\u001b[39m\u001b[38;5;124m'\u001b[39m, right_on\u001b[38;5;241m=\u001b[39m\u001b[38;5;124m'\u001b[39m\u001b[38;5;124m_id\u001b[39m\u001b[38;5;124m'\u001b[39m, how\u001b[38;5;241m=\u001b[39m\u001b[38;5;124m'\u001b[39m\u001b[38;5;124mleft\u001b[39m\u001b[38;5;124m'\u001b[39m)\n\u001b[1;32m      5\u001b[0m prod_b \u001b[38;5;241m=\u001b[39m pd\u001b[38;5;241m.\u001b[39mmerge(x\u001b[38;5;241m.\u001b[39mproducts_json[[\u001b[38;5;124m'\u001b[39m\u001b[38;5;124m_id\u001b[39m\u001b[38;5;124m'\u001b[39m, \u001b[38;5;124m'\u001b[39m\u001b[38;5;124mname\u001b[39m\u001b[38;5;124m'\u001b[39m, \u001b[38;5;124m'\u001b[39m\u001b[38;5;124mcategory_name\u001b[39m\u001b[38;5;124m'\u001b[39m]], \n\u001b[1;32m      6\u001b[0m          df2[[\u001b[38;5;124m'\u001b[39m\u001b[38;5;124mname\u001b[39m\u001b[38;5;124m'\u001b[39m, \u001b[38;5;124m'\u001b[39m\u001b[38;5;124m_id\u001b[39m\u001b[38;5;124m'\u001b[39m, \u001b[38;5;124m'\u001b[39m\u001b[38;5;124menterpriseId\u001b[39m\u001b[38;5;124m'\u001b[39m]], \n\u001b[1;32m      7\u001b[0m          left_on\u001b[38;5;241m=\u001b[39m\u001b[38;5;124m'\u001b[39m\u001b[38;5;124mcategory_name\u001b[39m\u001b[38;5;124m'\u001b[39m, right_on\u001b[38;5;241m=\u001b[39m\u001b[38;5;124m'\u001b[39m\u001b[38;5;124m_id\u001b[39m\u001b[38;5;124m'\u001b[39m, how\u001b[38;5;241m=\u001b[39m\u001b[38;5;124m'\u001b[39m\u001b[38;5;124mleft\u001b[39m\u001b[38;5;124m'\u001b[39m)\u001b[38;5;241m.\u001b[39msort_values(by\u001b[38;5;241m=\u001b[39m\u001b[38;5;124m'\u001b[39m\u001b[38;5;124m_id_x\u001b[39m\u001b[38;5;124m'\u001b[39m)\n",
      "\u001b[0;31mNameError\u001b[0m: name 'x' is not defined"
     ]
    }
   ],
   "source": [
    "prod_a = pd.merge(x.products_json[['_id', 'name', 'category_name']], \n",
    "         df[['name', '_id', 'enterpriseId']], \n",
    "         left_on='category_name', right_on='_id', how='left')\n",
    "\n",
    "prod_b = pd.merge(x.products_json[['_id', 'name', 'category_name']], \n",
    "         df2[['name', '_id', 'enterpriseId']], \n",
    "         left_on='category_name', right_on='_id', how='left').sort_values(by='_id_x')\n"
   ]
  },
  {
   "cell_type": "code",
   "execution_count": 10,
   "id": "84f884d6",
   "metadata": {
    "tags": []
   },
   "outputs": [
    {
     "ename": "NameError",
     "evalue": "name 'prod_a' is not defined",
     "output_type": "error",
     "traceback": [
      "\u001b[0;31m---------------------------------------------------------------------------\u001b[0m",
      "\u001b[0;31mNameError\u001b[0m                                 Traceback (most recent call last)",
      "Input \u001b[0;32mIn [10]\u001b[0m, in \u001b[0;36m<cell line: 1>\u001b[0;34m()\u001b[0m\n\u001b[0;32m----> 1\u001b[0m \u001b[43mprod_a\u001b[49m\u001b[38;5;241m.\u001b[39mhead()\n",
      "\u001b[0;31mNameError\u001b[0m: name 'prod_a' is not defined"
     ]
    }
   ],
   "source": [
    "prod_a.head()"
   ]
  },
  {
   "cell_type": "code",
   "execution_count": 11,
   "id": "5d6755c8",
   "metadata": {},
   "outputs": [
    {
     "ename": "NameError",
     "evalue": "name 'prod_b' is not defined",
     "output_type": "error",
     "traceback": [
      "\u001b[0;31m---------------------------------------------------------------------------\u001b[0m",
      "\u001b[0;31mNameError\u001b[0m                                 Traceback (most recent call last)",
      "Input \u001b[0;32mIn [11]\u001b[0m, in \u001b[0;36m<cell line: 1>\u001b[0;34m()\u001b[0m\n\u001b[0;32m----> 1\u001b[0m \u001b[43mprod_b\u001b[49m\u001b[38;5;241m.\u001b[39mhead()\n",
      "\u001b[0;31mNameError\u001b[0m: name 'prod_b' is not defined"
     ]
    }
   ],
   "source": [
    "prod_b.head()"
   ]
  },
  {
   "cell_type": "code",
   "execution_count": 12,
   "id": "712dda81",
   "metadata": {},
   "outputs": [
    {
     "ename": "NameError",
     "evalue": "name 'prod_a' is not defined",
     "output_type": "error",
     "traceback": [
      "\u001b[0;31m---------------------------------------------------------------------------\u001b[0m",
      "\u001b[0;31mNameError\u001b[0m                                 Traceback (most recent call last)",
      "Input \u001b[0;32mIn [12]\u001b[0m, in \u001b[0;36m<cell line: 1>\u001b[0;34m()\u001b[0m\n\u001b[0;32m----> 1\u001b[0m category \u001b[38;5;241m=\u001b[39m pd\u001b[38;5;241m.\u001b[39mconcat([\u001b[43mprod_a\u001b[49m\u001b[38;5;241m.\u001b[39mrename(columns\u001b[38;5;241m=\u001b[39m{\u001b[38;5;124m'\u001b[39m\u001b[38;5;124mname_y\u001b[39m\u001b[38;5;124m'\u001b[39m:\u001b[38;5;124m'\u001b[39m\u001b[38;5;124mcategory_a\u001b[39m\u001b[38;5;124m'\u001b[39m}), \n\u001b[1;32m      2\u001b[0m            prod_b[[\u001b[38;5;124m'\u001b[39m\u001b[38;5;124mname_y\u001b[39m\u001b[38;5;124m'\u001b[39m]]\u001b[38;5;241m.\u001b[39mrename(columns\u001b[38;5;241m=\u001b[39m{\u001b[38;5;124m'\u001b[39m\u001b[38;5;124mname_y\u001b[39m\u001b[38;5;124m'\u001b[39m:\u001b[38;5;124m'\u001b[39m\u001b[38;5;124mcategory_b\u001b[39m\u001b[38;5;124m'\u001b[39m})], axis\u001b[38;5;241m=\u001b[39m\u001b[38;5;241m1\u001b[39m)\n",
      "\u001b[0;31mNameError\u001b[0m: name 'prod_a' is not defined"
     ]
    }
   ],
   "source": [
    "category = pd.concat([prod_a.rename(columns={'name_y':'category_a'}), \n",
    "           prod_b[['name_y']].rename(columns={'name_y':'category_b'})], axis=1)"
   ]
  },
  {
   "cell_type": "code",
   "execution_count": 13,
   "id": "6a8f5369",
   "metadata": {
    "tags": []
   },
   "outputs": [
    {
     "data": {
      "text/plain": [
       "['22-03-07/category1.json']"
      ]
     },
     "execution_count": 13,
     "metadata": {},
     "output_type": "execute_result"
    }
   ],
   "source": [
    "category"
   ]
  },
  {
   "cell_type": "code",
   "execution_count": 14,
   "id": "b0e7f453",
   "metadata": {},
   "outputs": [
    {
     "ename": "AttributeError",
     "evalue": "'list' object has no attribute 'head'",
     "output_type": "error",
     "traceback": [
      "\u001b[0;31m---------------------------------------------------------------------------\u001b[0m",
      "\u001b[0;31mAttributeError\u001b[0m                            Traceback (most recent call last)",
      "Input \u001b[0;32mIn [14]\u001b[0m, in \u001b[0;36m<cell line: 1>\u001b[0;34m()\u001b[0m\n\u001b[0;32m----> 1\u001b[0m \u001b[43mcategory\u001b[49m\u001b[38;5;241;43m.\u001b[39;49m\u001b[43mhead\u001b[49m()\n",
      "\u001b[0;31mAttributeError\u001b[0m: 'list' object has no attribute 'head'"
     ]
    }
   ],
   "source": [
    "category.head()"
   ]
  },
  {
   "cell_type": "code",
   "execution_count": 15,
   "id": "381ba738",
   "metadata": {
    "tags": []
   },
   "outputs": [
    {
     "ename": "NameError",
     "evalue": "name 'x' is not defined",
     "output_type": "error",
     "traceback": [
      "\u001b[0;31m---------------------------------------------------------------------------\u001b[0m",
      "\u001b[0;31mNameError\u001b[0m                                 Traceback (most recent call last)",
      "Input \u001b[0;32mIn [15]\u001b[0m, in \u001b[0;36m<cell line: 1>\u001b[0;34m()\u001b[0m\n\u001b[0;32m----> 1\u001b[0m prod \u001b[38;5;241m=\u001b[39m \u001b[43mx\u001b[49m\u001b[38;5;241m.\u001b[39mproducts_json\n",
      "\u001b[0;31mNameError\u001b[0m: name 'x' is not defined"
     ]
    }
   ],
   "source": [
    "prod = x.products_json"
   ]
  },
  {
   "cell_type": "code",
   "execution_count": 16,
   "id": "d615717e",
   "metadata": {
    "tags": []
   },
   "outputs": [
    {
     "ename": "NameError",
     "evalue": "name 'prod' is not defined",
     "output_type": "error",
     "traceback": [
      "\u001b[0;31m---------------------------------------------------------------------------\u001b[0m",
      "\u001b[0;31mNameError\u001b[0m                                 Traceback (most recent call last)",
      "Input \u001b[0;32mIn [16]\u001b[0m, in \u001b[0;36m<cell line: 1>\u001b[0;34m()\u001b[0m\n\u001b[0;32m----> 1\u001b[0m \u001b[43mprod\u001b[49m\u001b[38;5;241m.\u001b[39minfo()\n",
      "\u001b[0;31mNameError\u001b[0m: name 'prod' is not defined"
     ]
    }
   ],
   "source": [
    "prod.info()"
   ]
  },
  {
   "cell_type": "code",
   "execution_count": 17,
   "id": "f2626e22",
   "metadata": {},
   "outputs": [
    {
     "ename": "NameError",
     "evalue": "name '_id' is not defined",
     "output_type": "error",
     "traceback": [
      "\u001b[0;31m---------------------------------------------------------------------------\u001b[0m",
      "\u001b[0;31mNameError\u001b[0m                                 Traceback (most recent call last)",
      "Input \u001b[0;32mIn [17]\u001b[0m, in \u001b[0;36m<cell line: 1>\u001b[0;34m()\u001b[0m\n\u001b[0;32m----> 1\u001b[0m \u001b[43m_id\u001b[49m, name, enterprisedId, tags, dimensions, images\n",
      "\u001b[0;31mNameError\u001b[0m: name '_id' is not defined"
     ]
    }
   ],
   "source": [
    "_id, name, enterprisedId, tags, dimensions, images"
   ]
  },
  {
   "cell_type": "code",
   "execution_count": 18,
   "id": "9116568e",
   "metadata": {
    "tags": []
   },
   "outputs": [
    {
     "ename": "NameError",
     "evalue": "name 'prod' is not defined",
     "output_type": "error",
     "traceback": [
      "\u001b[0;31m---------------------------------------------------------------------------\u001b[0m",
      "\u001b[0;31mNameError\u001b[0m                                 Traceback (most recent call last)",
      "Input \u001b[0;32mIn [18]\u001b[0m, in \u001b[0;36m<cell line: 1>\u001b[0;34m()\u001b[0m\n\u001b[0;32m----> 1\u001b[0m x \u001b[38;5;241m=\u001b[39m pd\u001b[38;5;241m.\u001b[39mmerge(\u001b[43mprod\u001b[49m[[\u001b[38;5;124m'\u001b[39m\u001b[38;5;124m_id\u001b[39m\u001b[38;5;124m'\u001b[39m, \u001b[38;5;124m'\u001b[39m\u001b[38;5;124mname\u001b[39m\u001b[38;5;124m'\u001b[39m, \u001b[38;5;124m'\u001b[39m\u001b[38;5;124menterpriseId\u001b[39m\u001b[38;5;124m'\u001b[39m, \u001b[38;5;124m'\u001b[39m\u001b[38;5;124mtags\u001b[39m\u001b[38;5;124m'\u001b[39m, \u001b[38;5;124m'\u001b[39m\u001b[38;5;124mdimensions\u001b[39m\u001b[38;5;124m'\u001b[39m, \u001b[38;5;124m'\u001b[39m\u001b[38;5;124mimages\u001b[39m\u001b[38;5;124m'\u001b[39m]], category[[\u001b[38;5;124m'\u001b[39m\u001b[38;5;124m_id_x\u001b[39m\u001b[38;5;124m'\u001b[39m, \u001b[38;5;124m'\u001b[39m\u001b[38;5;124mname_x\u001b[39m\u001b[38;5;124m'\u001b[39m, \u001b[38;5;124m'\u001b[39m\u001b[38;5;124mcategory_a\u001b[39m\u001b[38;5;124m'\u001b[39m, \u001b[38;5;124m'\u001b[39m\u001b[38;5;124menterpriseId\u001b[39m\u001b[38;5;124m'\u001b[39m, \u001b[38;5;124m'\u001b[39m\u001b[38;5;124mcategory_b\u001b[39m\u001b[38;5;124m'\u001b[39m]], left_on \u001b[38;5;241m=\u001b[39m\u001b[38;5;124m'\u001b[39m\u001b[38;5;124m_id\u001b[39m\u001b[38;5;124m'\u001b[39m, right_on \u001b[38;5;241m=\u001b[39m \u001b[38;5;124m'\u001b[39m\u001b[38;5;124m_id_x\u001b[39m\u001b[38;5;124m'\u001b[39m)\n",
      "\u001b[0;31mNameError\u001b[0m: name 'prod' is not defined"
     ]
    }
   ],
   "source": [
    "x = pd.merge(prod[['_id', 'name', 'enterpriseId', 'tags', 'dimensions', 'images']], category[['_id_x', 'name_x', 'category_a', 'enterpriseId', 'category_b']], left_on ='_id', right_on = '_id_x')"
   ]
  },
  {
   "cell_type": "code",
   "execution_count": 19,
   "id": "e581c4ec",
   "metadata": {},
   "outputs": [
    {
     "ename": "NameError",
     "evalue": "name 'x' is not defined",
     "output_type": "error",
     "traceback": [
      "\u001b[0;31m---------------------------------------------------------------------------\u001b[0m",
      "\u001b[0;31mNameError\u001b[0m                                 Traceback (most recent call last)",
      "Input \u001b[0;32mIn [19]\u001b[0m, in \u001b[0;36m<cell line: 1>\u001b[0;34m()\u001b[0m\n\u001b[0;32m----> 1\u001b[0m \u001b[43mx\u001b[49m\n",
      "\u001b[0;31mNameError\u001b[0m: name 'x' is not defined"
     ]
    }
   ],
   "source": [
    "x"
   ]
  },
  {
   "cell_type": "code",
   "execution_count": 20,
   "id": "89c5f877",
   "metadata": {},
   "outputs": [
    {
     "ename": "NameError",
     "evalue": "name 'x' is not defined",
     "output_type": "error",
     "traceback": [
      "\u001b[0;31m---------------------------------------------------------------------------\u001b[0m",
      "\u001b[0;31mNameError\u001b[0m                                 Traceback (most recent call last)",
      "Input \u001b[0;32mIn [20]\u001b[0m, in \u001b[0;36m<cell line: 1>\u001b[0;34m()\u001b[0m\n\u001b[0;32m----> 1\u001b[0m \u001b[43mx\u001b[49m\u001b[38;5;241m.\u001b[39mproducts_4\u001b[38;5;241m.\u001b[39mhead(\u001b[38;5;241m10\u001b[39m)\n",
      "\u001b[0;31mNameError\u001b[0m: name 'x' is not defined"
     ]
    }
   ],
   "source": [
    "x.products_4.head(10)"
   ]
  },
  {
   "cell_type": "code",
   "execution_count": 47,
   "id": "6c74c918",
   "metadata": {},
   "outputs": [
    {
     "data": {
      "text/plain": [
       "4556"
      ]
     },
     "execution_count": 47,
     "metadata": {},
     "output_type": "execute_result"
    }
   ],
   "source": [
    "templates = data.best_item\n",
    "len(templates)"
   ]
  },
  {
   "cell_type": "code",
   "execution_count": 48,
   "id": "5aeda56a",
   "metadata": {},
   "outputs": [
    {
     "data": {
      "text/html": [
       "<div>\n",
       "<style scoped>\n",
       "    .dataframe tbody tr th:only-of-type {\n",
       "        vertical-align: middle;\n",
       "    }\n",
       "\n",
       "    .dataframe tbody tr th {\n",
       "        vertical-align: top;\n",
       "    }\n",
       "\n",
       "    .dataframe thead th {\n",
       "        text-align: right;\n",
       "    }\n",
       "</style>\n",
       "<table border=\"1\" class=\"dataframe\">\n",
       "  <thead>\n",
       "    <tr style=\"text-align: right;\">\n",
       "      <th></th>\n",
       "      <th>awesome_score</th>\n",
       "      <th>date</th>\n",
       "      <th>datetime</th>\n",
       "      <th>enterprise_id</th>\n",
       "      <th>id</th>\n",
       "      <th>projectId</th>\n",
       "      <th>style_predictions</th>\n",
       "      <th>top_score</th>\n",
       "      <th>top_style</th>\n",
       "      <th>remainTime</th>\n",
       "      <th>...</th>\n",
       "      <th>background</th>\n",
       "      <th>tags</th>\n",
       "      <th>roomTag</th>\n",
       "      <th>watermark</th>\n",
       "      <th>comment</th>\n",
       "      <th>items</th>\n",
       "      <th>archive</th>\n",
       "      <th>createdAt</th>\n",
       "      <th>updatedAt</th>\n",
       "      <th>top_style_1</th>\n",
       "    </tr>\n",
       "  </thead>\n",
       "  <tbody>\n",
       "    <tr>\n",
       "      <th>0</th>\n",
       "      <td>0.993074</td>\n",
       "      <td>2022-03-06</td>\n",
       "      <td>2022-03-06 04:49:13.054</td>\n",
       "      <td>B57D4F97C0E44A11</td>\n",
       "      <td>X9dj2Ve97CAE025F82F4A8B</td>\n",
       "      <td>X9djPepD57A2BDCD418437C</td>\n",
       "      <td>{'BOHEMIAN': 0.00019316500000000003, 'CLASSIC_...</td>\n",
       "      <td>0.986163</td>\n",
       "      <td>NATURAL</td>\n",
       "      <td>00:01:41.31</td>\n",
       "      <td>...</td>\n",
       "      <td>5</td>\n",
       "      <td>[렌지대, 리바트, 침대형소파, 가공목(mdf외), 4층, 식탁의자, 아이와비, o...</td>\n",
       "      <td>0</td>\n",
       "      <td>{'image': 'https://resources.archisketch.com/e...</td>\n",
       "      <td>{'title': '', 'body': ''}</td>\n",
       "      <td>[XjDwfV4C2377DB2C32B4EBD, XrTVBz466807713843D4...</td>\n",
       "      <td>NaN</td>\n",
       "      <td>2022-03-06T04:49:13.054Z</td>\n",
       "      <td>2022-03-06T04:51:24.255Z</td>\n",
       "      <td>NATURAL</td>\n",
       "    </tr>\n",
       "    <tr>\n",
       "      <th>1</th>\n",
       "      <td>0.990285</td>\n",
       "      <td>2022-03-06</td>\n",
       "      <td>2022-03-06 08:11:26.221</td>\n",
       "      <td>B57D4F97C0E44A11</td>\n",
       "      <td>X9eSIiNE9BF42316EF94426</td>\n",
       "      <td>X9dban93BD94E4045124D77</td>\n",
       "      <td>{'BOHEMIAN': 0.000295741, 'CLASSIC_AND_ANTIQUE...</td>\n",
       "      <td>0.939667</td>\n",
       "      <td>MODERN</td>\n",
       "      <td>00:01:40.95</td>\n",
       "      <td>...</td>\n",
       "      <td>8</td>\n",
       "      <td>[]</td>\n",
       "      <td>4</td>\n",
       "      <td>{'image': 'https://resources.archisketch.com/e...</td>\n",
       "      <td>{'title': '', 'body': ''}</td>\n",
       "      <td>[AA4A41116A904BFC, F1BBC6E62B02416E, 88FFE5485...</td>\n",
       "      <td>NaN</td>\n",
       "      <td>2022-03-06T08:11:26.221Z</td>\n",
       "      <td>2022-03-06T08:30:22.868Z</td>\n",
       "      <td>MODERN</td>\n",
       "    </tr>\n",
       "  </tbody>\n",
       "</table>\n",
       "<p>2 rows × 38 columns</p>\n",
       "</div>"
      ],
      "text/plain": [
       "   awesome_score       date                datetime     enterprise_id  \\\n",
       "0       0.993074 2022-03-06 2022-03-06 04:49:13.054  B57D4F97C0E44A11   \n",
       "1       0.990285 2022-03-06 2022-03-06 08:11:26.221  B57D4F97C0E44A11   \n",
       "\n",
       "                        id                projectId  \\\n",
       "0  X9dj2Ve97CAE025F82F4A8B  X9djPepD57A2BDCD418437C   \n",
       "1  X9eSIiNE9BF42316EF94426  X9dban93BD94E4045124D77   \n",
       "\n",
       "                                   style_predictions  top_score top_style  \\\n",
       "0  {'BOHEMIAN': 0.00019316500000000003, 'CLASSIC_...   0.986163   NATURAL   \n",
       "1  {'BOHEMIAN': 0.000295741, 'CLASSIC_AND_ANTIQUE...   0.939667    MODERN   \n",
       "\n",
       "    remainTime  ... background  \\\n",
       "0  00:01:41.31  ...          5   \n",
       "1  00:01:40.95  ...          8   \n",
       "\n",
       "                                                tags  roomTag  \\\n",
       "0  [렌지대, 리바트, 침대형소파, 가공목(mdf외), 4층, 식탁의자, 아이와비, o...        0   \n",
       "1                                                 []        4   \n",
       "\n",
       "                                           watermark  \\\n",
       "0  {'image': 'https://resources.archisketch.com/e...   \n",
       "1  {'image': 'https://resources.archisketch.com/e...   \n",
       "\n",
       "                     comment  \\\n",
       "0  {'title': '', 'body': ''}   \n",
       "1  {'title': '', 'body': ''}   \n",
       "\n",
       "                                               items  archive  \\\n",
       "0  [XjDwfV4C2377DB2C32B4EBD, XrTVBz466807713843D4...      NaN   \n",
       "1  [AA4A41116A904BFC, F1BBC6E62B02416E, 88FFE5485...      NaN   \n",
       "\n",
       "                  createdAt                 updatedAt  top_style_1  \n",
       "0  2022-03-06T04:49:13.054Z  2022-03-06T04:51:24.255Z      NATURAL  \n",
       "1  2022-03-06T08:11:26.221Z  2022-03-06T08:30:22.868Z       MODERN  \n",
       "\n",
       "[2 rows x 38 columns]"
      ]
     },
     "execution_count": 48,
     "metadata": {},
     "output_type": "execute_result"
    }
   ],
   "source": [
    "templates.head(2)"
   ]
  },
  {
   "cell_type": "code",
   "execution_count": 49,
   "id": "8c104f89",
   "metadata": {},
   "outputs": [
    {
     "name": "stderr",
     "output_type": "stream",
     "text": [
      "/var/folders/9_/rnj5svk11p1157tkdv28yb6r0000gn/T/ipykernel_49011/894167859.py:1: FutureWarning: The default dtype for empty Series will be 'object' instead of 'float64' in a future version. Specify a dtype explicitly to silence this warning.\n",
      "  items_stack = pd.DataFrame(templates['items'].apply(lambda x: pd.Series(x)).stack()).reset_index(1, drop=True)\n"
     ]
    },
    {
     "data": {
      "text/html": [
       "<div>\n",
       "<style scoped>\n",
       "    .dataframe tbody tr th:only-of-type {\n",
       "        vertical-align: middle;\n",
       "    }\n",
       "\n",
       "    .dataframe tbody tr th {\n",
       "        vertical-align: top;\n",
       "    }\n",
       "\n",
       "    .dataframe thead th {\n",
       "        text-align: right;\n",
       "    }\n",
       "</style>\n",
       "<table border=\"1\" class=\"dataframe\">\n",
       "  <thead>\n",
       "    <tr style=\"text-align: right;\">\n",
       "      <th></th>\n",
       "      <th>0</th>\n",
       "    </tr>\n",
       "  </thead>\n",
       "  <tbody>\n",
       "    <tr>\n",
       "      <th>0</th>\n",
       "      <td>XjDwfV4C2377DB2C32B4EBD</td>\n",
       "    </tr>\n",
       "    <tr>\n",
       "      <th>0</th>\n",
       "      <td>XrTVBz466807713843D41CB</td>\n",
       "    </tr>\n",
       "    <tr>\n",
       "      <th>0</th>\n",
       "      <td>1DFB69B26D714ED5</td>\n",
       "    </tr>\n",
       "    <tr>\n",
       "      <th>0</th>\n",
       "      <td>68787D99716C4340</td>\n",
       "    </tr>\n",
       "    <tr>\n",
       "      <th>0</th>\n",
       "      <td>XZvSCSS8CD1831D050045BB</td>\n",
       "    </tr>\n",
       "    <tr>\n",
       "      <th>...</th>\n",
       "      <td>...</td>\n",
       "    </tr>\n",
       "    <tr>\n",
       "      <th>4555</th>\n",
       "      <td>XxzIVRTC57DDD7111544A95</td>\n",
       "    </tr>\n",
       "    <tr>\n",
       "      <th>4555</th>\n",
       "      <td>XPZDgbs0900F2C2D8F64A49</td>\n",
       "    </tr>\n",
       "    <tr>\n",
       "      <th>4555</th>\n",
       "      <td>63515C424CA0489D</td>\n",
       "    </tr>\n",
       "    <tr>\n",
       "      <th>4555</th>\n",
       "      <td>XkcvCQRD4A4AF021FE54BFD</td>\n",
       "    </tr>\n",
       "    <tr>\n",
       "      <th>4555</th>\n",
       "      <td>XkcwkG0F73B329FA4424961</td>\n",
       "    </tr>\n",
       "  </tbody>\n",
       "</table>\n",
       "<p>54939 rows × 1 columns</p>\n",
       "</div>"
      ],
      "text/plain": [
       "                            0\n",
       "0     XjDwfV4C2377DB2C32B4EBD\n",
       "0     XrTVBz466807713843D41CB\n",
       "0            1DFB69B26D714ED5\n",
       "0            68787D99716C4340\n",
       "0     XZvSCSS8CD1831D050045BB\n",
       "...                       ...\n",
       "4555  XxzIVRTC57DDD7111544A95\n",
       "4555  XPZDgbs0900F2C2D8F64A49\n",
       "4555         63515C424CA0489D\n",
       "4555  XkcvCQRD4A4AF021FE54BFD\n",
       "4555  XkcwkG0F73B329FA4424961\n",
       "\n",
       "[54939 rows x 1 columns]"
      ]
     },
     "execution_count": 49,
     "metadata": {},
     "output_type": "execute_result"
    }
   ],
   "source": [
    "items_stack = pd.DataFrame(templates['items'].apply(lambda x: pd.Series(x)).stack()).reset_index(1, drop=True) \n",
    "items_stack"
   ]
  },
  {
   "cell_type": "code",
   "execution_count": 50,
   "id": "6d52887e",
   "metadata": {},
   "outputs": [
    {
     "data": {
      "text/plain": [
       "(45411, 9528)"
      ]
     },
     "execution_count": 50,
     "metadata": {},
     "output_type": "execute_result"
    }
   ],
   "source": [
    "items_stack.duplicated().sum(), 54939-45411"
   ]
  },
  {
   "cell_type": "code",
   "execution_count": 51,
   "id": "bdc51a0b",
   "metadata": {},
   "outputs": [
    {
     "data": {
      "text/plain": [
       "54939"
      ]
     },
     "execution_count": 51,
     "metadata": {},
     "output_type": "execute_result"
    }
   ],
   "source": [
    "products_df = pd.merge(templates[['enterprise_id', \n",
    "                                  'top_style_1', \n",
    "                                  'top_style', \n",
    "                                  'projectId', \n",
    "                                  'awesome_score']].reset_index(), \n",
    "                       items_stack.reset_index(), \n",
    "                       on='index').drop(['index'], axis=1).rename(columns = {0:'product_id'})\n",
    "len(products_df)"
   ]
  },
  {
   "cell_type": "code",
   "execution_count": 52,
   "id": "51f64e6e",
   "metadata": {},
   "outputs": [
    {
     "data": {
      "text/html": [
       "<div>\n",
       "<style scoped>\n",
       "    .dataframe tbody tr th:only-of-type {\n",
       "        vertical-align: middle;\n",
       "    }\n",
       "\n",
       "    .dataframe tbody tr th {\n",
       "        vertical-align: top;\n",
       "    }\n",
       "\n",
       "    .dataframe thead th {\n",
       "        text-align: right;\n",
       "    }\n",
       "</style>\n",
       "<table border=\"1\" class=\"dataframe\">\n",
       "  <thead>\n",
       "    <tr style=\"text-align: right;\">\n",
       "      <th></th>\n",
       "      <th>enterprise_id</th>\n",
       "      <th>top_style_1</th>\n",
       "      <th>top_style</th>\n",
       "      <th>projectId</th>\n",
       "      <th>awesome_score</th>\n",
       "      <th>product_id</th>\n",
       "    </tr>\n",
       "  </thead>\n",
       "  <tbody>\n",
       "    <tr>\n",
       "      <th>11514</th>\n",
       "      <td>421B6D0E746C4E6D</td>\n",
       "      <td>MODERN</td>\n",
       "      <td>MODERN</td>\n",
       "      <td>X8lxCwVE40C012658D14CAF</td>\n",
       "      <td>0.990975</td>\n",
       "      <td>XYmsm7pDACA37C0FCB843C3</td>\n",
       "    </tr>\n",
       "    <tr>\n",
       "      <th>11530</th>\n",
       "      <td>421B6D0E746C4E6D</td>\n",
       "      <td>MODERN</td>\n",
       "      <td>MODERN</td>\n",
       "      <td>X8lxCwVE40C012658D14CAF</td>\n",
       "      <td>0.990975</td>\n",
       "      <td>XYmsm7pDACA37C0FCB843C3</td>\n",
       "    </tr>\n",
       "    <tr>\n",
       "      <th>11546</th>\n",
       "      <td>421B6D0E746C4E6D</td>\n",
       "      <td>MODERN</td>\n",
       "      <td>MODERN</td>\n",
       "      <td>X8lxCwVE40C012658D14CAF</td>\n",
       "      <td>0.990975</td>\n",
       "      <td>XYmsm7pDACA37C0FCB843C3</td>\n",
       "    </tr>\n",
       "    <tr>\n",
       "      <th>11562</th>\n",
       "      <td>421B6D0E746C4E6D</td>\n",
       "      <td>MODERN</td>\n",
       "      <td>MODERN</td>\n",
       "      <td>X8lxCwVE40C012658D14CAF</td>\n",
       "      <td>0.990975</td>\n",
       "      <td>XYmsm7pDACA37C0FCB843C3</td>\n",
       "    </tr>\n",
       "  </tbody>\n",
       "</table>\n",
       "</div>"
      ],
      "text/plain": [
       "          enterprise_id top_style_1 top_style                projectId  \\\n",
       "11514  421B6D0E746C4E6D      MODERN    MODERN  X8lxCwVE40C012658D14CAF   \n",
       "11530  421B6D0E746C4E6D      MODERN    MODERN  X8lxCwVE40C012658D14CAF   \n",
       "11546  421B6D0E746C4E6D      MODERN    MODERN  X8lxCwVE40C012658D14CAF   \n",
       "11562  421B6D0E746C4E6D      MODERN    MODERN  X8lxCwVE40C012658D14CAF   \n",
       "\n",
       "       awesome_score               product_id  \n",
       "11514       0.990975  XYmsm7pDACA37C0FCB843C3  \n",
       "11530       0.990975  XYmsm7pDACA37C0FCB843C3  \n",
       "11546       0.990975  XYmsm7pDACA37C0FCB843C3  \n",
       "11562       0.990975  XYmsm7pDACA37C0FCB843C3  "
      ]
     },
     "execution_count": 52,
     "metadata": {},
     "output_type": "execute_result"
    }
   ],
   "source": [
    "products_df[products_df['product_id'] == 'XYmsm7pDACA37C0FCB843C3']"
   ]
  },
  {
   "cell_type": "code",
   "execution_count": 37,
   "id": "acac24db",
   "metadata": {},
   "outputs": [
    {
     "data": {
      "text/html": [
       "<div>\n",
       "<style scoped>\n",
       "    .dataframe tbody tr th:only-of-type {\n",
       "        vertical-align: middle;\n",
       "    }\n",
       "\n",
       "    .dataframe tbody tr th {\n",
       "        vertical-align: top;\n",
       "    }\n",
       "\n",
       "    .dataframe thead th {\n",
       "        text-align: right;\n",
       "    }\n",
       "</style>\n",
       "<table border=\"1\" class=\"dataframe\">\n",
       "  <thead>\n",
       "    <tr style=\"text-align: right;\">\n",
       "      <th></th>\n",
       "      <th>enterprise_id</th>\n",
       "      <th>top_style_1</th>\n",
       "      <th>top_style</th>\n",
       "      <th>projectId</th>\n",
       "      <th>awesome_score</th>\n",
       "      <th>product_id</th>\n",
       "    </tr>\n",
       "  </thead>\n",
       "  <tbody>\n",
       "    <tr>\n",
       "      <th>0</th>\n",
       "      <td>B57D4F97C0E44A11</td>\n",
       "      <td>NATURAL</td>\n",
       "      <td>NATURAL</td>\n",
       "      <td>X9djPepD57A2BDCD418437C</td>\n",
       "      <td>0.993074</td>\n",
       "      <td>XjDwfV4C2377DB2C32B4EBD</td>\n",
       "    </tr>\n",
       "    <tr>\n",
       "      <th>1</th>\n",
       "      <td>B57D4F97C0E44A11</td>\n",
       "      <td>NATURAL</td>\n",
       "      <td>NATURAL</td>\n",
       "      <td>X9djPepD57A2BDCD418437C</td>\n",
       "      <td>0.993074</td>\n",
       "      <td>XrTVBz466807713843D41CB</td>\n",
       "    </tr>\n",
       "    <tr>\n",
       "      <th>2</th>\n",
       "      <td>B57D4F97C0E44A11</td>\n",
       "      <td>NATURAL</td>\n",
       "      <td>NATURAL</td>\n",
       "      <td>X9djPepD57A2BDCD418437C</td>\n",
       "      <td>0.993074</td>\n",
       "      <td>1DFB69B26D714ED5</td>\n",
       "    </tr>\n",
       "    <tr>\n",
       "      <th>3</th>\n",
       "      <td>B57D4F97C0E44A11</td>\n",
       "      <td>NATURAL</td>\n",
       "      <td>NATURAL</td>\n",
       "      <td>X9djPepD57A2BDCD418437C</td>\n",
       "      <td>0.993074</td>\n",
       "      <td>68787D99716C4340</td>\n",
       "    </tr>\n",
       "    <tr>\n",
       "      <th>4</th>\n",
       "      <td>B57D4F97C0E44A11</td>\n",
       "      <td>NATURAL</td>\n",
       "      <td>NATURAL</td>\n",
       "      <td>X9djPepD57A2BDCD418437C</td>\n",
       "      <td>0.993074</td>\n",
       "      <td>XZvSCSS8CD1831D050045BB</td>\n",
       "    </tr>\n",
       "    <tr>\n",
       "      <th>...</th>\n",
       "      <td>...</td>\n",
       "      <td>...</td>\n",
       "      <td>...</td>\n",
       "      <td>...</td>\n",
       "      <td>...</td>\n",
       "      <td>...</td>\n",
       "    </tr>\n",
       "    <tr>\n",
       "      <th>54934</th>\n",
       "      <td>B57D4F97C0E44A11</td>\n",
       "      <td>MODERN</td>\n",
       "      <td>MODERN</td>\n",
       "      <td>X3G2GQG755739AB6AE6445F</td>\n",
       "      <td>0.804627</td>\n",
       "      <td>XxzIVRTC57DDD7111544A95</td>\n",
       "    </tr>\n",
       "    <tr>\n",
       "      <th>54935</th>\n",
       "      <td>B57D4F97C0E44A11</td>\n",
       "      <td>MODERN</td>\n",
       "      <td>MODERN</td>\n",
       "      <td>X3G2GQG755739AB6AE6445F</td>\n",
       "      <td>0.804627</td>\n",
       "      <td>XPZDgbs0900F2C2D8F64A49</td>\n",
       "    </tr>\n",
       "    <tr>\n",
       "      <th>54936</th>\n",
       "      <td>B57D4F97C0E44A11</td>\n",
       "      <td>MODERN</td>\n",
       "      <td>MODERN</td>\n",
       "      <td>X3G2GQG755739AB6AE6445F</td>\n",
       "      <td>0.804627</td>\n",
       "      <td>63515C424CA0489D</td>\n",
       "    </tr>\n",
       "    <tr>\n",
       "      <th>54937</th>\n",
       "      <td>B57D4F97C0E44A11</td>\n",
       "      <td>MODERN</td>\n",
       "      <td>MODERN</td>\n",
       "      <td>X3G2GQG755739AB6AE6445F</td>\n",
       "      <td>0.804627</td>\n",
       "      <td>XkcvCQRD4A4AF021FE54BFD</td>\n",
       "    </tr>\n",
       "    <tr>\n",
       "      <th>54938</th>\n",
       "      <td>B57D4F97C0E44A11</td>\n",
       "      <td>MODERN</td>\n",
       "      <td>MODERN</td>\n",
       "      <td>X3G2GQG755739AB6AE6445F</td>\n",
       "      <td>0.804627</td>\n",
       "      <td>XkcwkG0F73B329FA4424961</td>\n",
       "    </tr>\n",
       "  </tbody>\n",
       "</table>\n",
       "<p>50807 rows × 6 columns</p>\n",
       "</div>"
      ],
      "text/plain": [
       "          enterprise_id top_style_1 top_style                projectId  \\\n",
       "0      B57D4F97C0E44A11     NATURAL   NATURAL  X9djPepD57A2BDCD418437C   \n",
       "1      B57D4F97C0E44A11     NATURAL   NATURAL  X9djPepD57A2BDCD418437C   \n",
       "2      B57D4F97C0E44A11     NATURAL   NATURAL  X9djPepD57A2BDCD418437C   \n",
       "3      B57D4F97C0E44A11     NATURAL   NATURAL  X9djPepD57A2BDCD418437C   \n",
       "4      B57D4F97C0E44A11     NATURAL   NATURAL  X9djPepD57A2BDCD418437C   \n",
       "...                 ...         ...       ...                      ...   \n",
       "54934  B57D4F97C0E44A11      MODERN    MODERN  X3G2GQG755739AB6AE6445F   \n",
       "54935  B57D4F97C0E44A11      MODERN    MODERN  X3G2GQG755739AB6AE6445F   \n",
       "54936  B57D4F97C0E44A11      MODERN    MODERN  X3G2GQG755739AB6AE6445F   \n",
       "54937  B57D4F97C0E44A11      MODERN    MODERN  X3G2GQG755739AB6AE6445F   \n",
       "54938  B57D4F97C0E44A11      MODERN    MODERN  X3G2GQG755739AB6AE6445F   \n",
       "\n",
       "       awesome_score               product_id  \n",
       "0           0.993074  XjDwfV4C2377DB2C32B4EBD  \n",
       "1           0.993074  XrTVBz466807713843D41CB  \n",
       "2           0.993074         1DFB69B26D714ED5  \n",
       "3           0.993074         68787D99716C4340  \n",
       "4           0.993074  XZvSCSS8CD1831D050045BB  \n",
       "...              ...                      ...  \n",
       "54934       0.804627  XxzIVRTC57DDD7111544A95  \n",
       "54935       0.804627  XPZDgbs0900F2C2D8F64A49  \n",
       "54936       0.804627         63515C424CA0489D  \n",
       "54937       0.804627  XkcvCQRD4A4AF021FE54BFD  \n",
       "54938       0.804627  XkcwkG0F73B329FA4424961  \n",
       "\n",
       "[50807 rows x 6 columns]"
      ]
     },
     "execution_count": 37,
     "metadata": {},
     "output_type": "execute_result"
    }
   ],
   "source": [
    "products_df.drop_duplicates()"
   ]
  },
  {
   "cell_type": "code",
   "execution_count": null,
   "id": "8b99a676",
   "metadata": {},
   "outputs": [],
   "source": []
  },
  {
   "cell_type": "code",
   "execution_count": null,
   "id": "47197079",
   "metadata": {},
   "outputs": [],
   "source": []
  }
 ],
 "metadata": {
  "kernelspec": {
   "display_name": "Python 3 (ipykernel)",
   "language": "python",
   "name": "python3"
  },
  "language_info": {
   "codemirror_mode": {
    "name": "ipython",
    "version": 3
   },
   "file_extension": ".py",
   "mimetype": "text/x-python",
   "name": "python",
   "nbconvert_exporter": "python",
   "pygments_lexer": "ipython3",
   "version": "3.8.12"
  }
 },
 "nbformat": 4,
 "nbformat_minor": 5
}
